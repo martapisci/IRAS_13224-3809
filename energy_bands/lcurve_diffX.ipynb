{
 "cells": [
  {
   "cell_type": "code",
   "execution_count": 82,
   "metadata": {},
   "outputs": [],
   "source": [
    "import os"
   ]
  },
  {
   "cell_type": "code",
   "execution_count": 83,
   "metadata": {},
   "outputs": [
    {
     "name": "stdout",
     "output_type": "stream",
     "text": [
      "/Users/martapiscitelli/Analisi_tesi/dati_LC/cam_345970/build\n"
     ]
    }
   ],
   "source": [
    "!pwd\n"
   ]
  },
  {
   "cell_type": "code",
   "execution_count": 84,
   "metadata": {},
   "outputs": [],
   "source": [
    "import pandas as pd\n",
    "import numpy as np"
   ]
  },
  {
   "cell_type": "code",
   "execution_count": 85,
   "metadata": {},
   "outputs": [],
   "source": [
    "import matplotlib.pyplot as plt\n",
    "\n",
    "\n",
    "\n"
   ]
  },
  {
   "cell_type": "code",
   "execution_count": 86,
   "metadata": {},
   "outputs": [
    {
     "name": "stdout",
     "output_type": "stream",
     "text": [
      "       Time  time_err  0.3-1.5keV  0.3-1.5keV_err  1.5-10keV  1.5-10keV_err  \\\n",
      "0   2287.59  0.070694    0.094452        0.007342   0.015703       0.003011   \n",
      "1   2291.34  0.169178    0.157264        0.010393   0.024009       0.004254   \n",
      "2   2292.08  0.433403    0.104382        0.009079   0.009656       0.002804   \n",
      "3   2293.01  0.242859    0.195584        0.015051   0.020040       0.004910   \n",
      "4   2297.67  0.036701    0.057294        0.007129   0.008348       0.002742   \n",
      "5   2298.76  0.070046    0.114828        0.011220   0.010100       0.003421   \n",
      "6   2300.37  0.002558    0.061520        0.015751   0.003134       0.003736   \n",
      "7   2301.95  0.345845    0.120237        0.008695   0.008074       0.002325   \n",
      "8   2303.22  0.073762    0.310580        0.018355   0.043757       0.006964   \n",
      "9   2304.53  0.072824    0.127225        0.009927   0.015129       0.003366   \n",
      "10  2304.97  0.113067    0.093144        0.007710   0.013781       0.003021   \n",
      "11  2306.37  0.026921    0.152090        0.013299   0.019424       0.004716   \n",
      "12  2312.70  0.012731    0.195891        0.032914   0.021354       0.010942   \n",
      "13  2317.17  0.343681    0.192988        0.010986   0.035224       0.004739   \n",
      "14  2318.46  0.039850    0.076109        0.008186   0.005644       0.002280   \n",
      "15  2318.92  0.035498    0.126494        0.008829   0.017446       0.003328   \n",
      "16  2320.98  0.039236    0.342696        0.018039   0.050212       0.007013   \n",
      "17  2322.25  0.229664    0.262900        0.015382   0.066016       0.008024   \n",
      "18  2323.01  0.004387    0.141099        0.015142   0.025310       0.006455   \n",
      "19  2324.21  0.009340    0.316542        0.020702   0.049463       0.008307   \n",
      "20  2324.58  0.038484    0.396710        0.020667   0.053763       0.007709   \n",
      "21  2328.56  0.038507    0.042624        0.005208   0.005472       0.001858   \n",
      "\n",
      "          HR    HR_err  \n",
      "0   0.166251  0.034401  \n",
      "1   0.152668  0.028869  \n",
      "2   0.092508  0.028046  \n",
      "3   0.102462  0.026314  \n",
      "4   0.145707  0.051178  \n",
      "5   0.087958  0.031004  \n",
      "6   0.050936  0.062114  \n",
      "7   0.067152  0.019934  \n",
      "8   0.140888  0.023920  \n",
      "9   0.118915  0.028035  \n",
      "10  0.147954  0.034666  \n",
      "11  0.127714  0.032961  \n",
      "12  0.109009  0.058783  \n",
      "13  0.182520  0.026663  \n",
      "14  0.074163  0.031000  \n",
      "15  0.137918  0.028017  \n",
      "16  0.146520  0.021870  \n",
      "17  0.251108  0.033873  \n",
      "18  0.179376  0.049630  \n",
      "19  0.156261  0.028163  \n",
      "20  0.135522  0.020676  \n",
      "21  0.128371  0.046320  \n",
      "       Time  time_err  0.3-2.5keV  0.3-2.5keV_err  2.5-10keV  2.5-10keV_err  \\\n",
      "0   2287.59  0.070694    0.105476        0.007759   0.004119       0.001571   \n",
      "1   2291.34  0.169178    0.168848        0.010798   0.011782       0.003009   \n",
      "2   2292.08  0.433403    0.109619        0.009307   0.003647       0.001760   \n",
      "3   2293.01  0.242859    0.207563        0.015526   0.008094       0.003098   \n",
      "4   2297.67  0.036701    0.058926        0.007233   0.006716       0.002456   \n",
      "5   2298.76  0.070046    0.119062        0.011439   0.005874       0.002598   \n",
      "6   2300.37  0.002558    0.061415        0.015751   0.003234       0.003736   \n",
      "7   2301.95  0.345845    0.126262        0.008913   0.001402       0.001068   \n",
      "8   2303.22  0.073762    0.334803        0.019055   0.018468       0.004601   \n",
      "9   2304.53  0.072824    0.135689        0.010230   0.006664       0.002278   \n",
      "10  2304.97  0.113067    0.101160        0.008037   0.005146       0.001898   \n",
      "11  2306.37  0.026921    0.159380        0.013589   0.009672       0.003379   \n",
      "12  2312.70  0.012731    0.201230        0.033366   0.016015       0.009476   \n",
      "13  2317.17  0.343681    0.215774        0.011618   0.011808       0.002784   \n",
      "14  2318.46  0.039850    0.080294        0.008411   0.001460       0.001214   \n",
      "15  2318.92  0.035498    0.138415        0.009238   0.005540       0.001920   \n",
      "16  2320.98  0.039236    0.373321        0.018831   0.017367       0.004192   \n",
      "17  2322.25  0.229664    0.305098        0.016587   0.021521       0.004867   \n",
      "18  2323.01  0.004387    0.163583        0.016299   0.002823       0.002302   \n",
      "19  2324.21  0.009340    0.355087        0.021964   0.010950       0.003896   \n",
      "20  2324.58  0.038484    0.431472        0.021560   0.016873       0.004412   \n",
      "21  2328.56  0.038507    0.047164        0.005464   0.001510       0.001026   \n",
      "\n",
      "          HR    HR_err  \n",
      "0   0.039053  0.015166  \n",
      "1   0.069776  0.018371  \n",
      "2   0.033266  0.016298  \n",
      "3   0.038995  0.015207  \n",
      "4   0.113970  0.043963  \n",
      "5   0.049332  0.022326  \n",
      "6   0.052652  0.062307  \n",
      "7   0.011104  0.008488  \n",
      "8   0.055160  0.014098  \n",
      "9   0.049113  0.017188  \n",
      "10  0.050873  0.019191  \n",
      "11  0.060687  0.021821  \n",
      "12  0.079585  0.048902  \n",
      "13  0.054723  0.013229  \n",
      "14  0.018180  0.015242  \n",
      "15  0.040023  0.014125  \n",
      "16  0.046520  0.011471  \n",
      "17  0.070537  0.016406  \n",
      "18  0.017255  0.014179  \n",
      "19  0.030836  0.011135  \n",
      "20  0.039105  0.010410  \n",
      "21  0.032015  0.022060  \n",
      "       Time  time_err  0.3-2keV  0.3-2keV_err   2-10keV  2-10keV_err  \\\n",
      "0   2287.59  0.070694  0.102806      0.007659  0.006790     0.002000   \n",
      "1   2291.34  0.169178  0.165666      0.010702  0.014976     0.003332   \n",
      "2   2292.08  0.433403  0.108202      0.009243  0.005066     0.002068   \n",
      "3   2293.01  0.242859  0.205179      0.015433  0.010467     0.003534   \n",
      "4   2297.67  0.036701  0.058106      0.007181  0.007536     0.002603   \n",
      "5   2298.76  0.070046  0.115798      0.011275  0.009131     0.003236   \n",
      "6   2300.37  0.002558  0.061450      0.015751  0.003200     0.003736   \n",
      "7   2301.95  0.345845  0.124461      0.008844  0.003209     0.001538   \n",
      "8   2303.22  0.073762  0.326288      0.018806  0.026957     0.005529   \n",
      "9   2304.53  0.072824  0.133709      0.010166  0.008651     0.002554   \n",
      "10  2304.97  0.113067  0.100022      0.007988  0.006285     0.002093   \n",
      "11  2306.37  0.026921  0.159438      0.013589  0.009615     0.003379   \n",
      "12  2312.70  0.001273  0.201230      0.033366  0.016015     0.009476   \n",
      "13  2317.17  0.343681  0.211484      0.011502  0.016099     0.003232   \n",
      "14  2318.46  0.039850  0.079457      0.008367  0.002297     0.001487   \n",
      "15  2318.92  0.035498  0.135473      0.009138  0.008482     0.002350   \n",
      "16  2320.98  0.039236  0.365421      0.018614  0.025252     0.005072   \n",
      "17  2322.25  0.229664  0.292508      0.016211  0.034127     0.006006   \n",
      "18  2323.01  0.004387  0.152417      0.015739  0.013993     0.004820   \n",
      "19  2324.21  0.009340  0.346930      0.021704  0.019092     0.005149   \n",
      "20  2324.58  0.038484  0.423071      0.021345  0.025272     0.005355   \n",
      "21  2328.56  0.038507  0.044895      0.005338  0.003191     0.001442   \n",
      "\n",
      "          HR    HR_err  Unnamed: 8  \n",
      "0   0.066048  0.020071         NaN  \n",
      "1   0.090396  0.020945         NaN  \n",
      "2   0.046816  0.019525         NaN  \n",
      "3   0.051013  0.017645         NaN  \n",
      "4   0.129694  0.047578         NaN  \n",
      "5   0.078851  0.028978         NaN  \n",
      "6   0.052079  0.062242         NaN  \n",
      "7   0.025781  0.012492         NaN  \n",
      "8   0.082617  0.017601         NaN  \n",
      "9   0.064699  0.019723         NaN  \n",
      "10  0.062836  0.021517         NaN  \n",
      "11  0.060307  0.021807         NaN  \n",
      "12  0.079585  0.048902         NaN  \n",
      "13  0.076123  0.015832         NaN  \n",
      "14  0.028904  0.018958         NaN  \n",
      "15  0.062613  0.017855         NaN  \n",
      "16  0.069105  0.014319         NaN  \n",
      "17  0.116670  0.021528         NaN  \n",
      "18  0.091807  0.033014         NaN  \n",
      "19  0.055032  0.015235         NaN  \n",
      "20  0.059735  0.013011         NaN  \n",
      "21  0.071071  0.033215         NaN  \n",
      "       Time  time_err  0.3-1keV  0.3-1keV_err   3-10keV  3-10keV_err  \\\n",
      "0   2287.59  0.070694  0.082391      0.006856  0.003041     0.001360   \n",
      "1   2291.34  0.169178  0.123412      0.009215  0.008138     0.002515   \n",
      "2   2292.08  0.433403  0.080916      0.007990  0.003695     0.001759   \n",
      "3   2293.01  0.242859  0.162402      0.013666  0.007358     0.003031   \n",
      "4   2297.67  0.036701  0.050443      0.006691  0.004980     0.002127   \n",
      "5   2298.76  0.070046  0.107459      0.010846  0.002764     0.001845   \n",
      "6   2300.37  0.002558  0.057772      0.015254  0.003367     0.003735   \n",
      "7   2301.95  0.345845  0.106608      0.008181  0.001459     0.001067   \n",
      "8   2303.22  0.073762  0.256669      0.016735  0.014216     0.004068   \n",
      "9   2304.53  0.072824  0.108382      0.009131  0.006103     0.002179   \n",
      "10  2304.97  0.113067  0.081533      0.007210  0.003359     0.001551   \n",
      "11  2306.37  0.026921  0.133430      0.012440  0.006318     0.002763   \n",
      "12  2312.70  0.012731  0.179483      0.031521  0.016146     0.009475   \n",
      "13  2317.17  0.343681  0.161695      0.010058  0.008104     0.002325   \n",
      "14  2318.46  0.039850  0.061344      0.007344  0.000636     0.000859   \n",
      "15  2318.92  0.035498  0.103693      0.007997  0.004932     0.001821   \n",
      "16  2320.98  0.039236  0.251933      0.015436  0.012224     0.003472   \n",
      "17  2322.25  0.229664  0.203389      0.013523  0.013929     0.003913   \n",
      "18  2323.01  0.004387  0.117016      0.013797  0.002900     0.002302   \n",
      "19  2324.21  0.009340  0.247355      0.018303  0.009693     0.003642   \n",
      "20  2324.58  0.038484  0.298405      0.017930  0.011631     0.003691   \n",
      "21  2328.56  0.038507  0.030665      0.004446  0.000945     0.000842   \n",
      "\n",
      "          HR    HR_err  \n",
      "0   0.036907  0.016795  \n",
      "1   0.065938  0.020967  \n",
      "2   0.045667  0.022205  \n",
      "3   0.045307  0.019048  \n",
      "4   0.098724  0.044156  \n",
      "5   0.025719  0.017366  \n",
      "6   0.058279  0.066458  \n",
      "7   0.013690  0.010061  \n",
      "8   0.055386  0.016256  \n",
      "9   0.056310  0.020655  \n",
      "10  0.041193  0.019372  \n",
      "11  0.047352  0.021172  \n",
      "12  0.089957  0.055102  \n",
      "13  0.050119  0.014715  \n",
      "14  0.010374  0.014062  \n",
      "15  0.047566  0.017942  \n",
      "16  0.048523  0.014098  \n",
      "17  0.068482  0.019770  \n",
      "18  0.024787  0.019886  \n",
      "19  0.039185  0.015007  \n",
      "20  0.038978  0.012588  \n",
      "21  0.030827  0.027831  \n"
     ]
    }
   ],
   "source": [
    "lcurve1=pd.read_csv('./plot_345970-1.cvs',\n",
    "encoding='latin-1',\n",
    "    sep=\";\"\n",
    ")\n",
    "print(lcurve1)\n",
    "\n",
    "lcurve2=pd.read_csv('./plot_345970-2.cvs',\n",
    "encoding='latin-1',\n",
    "    sep=\";\"\n",
    ")\n",
    "print(lcurve2)\n",
    "\n",
    "lcurve3=pd.read_csv('./plot_345970-3.cvs',\n",
    "encoding='latin-1',\n",
    "    sep=\";\"\n",
    ")\n",
    "print(lcurve3)\n",
    "\n",
    "lcurve4=pd.read_csv('./plot_345970-4.cvs',\n",
    "encoding='latin-1',\n",
    "    sep=\";\"\n",
    ")\n",
    "print(lcurve4)\n"
   ]
  },
  {
   "cell_type": "code",
   "execution_count": 87,
   "metadata": {},
   "outputs": [
    {
     "data": {
      "text/plain": [
       "Index(['Time', 'time_err', '0.3-1.5keV', '0.3-1.5keV_err', '1.5-10keV',\n",
       "       '1.5-10keV_err', 'HR', 'HR_err'],\n",
       "      dtype='object')"
      ]
     },
     "execution_count": 87,
     "metadata": {},
     "output_type": "execute_result"
    }
   ],
   "source": [
    "lcurve1.columns\n"
   ]
  },
  {
   "cell_type": "code",
   "execution_count": 88,
   "metadata": {},
   "outputs": [
    {
     "data": {
      "text/plain": [
       "0     0.166251\n",
       "1     0.152668\n",
       "2     0.092508\n",
       "3     0.102462\n",
       "4     0.145707\n",
       "5     0.087958\n",
       "6     0.050936\n",
       "7     0.067152\n",
       "8     0.140888\n",
       "9     0.118915\n",
       "10    0.147954\n",
       "11    0.127714\n",
       "12    0.109009\n",
       "13    0.182520\n",
       "14    0.074163\n",
       "15    0.137918\n",
       "16    0.146520\n",
       "17    0.251108\n",
       "18    0.179376\n",
       "19    0.156261\n",
       "20    0.135522\n",
       "21    0.128371\n",
       "Name: HR, dtype: float64"
      ]
     },
     "execution_count": 88,
     "metadata": {},
     "output_type": "execute_result"
    }
   ],
   "source": [
    "lcurve1[\"HR\"]\n"
   ]
  },
  {
   "cell_type": "code",
   "execution_count": 89,
   "metadata": {},
   "outputs": [
    {
     "name": "stdout",
     "output_type": "stream",
     "text": [
      "2287.59\n",
      "2287.59\n",
      "2287.59\n",
      "2287.59\n"
     ]
    }
   ],
   "source": [
    "lcurve1[\"Time\"]\n",
    "matrix = lcurve1.to_numpy()\n",
    "t01 = matrix[0][0]\n",
    "print(t01)\n",
    "\n",
    "lcurve2[\"Time\"]\n",
    "matrix2 = lcurve2.to_numpy()\n",
    "t02 = matrix[0][0]\n",
    "print(t02)\n",
    "\n",
    "lcurve3[\"Time\"]\n",
    "matrix3 = lcurve3.to_numpy()\n",
    "t03 = matrix[0][0]\n",
    "print(t03)\n",
    "\n",
    "lcurve4[\"Time\"]\n",
    "matrix4 = lcurve4.to_numpy()\n",
    "t04 = matrix[0][0]\n",
    "print(t04)\n",
    "#t0 = 'Time'[1;1]"
   ]
  },
  {
   "cell_type": "code",
   "execution_count": 90,
   "metadata": {},
   "outputs": [],
   "source": [
    "lcurve1['Time'] = lcurve1['Time'] - t01\n",
    "lcurve2['Time'] = lcurve2['Time'] - t02\n",
    "lcurve3['Time'] = lcurve3['Time'] - t03\n",
    "lcurve4['Time'] = lcurve4['Time'] - t04"
   ]
  },
  {
   "cell_type": "code",
   "execution_count": 91,
   "metadata": {},
   "outputs": [
    {
     "data": {
      "image/png": "[encoded data removed]",
      "text/plain": [
       "<Figure size 1500x500 with 1 Axes>"
      ]
     },
     "metadata": {},
     "output_type": "display_data"
    }
   ],
   "source": [
    "#lcurve['4-6keV'].plot(figsize=(15,5))\n",
    "#lcurve['HR'].plot(figsize=(15,5))\n",
    "\n",
    "\n",
    "lcurve1.plot(x ='Time',xerr='time_err', y='HR', yerr='HR_err', kind = 'scatter',figsize=(15,5))\n",
    "plt.savefig(\"LC_HR_1.pdf\") \n",
    "plt.show()\n"
   ]
  },
  {
   "cell_type": "code",
   "execution_count": 92,
   "metadata": {},
   "outputs": [
    {
     "data": {
      "image/png": "[encoded data removed]",
      "text/plain": [
       "<Figure size 1500x500 with 1 Axes>"
      ]
     },
     "metadata": {},
     "output_type": "display_data"
    }
   ],
   "source": [
    "\n",
    "lcurve2.plot(x ='Time',xerr='time_err', y='HR', yerr='HR_err', kind = 'scatter',figsize=(15,5))\n",
    "plt.savefig(\"LC_HR_2.pdf\") \n",
    "plt.show()"
   ]
  },
  {
   "cell_type": "code",
   "execution_count": 93,
   "metadata": {},
   "outputs": [
    {
     "data": {
      "image/png": "[encoded data removed]",
      "text/plain": [
       "<Figure size 1500x500 with 1 Axes>"
      ]
     },
     "metadata": {},
     "output_type": "display_data"
    }
   ],
   "source": [
    "lcurve3.plot(x ='Time',xerr='time_err', y='HR', yerr='HR_err', kind = 'scatter',figsize=(15,5))\n",
    "plt.savefig(\"LC_HR_3.pdf\") \n",
    "plt.show()"
   ]
  },
  {
   "cell_type": "code",
   "execution_count": 94,
   "metadata": {},
   "outputs": [
    {
     "data": {
      "image/png": "[encoded data removed]",
      "text/plain": [
       "<Figure size 1500x500 with 1 Axes>"
      ]
     },
     "metadata": {},
     "output_type": "display_data"
    }
   ],
   "source": [
    "lcurve4.plot(x ='Time',xerr='time_err', y='HR', yerr='HR_err', kind = 'scatter',figsize=(15,5))\n",
    "plt.savefig(\"LC_HR_4.pdf\") \n",
    "plt.show()"
   ]
  },
  {
   "cell_type": "code",
   "execution_count": 149,
   "metadata": {},
   "outputs": [
    {
     "data": {
      "text/plain": [
       "Text(0.5, 58.7222222222222, 'Time[days]')"
      ]
     },
     "execution_count": 149,
     "metadata": {},
     "output_type": "execute_result"
    },
    {
     "data": {
      "text/plain": [
       "<Figure size 700x800 with 0 Axes>"
      ]
     },
     "metadata": {},
     "output_type": "display_data"
    },
    {
     "data": {
      "image/png": "[encoded data removed]",
      "text/plain": [
       "<Figure size 700x800 with 4 Axes>"
      ]
     },
     "metadata": {},
     "output_type": "display_data"
    }
   ],
   "source": [
    "w = 7\n",
    "h = 8\n",
    "fig = plt.figure(figsize=(w,h))\n",
    "\n",
    "fig, axs = plt.subplots(4,figsize= (w,h),sharex= True)\n",
    "fig.suptitle('HR Comparison',x=0.5, y=1.05)\n",
    "\n",
    "\n",
    "\n",
    "axs[0].errorbar(lcurve1['Time'],lcurve1['time_err'], lcurve1['HR'],lcurve1['HR_err'],linestyle='None',marker='.')\n",
    "axs[1].errorbar(lcurve2['Time'],lcurve2['time_err'], lcurve2['HR'],lcurve2['HR_err'],linestyle='None',marker='.')\n",
    "axs[2].errorbar(lcurve3['Time'],lcurve3['time_err'], lcurve3['HR'],lcurve3['HR_err'],linestyle='None',marker='.')\n",
    "axs[3].errorbar(lcurve4['Time'],lcurve4['time_err'], lcurve4['HR'],lcurve4['HR_err'],linestyle='None',marker='.')\n",
    "plt.tight_layout()\n",
    "\n",
    "axs[0].set_title('0.3-1.5keV 1.5-10keV')\n",
    "axs[1].set_title('0.3-2.5keV 2.5-10keV')\n",
    "axs[2].set_title('0.3-2keV 2-10keV')\n",
    "axs[3].set_title('0.3-1keV 3-10keV')\n",
    "\n",
    "fig.subplots_adjust(hspace=0.35)\n",
    "\n",
    "for subplot in axs:\n",
    "    subplot.set_ylabel(\"HR\")\n",
    "\n",
    "plt.xlabel(\"Time[days]\")\n"
   ]
  },
  {
   "cell_type": "code",
   "execution_count": null,
   "metadata": {},
   "outputs": [],
   "source": [
    "############### PARAMETERS ##############\n",
    "## Frequencies ratio gamma = Omega/delta\n",
    "#freq_ratio = [0.01, 0.1, 0.25, 0.5, 1]\n",
    "#delta = 2*pi*0.02\n",
    "## time step\n",
    "#dt = .5 # micro s\n",
    "## final time\n",
    "#t_fin = 200 # micro s\n",
    "#########################################\n",
    "#\n",
    "#\n",
    "#\n",
    "## number of time steps\n",
    "#t_steps = t_fin/dt\n",
    "## time vector\n",
    "#t= np.arange(0, t_fin + dt, dt)\n",
    "#\n",
    "## Unitary rotation\n",
    "#def R(t, delta):\n",
    "#    return linalg.expm(0.5j*delta*t*np.kron(np.kron(id_2, id_2), sgm_z) )\n",
    "#\n",
    "## rotated Hamiltonian\n",
    "#def H_rotated(freq_ratio,delta):\n",
    "#    return 0.5*freq_ratio*delta*np.kron(np.kron(sgm_x,id_2) + np.kron(id_2,sgm_x), \\\n",
    "#                    a_dagger + a) - 0.5*delta*np.kron(np.kron(id_2, id_2), sgm_z)\n",
    "#\n",
    "# Prepare plot of mean <sgm_z> as a function of t, for different frequency ratios\n",
    "cmap = plt.get_cmap('Set2')\n",
    "w = 8\n",
    "h = 10\n",
    "fig = plt.figure(figsize=(w,h))\n",
    "tl = '$\\delta = 2\\pi\\\\times $' + str(round(1000*delta/(2*pi)))+ '$\\,\\mathrm{kHz}$'\n",
    "\n",
    "fig, axs = plt.subplots(4, figsize= (w,h),sharex= True)\n",
    "fig.suptitle(tl)\n",
    "\n",
    "## Mean z values\n",
    "#I = np.kron(np.kron(id_2,id_2),id_2)\n",
    "#D1 = np.zeros(shape = (len(state), len(state)), dtype = complex)\n",
    "## For each  ratio ...\n",
    "#for jj in range(0, len(freq_ratio)):\n",
    "#    mean_z = []\n",
    "#    mean_z1 = []\n",
    "#    mean_z2 = []\n",
    "#    mean_z1d = []\n",
    "#    mean_z2d = [] \n",
    "#    mean_swt = []\n",
    "#    mean_ising = []\n",
    "#    # ... evolve the state with different expansions\n",
    "#    for kk in np.arange(0, int(t_steps)+1, 1):\n",
    "\n",
    "    # Plot the different time evolutions for jj-th ratio value\n",
    "    #axs[jj].plot(t, mean_z, color = 'k',label = 'Exact')\n",
    "#    if(t[kk] != t_limit):\n",
    "#        axs[jj].axvline(t_limit, linestyle= 'dashed', color = 'lightgray')\n",
    "    axs.plot(lcurve1['Time'], lcurve1.,  color = cmap(1), linestyle = 'solid',label = 'Magnus 1st order')\n",
    "    axs.plot(t, mean_z1d,  color = cmap(4), linestyle = 'solid',label = 'Dyson 1st order')\n",
    "    axs.plot(t, mean_z2d,  color = cmap(0), linestyle = 'solid',label = 'Dyson 2nd order')\n",
    "    axs.plot(t, mean_ising,  color = 'gray', linestyle = 'dotted', label = 'Ising / Slow-gate')\n",
    "    axs.plot(t, mean_z2,  color = cmap(5), linestyle = 'solid',label = 'Magnus 2nd order / Exact')\n",
    "    \n",
    "    axs.minorticks_on()\n",
    "    axs.set_title('$\\gamma=$' + str(freq_ratio[jj]))\n",
    "\n",
    "\n",
    "# Set a low y limit on the axis for higher ratios since Dyson series diverges\n",
    "\n",
    "axs[3].set_ylim(-1.2,1.2)\n",
    "axs[4].set_ylim(-1.2,1.2)\n",
    "#axs[0].set_xlim(-5,205)\n",
    "# Labels setup\n",
    "for ax in axs.flat:\n",
    "    ax.set(xlabel='$t$ [$\\mu s$]', ylabel='$\\langle \\\\frac{S_z}{2}\\\\rangle}$')\n",
    "for ax in axs.flat:\n",
    "    ax.label_outer()\n",
    "    \n",
    "# Legend setup\n",
    "handles, labels = ax.get_legend_handles_labels()\n",
    "fig.legend(handles, labels, loc=(0.65,0.88))\n",
    "save_fig = True\n",
    "if save_fig == True:\n",
    "    plt.savefig(\"comparison.pdf\") \n",
    "plt.show()"
   ]
  },
  {
   "cell_type": "code",
   "execution_count": 46,
   "metadata": {},
   "outputs": [],
   "source": [
    "## Soft"
   ]
  },
  {
   "cell_type": "code",
   "execution_count": 47,
   "metadata": {},
   "outputs": [
    {
     "data": {
      "image/png": "[encoded data removed]",
      "text/plain": [
       "<Figure size 1500x500 with 1 Axes>"
      ]
     },
     "metadata": {},
     "output_type": "display_data"
    }
   ],
   "source": [
    "lcurve1.plot(x ='Time',xerr='time_err', y='0.3-1.5keV', yerr='0.3-1.5keV_err', kind = 'scatter',figsize=(15,5))\n",
    "plt.savefig(\"LC_S1.pdf\") \n",
    "plt.show()\n",
    "\n"
   ]
  },
  {
   "cell_type": "code",
   "execution_count": 48,
   "metadata": {},
   "outputs": [
    {
     "data": {
      "image/png": "[encoded data removed]",
      "text/plain": [
       "<Figure size 1500x500 with 1 Axes>"
      ]
     },
     "metadata": {},
     "output_type": "display_data"
    }
   ],
   "source": [
    "lcurve2.plot(x ='Time',xerr='time_err', y='0.3-2.5keV', yerr='0.3-2.5keV_err', kind = 'scatter',figsize=(15,5))\n",
    "plt.savefig(\"LC_S2.pdf\") \n",
    "plt.show()"
   ]
  },
  {
   "cell_type": "code",
   "execution_count": 49,
   "metadata": {},
   "outputs": [
    {
     "data": {
      "image/png": "[encoded data removed]",
      "text/plain": [
       "<Figure size 1500x500 with 1 Axes>"
      ]
     },
     "metadata": {},
     "output_type": "display_data"
    }
   ],
   "source": [
    "lcurve3.plot(x ='Time',xerr='time_err', y='0.3-2keV', yerr='0.3-2keV_err', kind = 'scatter',figsize=(15,5))\n",
    "plt.savefig(\"LC_S3.pdf\") \n",
    "plt.show()"
   ]
  },
  {
   "cell_type": "code",
   "execution_count": 50,
   "metadata": {},
   "outputs": [
    {
     "data": {
      "image/png": "[encoded data removed]",
      "text/plain": [
       "<Figure size 1500x500 with 1 Axes>"
      ]
     },
     "metadata": {},
     "output_type": "display_data"
    }
   ],
   "source": [
    "lcurve4.plot(x ='Time',xerr='time_err', y='0.3-1keV', yerr='0.3-1keV_err', kind = 'scatter',figsize=(15,5))\n",
    "plt.savefig(\"LC_S4.pdf\") \n",
    "plt.show()"
   ]
  },
  {
   "cell_type": "code",
   "execution_count": null,
   "metadata": {},
   "outputs": [],
   "source": []
  },
  {
   "cell_type": "code",
   "execution_count": 51,
   "metadata": {},
   "outputs": [],
   "source": [
    "## HARD"
   ]
  },
  {
   "cell_type": "code",
   "execution_count": 52,
   "metadata": {},
   "outputs": [
    {
     "data": {
      "image/png": "[encoded data removed]",
      "text/plain": [
       "<Figure size 1500x500 with 1 Axes>"
      ]
     },
     "metadata": {},
     "output_type": "display_data"
    }
   ],
   "source": [
    "lcurve1.plot(x ='Time',xerr='time_err', y='1.5-10keV', yerr='1.5-10keV_err', kind = 'scatter',figsize=(15,5))\n",
    "plt.savefig(\"LC_H1.pdf\") \n",
    "plt.show()"
   ]
  },
  {
   "cell_type": "code",
   "execution_count": 53,
   "metadata": {},
   "outputs": [
    {
     "data": {
      "image/png": "[encoded data removed]",
      "text/plain": [
       "<Figure size 1500x500 with 1 Axes>"
      ]
     },
     "metadata": {},
     "output_type": "display_data"
    }
   ],
   "source": [
    "lcurve2.plot(x ='Time',xerr='time_err', y='2.5-10keV', yerr='2.5-10keV_err', kind = 'scatter',figsize=(15,5))\n",
    "plt.savefig(\"LC_H2.pdf\") \n",
    "plt.show()"
   ]
  },
  {
   "cell_type": "code",
   "execution_count": 54,
   "metadata": {},
   "outputs": [
    {
     "data": {
      "image/png": "[encoded data removed]",
      "text/plain": [
       "<Figure size 1500x500 with 1 Axes>"
      ]
     },
     "metadata": {},
     "output_type": "display_data"
    }
   ],
   "source": [
    "lcurve3.plot(x ='Time',xerr='time_err', y='2-10keV', yerr='2-10keV_err', kind = 'scatter',figsize=(15,5))\n",
    "plt.savefig(\"LC_H3.pdf\") \n",
    "plt.show()"
   ]
  },
  {
   "cell_type": "code",
   "execution_count": 56,
   "metadata": {},
   "outputs": [
    {
     "data": {
      "image/png": "[encoded data removed]",
      "text/plain": [
       "<Figure size 1500x500 with 1 Axes>"
      ]
     },
     "metadata": {},
     "output_type": "display_data"
    }
   ],
   "source": [
    "lcurve4.plot(x ='Time',xerr='time_err', y='3-10keV', yerr='3-10keV_err', kind = 'scatter',figsize=(15,5))\n",
    "plt.savefig(\"LC_H4.pdf\") \n",
    "plt.show()"
   ]
  },
  {
   "cell_type": "code",
   "execution_count": null,
   "metadata": {},
   "outputs": [],
   "source": []
  },
  {
   "cell_type": "code",
   "execution_count": null,
   "metadata": {},
   "outputs": [],
   "source": []
  },
  {
   "cell_type": "code",
   "execution_count": null,
   "metadata": {},
   "outputs": [],
   "source": []
  },
  {
   "cell_type": "code",
   "execution_count": null,
   "metadata": {},
   "outputs": [],
   "source": [
    "finaldf2 = pd.concat([lcurve1, lcurve2,lcurve3,lcurve4])\n",
    "\n",
    "\n",
    "finaldf2['Time'] =finaldf2['Time']/10000\n",
    "finaldf2['err_time'] =finaldf2['err_time']/10000\n",
    "#finaldf.iloc[finaldf['Time'] < 500]\n",
    "finaldf2_filteredobs1=finaldf2.query('Time <10')\n",
    "finaldf2_filteredobs2=finaldf2.query('82<=Time <92')\n",
    "\n",
    "finaldf2_filteredobs3=finaldf2.query('120<=Time <130')\n",
    "finaldf2_filteredobs4=finaldf2.query('255<=Time <270')\n",
    "#finaldf2['Time']\n",
    "\n",
    "\n",
    "\n"
   ]
  },
  {
   "cell_type": "code",
   "execution_count": null,
   "metadata": {},
   "outputs": [],
   "source": [
    "\n",
    "\n",
    "from matplotlib import cm\n",
    "import matplotlib.gridspec as gridspec\n",
    "\n",
    "fig,(ax1,ax2,ax3,ax4) = plt.subplots(1, 4, figsize=(15,5), sharey=True)\n",
    "\n",
    "#ax1.set_xlim(-1000, 450000)\n",
    "#ax2.set_xlim(800000, 155000)\n",
    "ax1.yaxis.tick_left()\n",
    "#ax1.tick_params(labeltop='off') # don't put tick labels at the top\n",
    "ax3.yaxis.set_ticks_position('none')\n",
    "ax2.spines['left'].set_visible(False)\n",
    "ax2.yaxis.set_ticks_position('none')\n",
    "#ax1.set_xticks(ax.get_xticks()[::2])\n",
    "#ax2.xaxis.set_ticks(np.arange(800,920,40))\n",
    "\n",
    "\n",
    "ax3.xaxis.set_ticks(np.arange(120,130,4))\n",
    "\n",
    "\n",
    "ax4.xaxis.set_ticks(np.arange(255,270,4))\n",
    "ax2.spines['right'].set_visible(False)\n",
    "ax3.spines['right'].set_visible(False)\n",
    "ax3.spines['left'].set_visible(False)\n",
    "ax4.spines['left'].set_visible(False)\n",
    "#ax1.set_xticks(ax.get_xticks()[::1])\n",
    "#ax2.set_xticks(ax.get_xticks()[::2])\n",
    "\n",
    "#ax3.set_xticks(ax.get_xticks()[::2])\n",
    "\n",
    "#ax4.set_xticks(ax.get_xticks()[::2])\n",
    "\n",
    "\n",
    "#ax2.yaxis.set_ticks([])\n",
    "#ax3.yaxis.set_ticks([])\n",
    "\n",
    "\n",
    "#ax1.set_xlabel(labelcolor='none')\n",
    "#ax2.yaxis.tick_right()\n",
    "#ax3.yaxis.tick_right()\n",
    "ax4.yaxis.tick_right()\n",
    "ax1.set_xlim(-1,10) # most of the data\n",
    "ax2.set_xlim(82,91) # outliers only\n",
    "ax3.set_xlim(120,130) # outliers only\n",
    "ax4.set_xlim(255,270) # outliers only\n",
    "ax1.spines['right'].set_visible(False)\n",
    "\n",
    "ax = finaldf2_filteredobs1.plot(x ='Time',xerr='err_time', y='4-6keV', yerr='4-6keV_err', marker=\"s\",s=20, color=\"k\" , fontsize=18,kind = 'scatter', ax=ax1, figsize=(15,5))\n",
    "ax.set_xlabel('')\n",
    "ax.set_ylabel('4-6 keV cts/s', fontsize=18)\n",
    "ax =finaldf2_filteredobs2.plot(x ='Time',xerr='err_time', y='4-6keV', yerr='4-6keV_err', marker=\"s\",s=20, color=\"m\" ,fontsize=18, kind = 'scatter', ax=ax2, figsize=(15,5))\n",
    "ax.set_xlabel('')\n",
    "\n",
    "ax =finaldf2_filteredobs3.plot(x ='Time',xerr='err_time', y='4-6keV', yerr='4-6keV_err', marker=\"s\",s=20, color=\"r\" ,fontsize=18, kind = 'scatter', ax=ax3, figsize=(15,5))\n",
    "ax.set_xlabel('')\n",
    "ax =finaldf2_filteredobs4.plot(x ='Time',xerr='err_time', y='4-6keV', yerr='4-6keV_err', marker=\"s\",s=20, color=\"b\" ,fontsize=16, kind = 'scatter', ax=ax4, figsize=(15,5))\n",
    "ax.set_xlabel('')\n",
    "\n",
    "d = .015  # how big to make the diagonal lines in axes coordinates\n",
    "# arguments to pass to plot, just so we don't keep repeating them\n",
    "kwargs = dict(transform=ax1.transAxes, color='k', clip_on=False)\n",
    "#ax1.plot((-d, +d), (-d, +d), **kwargs)        # top-left diagonal\n",
    "ax1.plot((1- d, 1 + d), (-d, +d), **kwargs)  # top-right diagonal\n",
    "ax1.plot((1-d,  1+d), (1-d, 1+d), **kwargs)  # top-right diagonal\n",
    "\n",
    "# arguments to pass to plot, just so we don't keep repeating them\n",
    "kwargs = dict(transform=ax2.transAxes, color='k', clip_on=False)\n",
    "#ax1.plot((-d, +d), (-d, +d), **kwargs)        # top-left diagonal\n",
    "ax2.plot((- d,  d), (1-d, 1+d), **kwargs)  # top-right diagonal\n",
    "ax2.plot((-d,  +d), (-d, +d), **kwargs)  # top-right diagonal\n",
    "ax2.plot((1- d, 1 + d), (-d, +d), **kwargs)  # top-right diagonal\n",
    "ax2.plot((1-d,  1+d), (1-d, 1+d), **kwargs)  # top-right diagonal\n",
    "\n",
    "\n",
    "kwargs = dict(transform=ax3.transAxes, color='k', clip_on=False)\n",
    "\n",
    "\n",
    "ax3.plot((- d,  d), (1-d, 1+d), **kwargs)  # top-right diagonal\n",
    "ax3.plot((-d,  +d), (-d, +d), **kwargs)  # top-right diagonal\n",
    "\n",
    "\n",
    "ax3.plot((1- d, 1 + d), (-d, +d), **kwargs)  # top-right diagonal\n",
    "ax3.plot((1-d,  1+d), (1-d, 1+d), **kwargs)  # top-right diagonal\n",
    "\n",
    "\n",
    "kwargs = dict(transform=ax4.transAxes, color='k', clip_on=False)\n",
    "\n",
    "\n",
    "ax4.plot((- d,  d), (1-d, 1+d), **kwargs)  # top-right diagonal\n",
    "ax4.plot((-d,  +d), (-d, +d), **kwargs)  # top-right diagonal\n",
    "\n",
    "\n",
    "ax1.set_ylabel('4-6 keV cts s$^{-1}$', fontsize=18)\n",
    "ylim = ax1.get_ylim()\n",
    "fig.text(0.5, 0.01, 'Time (10 Ksec)', ha='center', fontsize=18)\n",
    "\n",
    "plt.savefig('4-6_colcoded.pdf')  "
   ]
  },
  {
   "cell_type": "code",
   "execution_count": null,
   "metadata": {},
   "outputs": [],
   "source": [
    "\n",
    "\n",
    "\n",
    "from matplotlib import cm\n",
    "import matplotlib.gridspec as gridspec\n",
    "\n",
    "fig,(ax1,ax2,ax3,ax4) = plt.subplots(1, 4, figsize=(15,5), sharey=True)\n",
    "\n",
    "#ax1.set_xlim(-1000, 450000)\n",
    "#ax2.set_xlim(800000, 155000)\n",
    "ax1.yaxis.tick_left()\n",
    "#ax1.tick_params(labeltop='off') # don't put tick labels at the top\n",
    "ax3.yaxis.set_ticks_position('none')\n",
    "ax2.spines['left'].set_visible(False)\n",
    "ax2.yaxis.set_ticks_position('none')\n",
    "#ax1.set_xticks(ax.get_xticks()[::2])\n",
    "#ax2.xaxis.set_ticks(np.arange(800,920,40))\n",
    "\n",
    "\n",
    "ax3.xaxis.set_ticks(np.arange(120,130,4))\n",
    "\n",
    "\n",
    "ax4.xaxis.set_ticks(np.arange(255,270,4))\n",
    "ax2.spines['right'].set_visible(False)\n",
    "ax3.spines['right'].set_visible(False)\n",
    "ax3.spines['left'].set_visible(False)\n",
    "ax4.spines['left'].set_visible(False)\n",
    "#ax1.set_xticks(ax.get_xticks()[::1])\n",
    "#ax2.set_xticks(ax.get_xticks()[::2])\n",
    "\n",
    "#ax3.set_xticks(ax.get_xticks()[::2])\n",
    "\n",
    "#ax4.set_xticks(ax.get_xticks()[::2])\n",
    "\n",
    "\n",
    "#ax2.yaxis.set_ticks([])\n",
    "#ax3.yaxis.set_ticks([])\n",
    "\n",
    "\n",
    "#ax1.set_xlabel(labelcolor='none')\n",
    "#ax2.yaxis.tick_right()\n",
    "#ax3.yaxis.tick_right()\n",
    "ax4.yaxis.tick_right()\n",
    "ax1.set_xlim(-1,10) # most of the data\n",
    "ax2.set_xlim(82,91) # outliers only\n",
    "ax3.set_xlim(120,130) # outliers only\n",
    "ax4.set_xlim(255,270) # outliers only\n",
    "ax1.spines['right'].set_visible(False)\n",
    "\n",
    "ax = finaldf2_filteredobs1.plot(x ='Time',xerr='err_time', y='20-40keV', yerr='20-40keV_err', marker=\"s\",s=20, color=\"k\" , fontsize=18,kind = 'scatter', ax=ax1, figsize=(15,5))\n",
    "ax.set_xlabel('')\n",
    "#ax.set_ylabel('4-6 keV cts/s', fontsize=18)\n",
    "ax =finaldf2_filteredobs2.plot(x ='Time',xerr='err_time', y='20-40keV', yerr='20-40keV_err', marker=\"s\",s=20, color=\"m\" ,fontsize=18, kind = 'scatter', ax=ax2, figsize=(15,5))\n",
    "ax.set_xlabel('')\n",
    "\n",
    "ax =finaldf2_filteredobs3.plot(x ='Time',xerr='err_time', y='20-40keV', yerr='20-40keV_err', marker=\"s\",s=20, color=\"r\" ,fontsize=18, kind = 'scatter', ax=ax3, figsize=(15,5))\n",
    "ax.set_xlabel('')\n",
    "ax =finaldf2_filteredobs4.plot(x ='Time',xerr='err_time', y='20-40keV', yerr='20-40keV_err', marker=\"s\",s=20, color=\"b\" ,fontsize=16, kind = 'scatter', ax=ax4, figsize=(15,5))\n",
    "ax.set_xlabel('')\n",
    "\n",
    "d = .015  # how big to make the diagonal lines in axes coordinates\n",
    "# arguments to pass to plot, just so we don't keep repeating them\n",
    "kwargs = dict(transform=ax1.transAxes, color='k', clip_on=False)\n",
    "#ax1.plot((-d, +d), (-d, +d), **kwargs)        # top-left diagonal\n",
    "ax1.plot((1- d, 1 + d), (-d, +d), **kwargs)  # top-right diagonal\n",
    "ax1.plot((1-d,  1+d), (1-d, 1+d), **kwargs)  # top-right diagonal\n",
    "\n",
    "# arguments to pass to plot, just so we don't keep repeating them\n",
    "kwargs = dict(transform=ax2.transAxes, color='k', clip_on=False)\n",
    "#ax1.plot((-d, +d), (-d, +d), **kwargs)        # top-left diagonal\n",
    "ax2.plot((- d,  d), (1-d, 1+d), **kwargs)  # top-right diagonal\n",
    "ax2.plot((-d,  +d), (-d, +d), **kwargs)  # top-right diagonal\n",
    "ax2.plot((1- d, 1 + d), (-d, +d), **kwargs)  # top-right diagonal\n",
    "ax2.plot((1-d,  1+d), (1-d, 1+d), **kwargs)  # top-right diagonal\n",
    "\n",
    "\n",
    "kwargs = dict(transform=ax3.transAxes, color='k', clip_on=False)\n",
    "\n",
    "\n",
    "ax3.plot((- d,  d), (1-d, 1+d), **kwargs)  # top-right diagonal\n",
    "ax3.plot((-d,  +d), (-d, +d), **kwargs)  # top-right diagonal\n",
    "\n",
    "\n",
    "ax3.plot((1- d, 1 + d), (-d, +d), **kwargs)  # top-right diagonal\n",
    "ax3.plot((1-d,  1+d), (1-d, 1+d), **kwargs)  # top-right diagonal\n",
    "\n",
    "\n",
    "kwargs = dict(transform=ax4.transAxes, color='k', clip_on=False)\n",
    "\n",
    "\n",
    "ax4.plot((- d,  d), (1-d, 1+d), **kwargs)  # top-right diagonal\n",
    "ax4.plot((-d,  +d), (-d, +d), **kwargs)  # top-right diagonal\n",
    "\n",
    "\n",
    "ax1.set_ylabel('20-40 keV cts s$^{-1}$', fontsize=18)\n",
    "ylim = ax1.get_ylim()\n",
    "fig.text(0.5, 0.01, 'Time (10 Ksec)', ha='center', fontsize=18)\n",
    "\n",
    "plt.savefig('20-40_colcoded.pdf')  \n",
    "\n"
   ]
  },
  {
   "cell_type": "code",
   "execution_count": null,
   "metadata": {},
   "outputs": [],
   "source": [
    "\n",
    "\n",
    "\n",
    "\n",
    "from matplotlib import cm\n",
    "import matplotlib.gridspec as gridspec\n",
    "\n",
    "fig,(ax1,ax2,ax3,ax4) = plt.subplots(1, 4, figsize=(15,5), sharey=True)\n",
    "\n",
    "#ax1.set_xlim(-1000, 450000)\n",
    "#ax2.set_xlim(800000, 155000)\n",
    "ax1.yaxis.tick_left()\n",
    "#ax1.tick_params(labeltop='off') # don't put tick labels at the top\n",
    "ax3.yaxis.set_ticks_position('none')\n",
    "ax2.spines['left'].set_visible(False)\n",
    "ax2.yaxis.set_ticks_position('none')\n",
    "#ax1.set_xticks(ax.get_xticks()[::2])\n",
    "#ax2.xaxis.set_ticks(np.arange(800,920,40))\n",
    "\n",
    "\n",
    "ax3.xaxis.set_ticks(np.arange(120,130,4))\n",
    "\n",
    "\n",
    "ax4.xaxis.set_ticks(np.arange(255,270,4))\n",
    "ax2.spines['right'].set_visible(False)\n",
    "ax3.spines['right'].set_visible(False)\n",
    "ax3.spines['left'].set_visible(False)\n",
    "ax4.spines['left'].set_visible(False)\n",
    "#ax1.set_xticks(ax.get_xticks()[::1])\n",
    "#ax2.set_xticks(ax.get_xticks()[::2])\n",
    "\n",
    "#ax3.set_xticks(ax.get_xticks()[::2])\n",
    "\n",
    "#ax4.set_xticks(ax.get_xticks()[::2])\n",
    "\n",
    "\n",
    "#ax2.yaxis.set_ticks([])\n",
    "#ax3.yaxis.set_ticks([])\n",
    "\n",
    "\n",
    "#ax1.set_xlabel(labelcolor='none')\n",
    "#ax2.yaxis.tick_right()\n",
    "#ax3.yaxis.tick_right()\n",
    "ax4.yaxis.tick_right()\n",
    "ax1.set_xlim(-1,10) # most of the data\n",
    "ax2.set_xlim(82,91) # outliers only\n",
    "ax3.set_xlim(120,130) # outliers only\n",
    "ax4.set_xlim(255,270) # outliers only\n",
    "ax1.spines['right'].set_visible(False)\n",
    "\n",
    "ax = finaldf2_filteredobs1.plot(x ='Time',xerr='err_time', y='HR', yerr='HR_err', marker=\"s\",s=20, color=\"k\" , fontsize=18,kind = 'scatter', ax=ax1, figsize=(15,5))\n",
    "ax.set_xlabel('')\n",
    "#ax.set_ylabel('4-6 keV cts/s', fontsize=18)\n",
    "ax =finaldf2_filteredobs2.plot(x ='Time',xerr='err_time', y='HR', yerr='HR_err', marker=\"s\",s=20, color=\"m\" ,fontsize=18, kind = 'scatter', ax=ax2, figsize=(15,5))\n",
    "ax.set_xlabel('')\n",
    "\n",
    "ax =finaldf2_filteredobs3.plot(x ='Time',xerr='err_time', y='HR', yerr='HR_err', marker=\"s\",s=20, color=\"r\" ,fontsize=18, kind = 'scatter', ax=ax3, figsize=(15,5))\n",
    "ax.set_xlabel('')\n",
    "ax =finaldf2_filteredobs4.plot(x ='Time',xerr='err_time', y='HR', yerr='HR_err', marker=\"s\",s=20, color=\"b\" ,fontsize=16, kind = 'scatter', ax=ax4, figsize=(15,5))\n",
    "ax.set_xlabel('')\n",
    "\n",
    "d = .015  # how big to make the diagonal lines in axes coordinates\n",
    "# arguments to pass to plot, just so we don't keep repeating them\n",
    "kwargs = dict(transform=ax1.transAxes, color='k', clip_on=False)\n",
    "#ax1.plot((-d, +d), (-d, +d), **kwargs)        # top-left diagonal\n",
    "ax1.plot((1- d, 1 + d), (-d, +d), **kwargs)  # top-right diagonal\n",
    "ax1.plot((1-d,  1+d), (1-d, 1+d), **kwargs)  # top-right diagonal\n",
    "\n",
    "# arguments to pass to plot, just so we don't keep repeating them\n",
    "kwargs = dict(transform=ax2.transAxes, color='k', clip_on=False)\n",
    "#ax1.plot((-d, +d), (-d, +d), **kwargs)        # top-left diagonal\n",
    "ax2.plot((- d,  d), (1-d, 1+d), **kwargs)  # top-right diagonal\n",
    "ax2.plot((-d,  +d), (-d, +d), **kwargs)  # top-right diagonal\n",
    "ax2.plot((1- d, 1 + d), (-d, +d), **kwargs)  # top-right diagonal\n",
    "ax2.plot((1-d,  1+d), (1-d, 1+d), **kwargs)  # top-right diagonal\n",
    "\n",
    "\n",
    "kwargs = dict(transform=ax3.transAxes, color='k', clip_on=False)\n",
    "\n",
    "\n",
    "ax3.plot((- d,  d), (1-d, 1+d), **kwargs)  # top-right diagonal\n",
    "ax3.plot((-d,  +d), (-d, +d), **kwargs)  # top-right diagonal\n",
    "\n",
    "\n",
    "ax3.plot((1- d, 1 + d), (-d, +d), **kwargs)  # top-right diagonal\n",
    "ax3.plot((1-d,  1+d), (1-d, 1+d), **kwargs)  # top-right diagonal\n",
    "\n",
    "\n",
    "kwargs = dict(transform=ax4.transAxes, color='k', clip_on=False)\n",
    "\n",
    "\n",
    "ax4.plot((- d,  d), (1-d, 1+d), **kwargs)  # top-right diagonal\n",
    "ax4.plot((-d,  +d), (-d, +d), **kwargs)  # top-right diagonal\n",
    "\n",
    "\n",
    "ax1.set_ylabel('HR', fontsize=18)\n",
    "ylim = ax1.get_ylim()\n",
    "fig.text(0.5, 0.01, 'Time (10 Ksec)', ha='center', fontsize=18)\n",
    "\n",
    "plt.savefig('HR.pdf')  \n",
    "\n",
    "\n",
    "\n",
    "\n"
   ]
  },
  {
   "cell_type": "code",
   "execution_count": null,
   "metadata": {},
   "outputs": [],
   "source": [
    "lcurve2.plot(x ='Time',xerr='err_time', y='3-10 keV', yerr='3-10 keV_err', kind = 'scatter',figsize=(15,5))\n",
    "plt.show()"
   ]
  },
  {
   "cell_type": "code",
   "execution_count": null,
   "metadata": {},
   "outputs": [],
   "source": [
    "lcurve3.plot(x ='Time',xerr='err_time', y='3-10 keV', yerr='3-10 keV_err', kind = 'scatter',figsize=(15,5))\n",
    "plt.show()"
   ]
  },
  {
   "cell_type": "code",
   "execution_count": null,
   "metadata": {},
   "outputs": [],
   "source": [
    "lcurve2=pd.read_csv('./obs2.cvs',\n",
    "encoding='latin-1',\n",
    "    sep=\";\"\n",
    ")"
   ]
  },
  {
   "cell_type": "code",
   "execution_count": null,
   "metadata": {},
   "outputs": [],
   "source": [
    "lcurve2.columns\n"
   ]
  },
  {
   "cell_type": "code",
   "execution_count": null,
   "metadata": {},
   "outputs": [],
   "source": [
    "finaldf = pd.concat([lcurve, lcurve2,lcurve3])"
   ]
  },
  {
   "cell_type": "code",
   "execution_count": null,
   "metadata": {},
   "outputs": [],
   "source": [
    "finaldf[:1]"
   ]
  },
  {
   "cell_type": "code",
   "execution_count": null,
   "metadata": {},
   "outputs": [],
   "source": [
    "finaldfscaled = pd.concat([lcurve, lcurve2,lcurve3])\n",
    "\n",
    "\n",
    "finaldfscaled['0.5-1.5 keV'] =finaldfscaled['0.5-1.5 keV']*2\n",
    "finaldfscaled['0.5-1.5 keV_err'] = finaldfscaled['0.5-1.5 keV_err']*2\n",
    "finaldfscaled[:1]"
   ]
  },
  {
   "cell_type": "code",
   "execution_count": null,
   "metadata": {},
   "outputs": [],
   "source": [
    "from matplotlib import cm\n",
    "import matplotlib.gridspec as gridspec\n",
    "\n",
    "#ax=finaldf.plot(x ='Time',xerr='err_time', y='3-10 keV', yerr='3-10 keV_err',  marker=\"s\", s=20, color=\"b\" ,kind = 'scatter',figsize=(15,5))\n",
    "#plt.show()\n",
    "#plt.savefig('hard_lc.pdf')\n",
    "#soft=finaldf['0.5-1.5 keV']*2\n",
    "finaldf = pd.concat([lcurve, lcurve2,lcurve3])\n",
    "\n",
    "finaldf['Time'] =finaldf['Time']/1000\n",
    "finaldf['err_time'] =finaldf['err_time']/1000\n",
    "\n",
    "finaldfscaled = pd.concat([lcurve, lcurve2,lcurve3])\n",
    "finaldfscaled['0.5-1.5 keV'] =finaldfscaled['0.5-1.5 keV']*2\n",
    "finaldfscaled['0.5-1.5 keV_err'] = finaldfscaled['0.5-1.5 keV_err']*2\n",
    "finaldfscaled['Time'] =finaldfscaled['Time']/1000\n",
    "finaldfscaled['err_time'] =finaldfscaled['err_time']/1000\n",
    "\n",
    "fig = plt.figure(figsize=(15, 5))\n",
    "gs = gridspec.GridSpec(nrows=1, ncols=2, width_ratios=[1, 1.5])\n",
    "ax1 = fig.add_subplot(gs[0])\n",
    "ax2 = fig.add_subplot(gs[1])\n",
    "ax1.set_ylim(-0.001, 0.21)\n",
    "ax1.set_yticks([0.05,0.1,0.15,0.2])\n",
    "ax1=finaldf.plot(x ='Time',xerr='err_time', y='3-10 keV', yerr='3-10 keV_err',  marker=\"s\", s=20, color=\"b\" ,fontsize=18, kind = 'scatter',ax=ax1, figsize=(15,5))\n",
    "ax1=finaldfscaled.plot(x ='Time',xerr='err_time', y='0.5-1.5 keV', yerr='0.5-1.5 keV_err', fontsize=18, marker=\"s\", s=20, color=\"r\" ,  kind = 'scatter',ax=ax1, figsize=(15,5))\n",
    "\n",
    "ax2=finaldf.plot(x ='Time',xerr='err_time', y='3-10 keV', yerr='3-10 keV_err',  marker=\"s\", s=20, color=\"b\" , fontsize=18, kind = 'scatter',ax=ax2, figsize=(15,5))\n",
    "ax2=finaldfscaled.plot(x ='Time',xerr='err_time', y='0.5-1.5 keV', yerr='0.5-1.5 keV_err', fontsize=18, marker=\"s\", s=20, color=\"r\" ,  kind = 'scatter',ax=ax2, figsize=(15,5))\n",
    "\n",
    "\n",
    "ax1.set_xlim(-10,450) # most of the data\n",
    "ax2.set_xlim(850,1540) # outliers only\n",
    "\n",
    "plt.subplots_adjust(wspace=0.05, hspace=0)\n",
    "\n",
    "#fig,(ax1,ax2) = plt.subplots(1, 2,  sharey=True)\n",
    "#ax1.set_xlim(-10,450) # most of the data\n",
    "#ax2.set_xlim(850,1540) # outliers only\n",
    "#ax1.tick_params(labeltop='off') # don't put tick labels at the top\n",
    "#ax2.tick_params(labeltop='off') # don't put tick labels at the top\n",
    "\n",
    "#ax1.spines['right'].set_dashes(5,1)\n",
    "\n",
    "\n",
    "#ax1.spines['right'].set_visible(False)\n",
    "#ax2.spines['left'].set_visible(False)\n",
    "ax1.set_xlabel('')\n",
    "ax2.set_xlabel('')\n",
    "\n",
    "\n",
    "ax2.set_ylabel('')\n",
    "ax2.spines['left'].set_visible(False)\n",
    "ax1.spines['right'].set_visible(False)\n",
    "#ax1.set_aspect(\"auto\")\n",
    "ax2.yaxis.get_ticks_position\n",
    "\n",
    "\n",
    "ax1.yaxis.tick_left()\n",
    "ax2.yaxis.set_ticks_position(\"none\")\n",
    "ax2.set_yticklabels([])\n",
    "\n",
    "#ax2.yaxis.set_ticks_position(\"right\")\n",
    "#ax2.set_yticklabels([])\n",
    "\n",
    "\n",
    "#ax1.tick_params(labeltop='off') # don't put tick labels at the top\n",
    "\n",
    "#\n",
    "\n",
    "ax1.set_ylim(-0.001, 0.21)\n",
    "ax1.set_yticks([0.05,0.1,0.15,0.2])\n",
    "#ylim = ax1.get_ylim()\n",
    "ax2.set_ylim(-0.001, 0.21)\n",
    "\n",
    "\n",
    "\n",
    "xlim1 = [-10, 450]\n",
    "xlim2 = [850, 1540]\n",
    "xlim1ratio = (xlim1[1]-xlim1[0])/(xlim2[1]-xlim2[0]+xlim1[1]-xlim1[0])\n",
    "xlim2ratio = (xlim2[1]-xlim2[0])/(xlim2[1]-xlim2[0]+xlim1[1]-xlim1[0])\n",
    "\n",
    "\n",
    "kwargs = dict(color='k', clip_on=False)\n",
    "ylim = [-0.001, 0.21]\n",
    "dy = .02*(ylim[1]-ylim[0])\n",
    "dx = .01*(xlim1[1]-xlim1[0])/xlim1ratio\n",
    " \n",
    "#ax1.plot((xlim1[1]-dx,xlim1[0]+dx), (ylim[0]-dy,ylim[0]+dy), **kwargs)\n",
    "ax1.plot((xlim1[1]-dx,xlim1[1]+dx), (ylim[0]-dy,ylim[0]+dy), **kwargs) ##bot-left diagonal\n",
    "ax1.plot((xlim1[1]-dx,xlim1[1]+dx), (ylim[1]-dy,ylim[1]+dy), **kwargs) ## top-lef diagonal\n",
    "#ax2.plot((xlim2[0]-dx,xlim2[0]+dx), (ylim[1]+2*dy,ylim[1]+4*dy), **kwargs)\n",
    "dx = .01*(xlim2[1]-xlim2[0])/xlim2ratio\n",
    "dy = .02*(ylim[1]-ylim[0])\n",
    "\n",
    "\n",
    "ax2.plot((xlim2[0]-dx,xlim2[0]+dx), (ylim[1]-dy,ylim[1]+dy), **kwargs)\n",
    "ax2.plot((xlim2[0]-dx,xlim2[0]+dx), (ylim[0]-dy,ylim[0]+dy), **kwargs)\n",
    "\n",
    "\n",
    "\n",
    "#ax1.plot((1- dx, 1 + dx), (-d, +d), **kwargs)  # top-right diagonal\n",
    "#ax1.plot((1-dx,  1+dx), (1-d, 1+d), **kwargs)  # top-right diagonal\n",
    "\n",
    "# arguments to pass to plot, just so we don't keep repeating them\n",
    "kwargs = dict(transform=ax2.transAxes, color='k', clip_on=False)\n",
    "#ax1.plot((-d, +d), (-d, +d), **kwargs)        # top-left diagonal\n",
    "#ax2.plot((-dx,  dx), (1-dy, 1+dy), **kwargs)  # top-right diagonal\n",
    "#ax2.plot((-d,  +d), (-d, +d), **kwargs)  # top-right diagonal\n",
    "\n",
    "\n",
    "\n",
    "#ax2.tick_params(labeltop='off') # don't put tick labels at the top\n",
    "\n",
    "ax1.set_ylabel('COUNT RATE s$^{-1}$', fontsize=18)\n",
    "ylim = ax1.get_ylim()\n",
    "fig.text(0.5, 0.01, 'Time (Ksec)', ha='center', fontsize=18)\n",
    "\n",
    "\n"
   ]
  },
  {
   "cell_type": "code",
   "execution_count": null,
   "metadata": {},
   "outputs": [],
   "source": [
    "ylim\n",
    "#ylim = ax1.get_ylim()\n",
    "\n",
    "#ylim\n"
   ]
  },
  {
   "cell_type": "code",
   "execution_count": null,
   "metadata": {},
   "outputs": [],
   "source": [
    "from matplotlib import cm\n",
    "\n",
    "fig,(ax1,ax2) = plt.subplots(1, 2, figsize=(15,5), sharey=True)\n",
    "\n",
    "#ax1.set_xlim(-1000, 450000)\n",
    "#ax2.set_xlim(800000, 155000)\n",
    "ax1.yaxis.tick_left()\n",
    "\n",
    "#ax1.set_xlabel(labelcolor='none')\n",
    "\n",
    "finaldf = pd.concat([lcurve, lcurve2,lcurve3])\n",
    "finaldf['Time'] =finaldf['Time']/1000\n",
    "finaldf['err_time'] =finaldf['err_time']/1000\n",
    "\n",
    "\n",
    "\n",
    "\n",
    "ax2.yaxis.tick_right()\n",
    "ax1.set_xlim(-10,450) # most of the data\n",
    "ax2.set_xlim(850,1540) # outliers only\n",
    "ax1.spines['right'].set_visible(False)\n",
    "ax2.spines['left'].set_visible(False)\n",
    "ax = finaldf.plot(x ='Time',xerr='err_time', y='HR', yerr='HR_err', marker=\"s\",s=20, color=\"g\" , fontsize=18,kind = 'scatter', ax=ax1, figsize=(15,5))\n",
    "ax.set_xlabel('')\n",
    "ax.set_ylabel('0.5-1.5 keV/3-10 keV', fontsize=18)\n",
    "ax =finaldf.plot(x ='Time',xerr='err_time', y='HR', yerr='HR_err', marker=\"s\",s=20, color=\"g\" ,fontsize=18, kind = 'scatter', ax=ax2, figsize=(15,5))\n",
    "ax.set_xlabel('')\n",
    "\n",
    "ax.tick_params(labeltop='off') # don't put tick labels at the top\n",
    "\n",
    "\n",
    "d = .015  # how big to make the diagonal lines in axes coordinates\n",
    "# arguments to pass to plot, just so we don't keep repeating them\n",
    "kwargs = dict(transform=ax1.transAxes, color='k', clip_on=False)\n",
    "#ax1.plot((-d, +d), (-d, +d), **kwargs)        # top-left diagonal\n",
    "ax1.plot((1- d, 1 + d), (-d, +d), **kwargs)  # top-right diagonal\n",
    "ax1.plot((1-d,  1+d), (1-d, 1+d), **kwargs)  # top-right diagonal\n",
    "\n",
    "# arguments to pass to plot, just so we don't keep repeating them\n",
    "kwargs = dict(transform=ax2.transAxes, color='k', clip_on=False)\n",
    "#ax1.plot((-d, +d), (-d, +d), **kwargs)        # top-left diagonal\n",
    "ax2.plot((- d,  d), (1-d, 1+d), **kwargs)  # top-right diagonal\n",
    "ax2.plot((-d,  +d), (-d, +d), **kwargs)  # top-right diagonal\n",
    "\n",
    "\n",
    "\n",
    "# hide the spines between ax and ax2\n",
    "\n",
    "#plt.savefig('HR2.pdf')  \n",
    "#fig.set_xlabel('value')\n",
    "#fig.text(0.04, 0.5, 'common Y', va='center',fontsize=18, rotation='vertical')\n",
    "\n",
    "fig.text(0.5, 0.01, 'Time (Ksec)', ha='center', fontsize=18)\n",
    "\n",
    "\n",
    "\n",
    "# zoom-in / limit the view to different portions of the data\n",
    "plt.subplots_adjust(wspace=0.05, hspace=0)\n",
    "plt.show()\n",
    "#plt.savefig('HR_new.pdf')  \n",
    "\n",
    "\n"
   ]
  },
  {
   "cell_type": "code",
   "execution_count": null,
   "metadata": {},
   "outputs": [],
   "source": [
    "ylim[1]\n",
    "\n"
   ]
  },
  {
   "cell_type": "code",
   "execution_count": null,
   "metadata": {},
   "outputs": [],
   "source": [
    "\n"
   ]
  },
  {
   "cell_type": "code",
   "execution_count": null,
   "metadata": {},
   "outputs": [],
   "source": [
    "lcurve3=pd.read_csv('./obs3.cvs',\n",
    "encoding='latin-1',\n",
    "    sep=\";\"\n",
    ")"
   ]
  },
  {
   "cell_type": "code",
   "execution_count": null,
   "metadata": {},
   "outputs": [],
   "source": [
    "finaldf2 = pd.concat([lcurve, lcurve2, lcurve3])"
   ]
  },
  {
   "cell_type": "code",
   "execution_count": null,
   "metadata": {},
   "outputs": [],
   "source": [
    "lcurve3\n",
    "\n"
   ]
  },
  {
   "cell_type": "code",
   "execution_count": null,
   "metadata": {},
   "outputs": [],
   "source": [
    "lcurve2\n"
   ]
  },
  {
   "cell_type": "code",
   "execution_count": null,
   "metadata": {},
   "outputs": [],
   "source": []
  },
  {
   "cell_type": "markdown",
   "metadata": {},
   "source": []
  },
  {
   "cell_type": "code",
   "execution_count": null,
   "metadata": {},
   "outputs": [],
   "source": [
    "from scipy import misc\n",
    "from scipy import stats\n"
   ]
  },
  {
   "cell_type": "code",
   "execution_count": null,
   "metadata": {},
   "outputs": [],
   "source": [
    "plt?"
   ]
  },
  {
   "cell_type": "code",
   "execution_count": null,
   "metadata": {},
   "outputs": [],
   "source": [
    "finaldf = pd.concat([lcurve, lcurve2,lcurve3])\n",
    "\n",
    "\n",
    "\n",
    "finaldf['Time'] =finaldf['Time']/1000\n",
    "finaldf['err_time'] =finaldf['err_time']/1000\n",
    "#finaldf.iloc[finaldf['Time'] < 500]\n",
    "finaldf_filtered400=finaldf.query('Time <400')\n",
    "finaldf_filtered450=finaldf.query('400<=Time <500')\n",
    "\n",
    "finaldf_filtered1250 =finaldf.query('500<=Time <1250')\n",
    "finaldf_filtered1600 =finaldf.query('1250<=Time <1600')\n",
    "\n",
    "\n",
    "#finaldf_filtered2\n",
    "\n"
   ]
  },
  {
   "cell_type": "code",
   "execution_count": null,
   "metadata": {},
   "outputs": [],
   "source": [
    "from matplotlib import cm\n",
    "\n",
    "fig,(ax1,ax2) = plt.subplots(1, 2, figsize=(15,5), sharey=True)\n",
    "\n",
    "#ax1.set_xlim(-1000, 450000)\n",
    "#ax2.set_xlim(800000, 155000)\n",
    "ax1.yaxis.tick_left()\n",
    "ax.tick_params(labeltop='off') # don't put tick labels at the top\n",
    "\n",
    "#ax1.set_xlabel(labelcolor='none')\n",
    "\n",
    "ax2.yaxis.tick_right()\n",
    "ax1.set_xlim(-10,450) # most of the data\n",
    "ax2.set_xlim(850,1540) # outliers only\n",
    "ax1.spines['right'].set_visible(False)\n",
    "ax2.spines['left'].set_visible(False)\n",
    "ax = finaldf_filtered400.plot(x ='Time',xerr='err_time', y='HR', yerr='HR_err', marker=\"s\",s=20, color=\"k\" , fontsize=18,kind = 'scatter', ax=ax1, figsize=(15,5))\n",
    "ax.set_xlabel('')\n",
    "ax.set_ylabel('0.5-1.5 keV/3-10 keV', fontsize=18)\n",
    "ax = finaldf_filtered450.plot(x ='Time',xerr='err_time', y='HR', yerr='HR_err', marker=\"s\",s=20, color=\"m\" , fontsize=18,kind = 'scatter', ax=ax1, figsize=(15,5))\n",
    "ax.set_xlabel('')\n",
    "\n",
    "\n",
    "\n",
    "ax =finaldf_filtered1250.plot(x ='Time',xerr='err_time', y='HR', yerr='HR_err', marker=\"s\",s=20, color=\"r\" ,fontsize=18, kind = 'scatter', ax=ax2, figsize=(15,5))\n",
    "ax.set_xlabel('')\n",
    "ax =finaldf_filtered1600.plot(x ='Time',xerr='err_time', y='HR', yerr='HR_err', marker=\"s\",s=20, color=\"b\" ,fontsize=18, kind = 'scatter', ax=ax2, figsize=(15,5))\n",
    "ax.set_xlabel('')\n",
    "\n",
    "\n",
    "d = .015  # how big to make the diagonal lines in axes coordinates\n",
    "# arguments to pass to plot, just so we don't keep repeating them\n",
    "kwargs = dict(transform=ax1.transAxes, color='k', clip_on=False)\n",
    "#ax1.plot((-d, +d), (-d, +d), **kwargs)        # top-left diagonal\n",
    "ax1.plot((1- d, 1 + d), (-d, +d), **kwargs)  # top-right diagonal\n",
    "ax1.plot((1-d,  1+d), (1-d, 1+d), **kwargs)  # top-right diagonal\n",
    "\n",
    "# arguments to pass to plot, just so we don't keep repeating them\n",
    "kwargs = dict(transform=ax2.transAxes, color='k', clip_on=False)\n",
    "#ax1.plot((-d, +d), (-d, +d), **kwargs)        # top-left diagonal\n",
    "ax2.plot((- d,  d), (1-d, 1+d), **kwargs)  # top-right diagonal\n",
    "ax2.plot((-d,  +d), (-d, +d), **kwargs)  # top-right diagonal\n",
    "\n",
    "fig.text(0.5, 0.01, 'Time (Ksec)', ha='center', fontsize=18)\n",
    "\n",
    "\n",
    "\n",
    "# zoom-in / limit the view to different portions of the data\n",
    "plt.subplots_adjust(wspace=0.05, hspace=0)\n",
    "plt.show()\n",
    "plt.savefig('HR_colcoded.pdf')  \n",
    "\n"
   ]
  },
  {
   "cell_type": "code",
   "execution_count": null,
   "metadata": {},
   "outputs": [],
   "source": []
  },
  {
   "cell_type": "code",
   "execution_count": null,
   "metadata": {},
   "outputs": [],
   "source": [
    "from matplotlib import cm\n",
    "\n",
    "fig,(ax1,ax2) = plt.subplots(1, 2, figsize=(15,5), sharey=True)\n",
    "\n",
    "#ax1.set_xlim(-1000, 450000)\n",
    "#ax2.set_xlim(800000, 155000)\n",
    "ax1.yaxis.tick_left()\n",
    "ax.tick_params(labeltop='off') # don't put tick labels at the top\n",
    "\n",
    "#ax1.set_xlabel(labelcolor='none')\n",
    "\n",
    "ax2.yaxis.tick_right()\n",
    "ax1.set_xlim(-10,450) # most of the data\n",
    "ax2.set_xlim(850,1540) # outliers only\n",
    "ax1.spines['right'].set_visible(False)\n",
    "ax2.spines['left'].set_visible(False)\n",
    "ax = finaldf_filtered400.plot(x ='Time',xerr='err_time', y='3-10 keV', yerr='3-10 keV_err', marker=\"s\",s=20, color=\"k\" , fontsize=18,kind = 'scatter', ax=ax1, figsize=(15,5))\n",
    "ax.set_xlabel('')\n",
    "ax.set_ylabel('0.5-1.5 keV/3-10 keV', fontsize=18)\n",
    "ax = finaldf_filtered450.plot(x ='Time',xerr='err_time', y='3-10 keV', yerr='3-10 keV_err', marker=\"s\",s=20, color=\"m\" , fontsize=18,kind = 'scatter', ax=ax1, figsize=(15,5))\n",
    "ax.set_xlabel('')\n",
    "\n",
    "ax.set_ylabel('COUNT RATE s$^{-1}$', fontsize=18)\n",
    "ax.set_ylim(-0.001, 0.21)\n",
    "ax.set_yticks([0.05,0.1,0.15,0.2])\n",
    "\n",
    "ax =finaldf_filtered1250.plot(x ='Time',xerr='err_time', y='3-10 keV', yerr='3-10 keV_err', marker=\"s\",s=20, color=\"r\" ,fontsize=18, kind = 'scatter', ax=ax2, figsize=(15,5))\n",
    "ax.set_xlabel('')\n",
    "ax =finaldf_filtered1600.plot(x ='Time',xerr='err_time', y='3-10 keV', yerr='3-10 keV_err', marker=\"s\",s=20, color=\"b\" ,fontsize=18, kind = 'scatter', ax=ax2, figsize=(15,5))\n",
    "ax.set_xlabel('')\n",
    "\n",
    "\n",
    "d = .015  # how big to make the diagonal lines in axes coordinates\n",
    "# arguments to pass to plot, just so we don't keep repeating them\n",
    "kwargs = dict(transform=ax1.transAxes, color='k', clip_on=False)\n",
    "#ax1.plot((-d, +d), (-d, +d), **kwargs)        # top-left diagonal\n",
    "ax1.plot((1- d, 1 + d), (-d, +d), **kwargs)  # top-right diagonal\n",
    "ax1.plot((1-d,  1+d), (1-d, 1+d), **kwargs)  # top-right diagonal\n",
    "\n",
    "# arguments to pass to plot, just so we don't keep repeating them\n",
    "kwargs = dict(transform=ax2.transAxes, color='k', clip_on=False)\n",
    "#ax1.plot((-d, +d), (-d, +d), **kwargs)        # top-left diagonal\n",
    "ax2.plot((- d,  d), (1-d, 1+d), **kwargs)  # top-right diagonal\n",
    "ax2.plot((-d,  +d), (-d, +d), **kwargs)  # top-right diagonal\n",
    "\n",
    "fig.text(0.5, 0.01, 'Time (Ksec)', ha='center', fontsize=18)\n",
    "\n",
    "\n",
    "\n",
    "# zoom-in / limit the view to different portions of the data\n",
    "plt.subplots_adjust(wspace=0.05, hspace=0)\n",
    "#plt.show()\n",
    "plt.savefig('hard_lc_colcoded.pdf')  \n",
    "plt.savefig('hard_lc_colcoded.eps', format='eps')\n",
    "\n",
    "\n"
   ]
  },
  {
   "cell_type": "code",
   "execution_count": null,
   "metadata": {},
   "outputs": [],
   "source": [
    "finaldf = pd.concat([lcurve, lcurve2,lcurve3])\n",
    "\n",
    "\n",
    "\n",
    "finaldf['Time'] =finaldf['Time']/1000\n",
    "finaldf['err_time'] =finaldf['err_time']/1000\n",
    "#finaldf.iloc[finaldf['Time'] < 500]\n",
    "finaldf_filtered400=finaldf.query('Time <400')\n",
    "finaldf_filtered450=finaldf.query('400<=Time <500')\n",
    "\n",
    "finaldf_filtered1250 =finaldf.query('500<=Time <1250')\n",
    "finaldf_filtered1600 =finaldf.query('1250<=Time <1600')\n",
    "\n",
    "\n",
    "#finaldf_filtered2\n",
    "\n"
   ]
  },
  {
   "cell_type": "code",
   "execution_count": null,
   "metadata": {},
   "outputs": [],
   "source": [
    "from matplotlib import cm\n",
    "import matplotlib.gridspec as gridspec\n",
    "\n",
    "#ax=finaldf.plot(x ='Time',xerr='err_time', y='3-10 keV', yerr='3-10 keV_err',  marker=\"s\", s=20, color=\"b\" ,kind = 'scatter',figsize=(15,5))\n",
    "#plt.show()\n",
    "#plt.savefig('hard_lc.pdf')\n",
    "#soft=finaldf['0.5-1.5 keV']*2\n",
    "\n",
    "\n",
    "ax1.set_ylim(-0.001, 0.21)\n",
    "ax1.set_yticks([0.05,0.1,0.15,0.2])\n",
    "fig = plt.figure(figsize=(15, 5))\n",
    "gs = gridspec.GridSpec(nrows=1, ncols=2, width_ratios=[1, 1.5])\n",
    "ax1 = fig.add_subplot(gs[0])\n",
    "ax2 = fig.add_subplot(gs[1])\n",
    "ax1=finaldf_filtered400.plot(x ='Time',xerr='err_time', y='3-10 keV', yerr='3-10 keV_err',  marker=\"s\", s=20, color=\"k\" ,fontsize=18, kind = 'scatter',ax=ax1, figsize=(15,5))\n",
    "ax1=finaldf_filtered450.plot(x ='Time',xerr='err_time', y='3-10 keV', yerr='3-10 keV_err', fontsize=18, marker=\"s\", s=20, color=\"m\" ,  kind = 'scatter',ax=ax1, figsize=(15,5))\n",
    "\n",
    "ax2=finaldf_filtered1250.plot(x ='Time',xerr='err_time', y='3-10 keV', yerr='3-10 keV_err',  marker=\"s\", s=20, color=\"r\" , fontsize=18, kind = 'scatter',ax=ax2, figsize=(15,5))\n",
    "ax2=finaldf_filtered1600.plot(x ='Time',xerr='err_time', y='3-10 keV', yerr='3-10 keV_err', fontsize=18, marker=\"s\", s=20, color=\"b\" ,  kind = 'scatter',ax=ax2, figsize=(15,5))\n",
    "\n",
    "\n",
    "ax1.set_xlim(-10,450) # most of the data\n",
    "ax2.set_xlim(850,1540) # outliers only\n",
    "\n",
    "plt.subplots_adjust(wspace=0.05, hspace=0)\n",
    "\n",
    "#fig,(ax1,ax2) = plt.subplots(1, 2,  sharey=True)\n",
    "#ax1.set_xlim(-10,450) # most of the data\n",
    "#ax2.set_xlim(850,1540) # outliers only\n",
    "#ax1.tick_params(labeltop='off') # don't put tick labels at the top\n",
    "#ax2.tick_params(labeltop='off') # don't put tick labels at the top\n",
    "\n",
    "#ax1.spines['right'].set_dashes(5,1)\n",
    "\n",
    "\n",
    "#ax1.spines['right'].set_visible(False)\n",
    "#ax2.spines['left'].set_visible(False)\n",
    "ax1.set_xlabel('')\n",
    "ax2.set_xlabel('')\n",
    "\n",
    "\n",
    "ax2.set_ylabel('')\n",
    "ax2.spines['left'].set_visible(False)\n",
    "ax1.spines['right'].set_visible(False)\n",
    "#ax1.set_aspect(\"auto\")\n",
    "ax2.yaxis.get_ticks_position\n",
    "\n",
    "\n",
    "ax1.yaxis.tick_left()\n",
    "ax2.yaxis.set_ticks_position(\"none\")\n",
    "ax2.set_yticklabels([])\n",
    "\n",
    "#ax2.yaxis.set_ticks_position(\"right\")\n",
    "#ax2.set_yticklabels([])\n",
    "\n",
    "\n",
    "#ax1.tick_params(labeltop='off') # don't put tick labels at the top\n",
    "\n",
    "#\n",
    "\n",
    "ax1.set_ylim(-0.001, 0.21)\n",
    "ax1.set_yticks([0.05,0.1,0.15,0.2])\n",
    "#ylim = ax1.get_ylim()\n",
    "ax2.set_ylim(-0.001, 0.21)\n",
    "\n",
    "\n",
    "\n",
    "xlim1 = [-10, 450]\n",
    "xlim2 = [850, 1540]\n",
    "xlim1ratio = (xlim1[1]-xlim1[0])/(xlim2[1]-xlim2[0]+xlim1[1]-xlim1[0])\n",
    "xlim2ratio = (xlim2[1]-xlim2[0])/(xlim2[1]-xlim2[0]+xlim1[1]-xlim1[0])\n",
    "\n",
    "\n",
    "kwargs = dict(color='k', clip_on=False)\n",
    "#ylim = [-0.001, 0.21]\n",
    "dy = .02*(ylim[1]-ylim[0])\n",
    "dx = .01*(xlim1[1]-xlim1[0])/xlim1ratio\n",
    " \n",
    "#ax1.plot((xlim1[1]-dx,xlim1[0]+dx), (ylim[0]-dy,ylim[0]+dy), **kwargs)\n",
    "ax1.plot((xlim1[1]-dx,xlim1[1]+dx), (ylim[0]-dy,ylim[0]+dy), **kwargs) ##bot-left diagonal\n",
    "ax1.plot((xlim1[1]-dx,xlim1[1]+dx), (ylim[1]-dy,ylim[1]+dy), **kwargs) ## top-lef diagonal\n",
    "#ax2.plot((xlim2[0]-dx,xlim2[0]+dx), (ylim[1]+2*dy,ylim[1]+4*dy), **kwargs)\n",
    "dx = .01*(xlim2[1]-xlim2[0])/xlim2ratio\n",
    "dy = .02*(ylim[1]-ylim[0])\n",
    "\n",
    "\n",
    "ax2.plot((xlim2[0]-dx,xlim2[0]+dx), (ylim[1]-dy,ylim[1]+dy), **kwargs)\n",
    "ax2.plot((xlim2[0]-dx,xlim2[0]+dx), (ylim[0]-dy,ylim[0]+dy), **kwargs)\n",
    "\n",
    "\n",
    "\n",
    "#ax1.plot((1- dx, 1 + dx), (-d, +d), **kwargs)  # top-right diagonal\n",
    "#ax1.plot((1-dx,  1+dx), (1-d, 1+d), **kwargs)  # top-right diagonal\n",
    "\n",
    "# arguments to pass to plot, just so we don't keep repeating them\n",
    "kwargs = dict(transform=ax2.transAxes, color='k', clip_on=False)\n",
    "#ax1.plot((-d, +d), (-d, +d), **kwargs)        # top-left diagonal\n",
    "#ax2.plot((-dx,  dx), (1-dy, 1+dy), **kwargs)  # top-right diagonal\n",
    "#ax2.plot((-d,  +d), (-d, +d), **kwargs)  # top-right diagonal\n",
    "\n",
    "\n",
    "\n",
    "#ax2.tick_params(labeltop='off') # don't put tick labels at the top\n",
    "\n",
    "ax1.set_ylabel('COUNT RATE s$^{-1}$', fontsize=18)\n",
    "ylim = ax1.get_ylim()\n",
    "\n",
    "fig.text(0.5, 0.01, 'Time (Ksec)', ha='center', fontsize=18)\n",
    "\n",
    "fig.text(0.27, 0.43, '(i)', ha='left', fontsize=18, color='k')\n",
    "\n",
    "\n",
    "fig.text(0.37, 0.6, '(ii)', ha='left', fontsize=18, color='m')\n",
    "\n",
    "fig.text(0.54, 0.43, '(iii)', ha='left', fontsize=18, color='r')\n",
    "fig.text(0.82, 0.43, '(iv)', ha='left', fontsize=18, color='b')\n",
    "\n",
    "\n",
    "\n",
    "\n",
    "plt.savefig('LC_colcoded_diffsize.pdf')  \n",
    "\n",
    "plt.savefig('LC_colcoded_diffsize.eps', format='eps')\n",
    "\n",
    "\n"
   ]
  },
  {
   "cell_type": "code",
   "execution_count": null,
   "metadata": {},
   "outputs": [],
   "source": []
  },
  {
   "cell_type": "code",
   "execution_count": null,
   "metadata": {},
   "outputs": [],
   "source": []
  }
 ],
 "metadata": {
  "kernelspec": {
   "display_name": "Python 3 (ipykernel)",
   "language": "python",
   "name": "python3"
  },
  "language_info": {
   "codemirror_mode": {
    "name": "ipython",
    "version": 3
   },
   "file_extension": ".py",
   "mimetype": "text/x-python",
   "name": "python",
   "nbconvert_exporter": "python",
   "pygments_lexer": "ipython3",
   "version": "3.10.9"
  }
 },
 "nbformat": 4,
 "nbformat_minor": 4
}
