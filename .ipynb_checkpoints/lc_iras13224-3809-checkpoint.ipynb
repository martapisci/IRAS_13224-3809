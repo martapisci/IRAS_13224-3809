{
 "cells": [
  {
   "cell_type": "code",
   "execution_count": 1,
   "metadata": {},
   "outputs": [],
   "source": [
    "import os"
   ]
  },
  {
   "cell_type": "code",
   "execution_count": 2,
   "metadata": {},
   "outputs": [
    {
     "name": "stdout",
     "output_type": "stream",
     "text": [
      "/Users/martapiscitelli/Analisi_tesi/IRAS_13224-3809\n"
     ]
    }
   ],
   "source": [
    "!pwd\n"
   ]
  },
  {
   "cell_type": "code",
   "execution_count": 3,
   "metadata": {},
   "outputs": [],
   "source": [
    "import pandas as pd\n",
    "import numpy as np"
   ]
  },
  {
   "cell_type": "code",
   "execution_count": 4,
   "metadata": {},
   "outputs": [],
   "source": [
    "import matplotlib.pyplot as plt"
   ]
  },
  {
   "cell_type": "markdown",
   "metadata": {},
   "source": [
    "IRAS 13224-3809 is a Narrow line Seyfert 1, this source has been widely observed in the past years, mainly because of its high variability and its relative proximity compared to other sources.\\\n",
    "In the following analysis I reported all the observations carried out with the XRT telescope in the Swift satellite. The observations are sampled in five different campaigns.\\\n",
    "All data were downloaded from the Swift website (https://www.swift.ac.uk)"
   ]
  },
  {
   "cell_type": "code",
   "execution_count": 5,
   "metadata": {},
   "outputs": [
    {
     "name": "stdout",
     "output_type": "stream",
     "text": [
      "       Time  time_err  0.3-1.5keV  0.3-1.5keV_err  1.5-10keV  1.5-10keV_err  \\\n",
      "0   2287.59  0.070694    0.094452        0.007342   0.015703       0.003011   \n",
      "1   2291.34  0.169178    0.157264        0.010393   0.024009       0.004254   \n",
      "2   2292.08  0.433403    0.104382        0.009079   0.009656       0.002804   \n",
      "3   2293.01  0.242859    0.195584        0.015051   0.020040       0.004910   \n",
      "4   2294.78  0.001875    0.060268        0.015398   0.003302       0.003987   \n",
      "5   2297.04  0.068912    0.033035        0.004587   0.001462       0.001098   \n",
      "6   2297.67  0.036701    0.057294        0.007129   0.008348       0.002742   \n",
      "7   2298.76  0.070046    0.114828        0.011220   0.010100       0.003421   \n",
      "8   2300.37  0.002558    0.061520        0.015751   0.003134       0.003736   \n",
      "9   2301.95  0.345845    0.120237        0.008695   0.008074       0.002325   \n",
      "10  2303.22  0.073762    0.310580        0.018355   0.043757       0.006964   \n",
      "11  2304.53  0.072824    0.127225        0.009927   0.015129       0.003366   \n",
      "12  2304.97  0.113067    0.093144        0.007710   0.013781       0.003021   \n",
      "13  2306.37  0.026921    0.152090        0.013299   0.019424       0.004716   \n",
      "14  2308.96  0.168993    0.121529        0.015748   0.007534       0.004086   \n",
      "15  2312.70  0.012731    0.195891        0.032914   0.021354       0.010942   \n",
      "16  2317.17  0.343681    0.192988        0.010986   0.035224       0.004739   \n",
      "17  2318.46  0.039850    0.076109        0.008186   0.005644       0.002280   \n",
      "18  2318.92  0.035498    0.126494        0.008829   0.017446       0.003328   \n",
      "19  2320.98  0.039236    0.342696        0.018039   0.050212       0.007013   \n",
      "20  2322.25  0.229664    0.262900        0.015382   0.066016       0.008024   \n",
      "21  2323.01  0.004387    0.141099        0.015142   0.025310       0.006455   \n",
      "22  2324.21  0.009340    0.316542        0.020702   0.049463       0.008307   \n",
      "23  2324.58  0.038484    0.396710        0.020667   0.053763       0.007709   \n",
      "24  2328.56  0.038507    0.042624        0.005208   0.005472       0.001858   \n",
      "\n",
      "          HR    HR_err        ID  \n",
      "0   0.166251  0.034401  34597001  \n",
      "1   0.152668  0.028869  34597002  \n",
      "2   0.092508  0.028046  34597003  \n",
      "3   0.102462  0.026314  34597004  \n",
      "4   0.054784  0.067624  34597006  \n",
      "5   0.044242  0.033808  34597008  \n",
      "6   0.145707  0.051178  34597009  \n",
      "7   0.087958  0.031004  34597010  \n",
      "8   0.050936  0.062114  34597011  \n",
      "9   0.067152  0.019934  34597012  \n",
      "10  0.140888  0.023920  34597013  \n",
      "11  0.118915  0.028035  34597014  \n",
      "12  0.147954  0.034666  34597015  \n",
      "13  0.127714  0.032961  34597016  \n",
      "14  0.061992  0.034568  34597019  \n",
      "15  0.109009  0.058783  34597020  \n",
      "16  0.182520  0.026663  34597021  \n",
      "17  0.074163  0.031000  34597022  \n",
      "18  0.137918  0.028017  34597023  \n",
      "19  0.146520  0.021870  34597024  \n",
      "20  0.251108  0.033873  34597025  \n",
      "21  0.179376  0.049630  34597026  \n",
      "22  0.156261  0.028163  34597027  \n",
      "23  0.135522  0.020676  34597028  \n",
      "24  0.128371  0.046320  34597030  \n",
      "\n",
      "\n",
      "      Time  time_err  0.3-1.5keV  0.3-1.5keV_err  1.5-10keV  1.5-10keV_err  \\\n",
      "0  2288.56  0.039744    0.199802        0.013766   0.026769       0.005294   \n",
      "1  2290.89  0.038413    0.162888        0.011138   0.029303       0.004676   \n",
      "2  2311.98  0.004237    0.149695        0.017476   0.022733       0.007446   \n",
      "3  2313.61  0.031145    0.025533        0.004228   0.001659       0.001198   \n",
      "4  2318.32  0.036478    0.015891        0.003121   0.003766       0.001523   \n",
      "\n",
      "         HR    HR_err        ID  \n",
      "0  0.133977  0.028060  81958001  \n",
      "1  0.179898  0.031233  81958002  \n",
      "2  0.151859  0.052808  81958003  \n",
      "3  0.064970  0.048145  81958004  \n",
      "4  0.237013  0.106555  81958005  \n",
      "\n",
      "\n",
      "         Time  time_err  0.3-1.5keV  0.3-1.5keV_err  1.5-10keV  1.5-10keV_err  \\\n",
      "0     4.15015  0.340074    0.094057        0.010587   0.002832       0.002045   \n",
      "1     7.82523  0.007356    0.103142        0.011323   0.014865       0.004363   \n",
      "2    12.24620  0.003729    0.107302        0.014735   0.015693       0.005648   \n",
      "3    16.47090  0.001248    0.187836        0.033017   0.051195       0.017206   \n",
      "4    20.27770  0.008372    0.242415        0.014855   0.042061       0.006066   \n",
      "..        ...       ...         ...             ...        ...            ...   \n",
      "60  345.96300  0.006573    0.027955        0.005693   0.004252       0.002275   \n",
      "61  348.30300  0.005731    0.106280        0.011657   0.027981       0.006011   \n",
      "62  352.45000  0.007908    0.038815        0.008094   0.006401       0.003363   \n",
      "63  356.37000  0.037920    0.106918        0.011450   0.027791       0.005960   \n",
      "64  360.08600  0.005238    0.103466        0.012004   0.018293       0.005121   \n",
      "\n",
      "          HR    HR_err        ID  \n",
      "0   0.030111  0.022005  90394002  \n",
      "1   0.144117  0.045166  90394003  \n",
      "2   0.146253  0.056336  90394004  \n",
      "3   0.272550  0.103372  90394005  \n",
      "4   0.173507  0.027187  90394006  \n",
      "..       ...       ...       ...  \n",
      "60  0.152115  0.087068  90394068  \n",
      "61  0.263276  0.063506  90394069  \n",
      "62  0.164906  0.093211  90394070  \n",
      "63  0.259926  0.062307  90394071  \n",
      "64  0.176798  0.053578  90394072  \n",
      "\n",
      "[65 rows x 9 columns]\n",
      "\n",
      "\n",
      "      Time  time_err  0.3-1.5keV  0.3-1.5keV_err  1.5-10keV  1.5-10keV_err  \\\n",
      "0  1417.51  0.006631    0.179462        0.018268   0.014377       0.005447   \n",
      "1  1442.35  0.098968    0.147509        0.007253   0.023357       0.002910   \n",
      "2  1444.38  0.006457    0.033120        0.006311   0.003187       0.002032   \n",
      "\n",
      "         HR    HR_err        ID  \n",
      "0  0.080113  0.031427  91635002  \n",
      "1  0.158342  0.021210  91635003  \n",
      "2  0.096231  0.064029  91635004  \n",
      "\n",
      "\n",
      "      Time  time_err  0.3-1.5keV  0.3-1.5keV_err  1.5-10keV  1.5-10keV_err  \\\n",
      "0  4080.04  0.007008    0.044248        0.007025   0.001945       0.001557   \n",
      "1  4151.78  0.002235    0.146733        0.021915   0.021512       0.008516   \n",
      "\n",
      "         HR    HR_err        ID  \n",
      "0  0.043951  0.035875  96052001  \n",
      "1  0.146607  0.062027  96052003  \n"
     ]
    }
   ],
   "source": [
    "#importing data \n",
    "lcurve1=pd.read_csv('build/plot_345970-1.cvs',\n",
    "encoding='latin-1',\n",
    "    sep=\";\"\n",
    ")\n",
    "print(lcurve1)\n",
    "print(\"\\n\")\n",
    "lcurve2=pd.read_csv('build/plot_819580-1.cvs',\n",
    "encoding='latin-1',\n",
    "    sep=\";\"\n",
    ")\n",
    "print(lcurve2)\n",
    "\n",
    "print(\"\\n\")\n",
    "lcurve3=pd.read_csv('build/plot_903940-1.cvs',\n",
    "encoding='latin-1',\n",
    "    sep=\";\"\n",
    ")\n",
    "print(lcurve3)\n",
    "\n",
    "print(\"\\n\")\n",
    "lcurve4=pd.read_csv('build/plot_916350-1.cvs',\n",
    "encoding='latin-1',\n",
    "    sep=\";\"\n",
    ")\n",
    "print(lcurve4)\n",
    "\n",
    "print(\"\\n\")\n",
    "lcurve5=pd.read_csv('build/plot_960520-1.cvs',\n",
    "encoding='latin-1',\n",
    "    sep=\";\"\n",
    ")\n",
    "print(lcurve5)\n"
   ]
  },
  {
   "cell_type": "code",
   "execution_count": 6,
   "metadata": {},
   "outputs": [],
   "source": [
    "#\n",
    "frames = [lcurve1, lcurve2, lcurve3,lcurve4,lcurve5]\n",
    "result = pd.concat(frames)"
   ]
  },
  {
   "cell_type": "code",
   "execution_count": 7,
   "metadata": {},
   "outputs": [
    {
     "data": {
      "text/plain": [
       "Index(['Time', 'time_err', '0.3-1.5keV', '0.3-1.5keV_err', '1.5-10keV',\n",
       "       '1.5-10keV_err', 'HR', 'HR_err', 'ID'],\n",
       "      dtype='object')"
      ]
     },
     "execution_count": 7,
     "metadata": {},
     "output_type": "execute_result"
    }
   ],
   "source": [
    "lcurve1.columns\n"
   ]
  },
  {
   "cell_type": "code",
   "execution_count": 8,
   "metadata": {},
   "outputs": [
    {
     "data": {
      "text/plain": [
       "Index(['Time', 'time_err', '0.3-1.5keV', '0.3-1.5keV_err', '1.5-10keV',\n",
       "       '1.5-10keV_err', 'HR', 'HR_err', 'ID'],\n",
       "      dtype='object')"
      ]
     },
     "execution_count": 8,
     "metadata": {},
     "output_type": "execute_result"
    }
   ],
   "source": [
    "lcurve2.columns"
   ]
  },
  {
   "cell_type": "code",
   "execution_count": 9,
   "metadata": {},
   "outputs": [
    {
     "data": {
      "text/plain": [
       "Index(['Time', 'time_err', '0.3-1.5keV', '0.3-1.5keV_err', '1.5-10keV',\n",
       "       '1.5-10keV_err', 'HR', 'HR_err', 'ID'],\n",
       "      dtype='object')"
      ]
     },
     "execution_count": 9,
     "metadata": {},
     "output_type": "execute_result"
    }
   ],
   "source": [
    "lcurve3.columns"
   ]
  },
  {
   "cell_type": "code",
   "execution_count": 10,
   "metadata": {},
   "outputs": [
    {
     "data": {
      "text/plain": [
       "Index(['Time', 'time_err', '0.3-1.5keV', '0.3-1.5keV_err', '1.5-10keV',\n",
       "       '1.5-10keV_err', 'HR', 'HR_err', 'ID'],\n",
       "      dtype='object')"
      ]
     },
     "execution_count": 10,
     "metadata": {},
     "output_type": "execute_result"
    }
   ],
   "source": [
    "lcurve4.columns"
   ]
  },
  {
   "cell_type": "code",
   "execution_count": 11,
   "metadata": {},
   "outputs": [
    {
     "data": {
      "text/plain": [
       "Index(['Time', 'time_err', '0.3-1.5keV', '0.3-1.5keV_err', '1.5-10keV',\n",
       "       '1.5-10keV_err', 'HR', 'HR_err', 'ID'],\n",
       "      dtype='object')"
      ]
     },
     "execution_count": 11,
     "metadata": {},
     "output_type": "execute_result"
    }
   ],
   "source": [
    "lcurve5.columns"
   ]
  },
  {
   "cell_type": "code",
   "execution_count": 12,
   "metadata": {},
   "outputs": [],
   "source": [
    "#column for normalized hardness ratio on total counts.\n",
    "lcurve1['H-S/H+S']  = (lcurve1['1.5-10keV'] - lcurve1['0.3-1.5keV']) / (lcurve1['1.5-10keV'] + lcurve1['0.3-1.5keV'])\n",
    "lcurve2['H-S/H+S']  = (lcurve2['1.5-10keV'] - lcurve2['0.3-1.5keV']) / (lcurve2['1.5-10keV'] + lcurve2['0.3-1.5keV'])\n",
    "lcurve3['H-S/H+S']  = (lcurve3['1.5-10keV'] - lcurve3['0.3-1.5keV']) / (lcurve3['1.5-10keV'] + lcurve3['0.3-1.5keV'])\n",
    "lcurve4['H-S/H+S']  = (lcurve4['1.5-10keV'] - lcurve4['0.3-1.5keV']) / (lcurve4['1.5-10keV'] + lcurve4['0.3-1.5keV'])\n",
    "lcurve5['H-S/H+S']  = (lcurve5['1.5-10keV'] - lcurve5['0.3-1.5keV']) / (lcurve5['1.5-10keV'] + lcurve5['0.3-1.5keV'])"
   ]
  },
  {
   "cell_type": "code",
   "execution_count": 13,
   "metadata": {},
   "outputs": [],
   "source": [
    "#single terms for error propagation\n",
    "a_err = ((2*lcurve1['0.3-1.5keV'])/((lcurve1['0.3-1.5keV'] + lcurve1['1.5-10keV'])**2)*(lcurve1['1.5-10keV_err']))\n",
    "b_err = ((2*lcurve1['1.5-10keV'])/((lcurve1['0.3-1.5keV'] + lcurve1['1.5-10keV'])**2)*(lcurve1['0.3-1.5keV_err']))\n",
    "\n",
    "a_err2 = ((2*lcurve2['0.3-1.5keV'])/((lcurve2['0.3-1.5keV'] + lcurve2['1.5-10keV'])**2)*(lcurve2['1.5-10keV_err']))\n",
    "b_err2 = ((2*lcurve2['1.5-10keV'])/((lcurve2['0.3-1.5keV'] + lcurve2['1.5-10keV'])**2)*(lcurve2['0.3-1.5keV_err']))\n",
    "\n",
    "a_err3 = ((2*lcurve3['0.3-1.5keV'])/((lcurve3['0.3-1.5keV'] + lcurve3['1.5-10keV'])**2)*(lcurve3['1.5-10keV_err']))\n",
    "b_err3 = ((2*lcurve3['1.5-10keV'])/((lcurve3['0.3-1.5keV'] + lcurve3['1.5-10keV'])**2)*(lcurve3['0.3-1.5keV_err']))\n",
    "\n",
    "a_err4 = ((2*lcurve4['0.3-1.5keV'])/((lcurve4['0.3-1.5keV'] + lcurve4['1.5-10keV'])**2)*(lcurve4['1.5-10keV_err']))\n",
    "b_err4 = ((2*lcurve4['1.5-10keV'])/((lcurve4['0.3-1.5keV'] + lcurve4['1.5-10keV'])**2)*(lcurve4['0.3-1.5keV_err']))\n",
    "\n",
    "a_err5 = ((2*lcurve5['0.3-1.5keV'])/((lcurve5['0.3-1.5keV'] + lcurve5['1.5-10keV'])**2)*(lcurve5['1.5-10keV_err']))\n",
    "b_err5 = ((2*lcurve5['1.5-10keV'])/((lcurve5['0.3-1.5keV'] + lcurve5['1.5-10keV'])**2)*(lcurve5['0.3-1.5keV_err']))"
   ]
  },
  {
   "cell_type": "code",
   "execution_count": 14,
   "metadata": {},
   "outputs": [],
   "source": [
    "#taking the sum of squares, and defining the error columns\n",
    "normHR_err = np.sqrt(a_err**2 + b_err**2)\n",
    "lcurve1['normHR_err'] = normHR_err\n",
    "\n",
    "normHR_err2 = np.sqrt(a_err2**2 + b_err2**2)\n",
    "lcurve2['normHR_err'] = normHR_err2\n",
    "\n",
    "normHR_err3 = np.sqrt(a_err3**2 + b_err3**2)\n",
    "lcurve3['normHR_err'] = normHR_err3\n",
    "\n",
    "normHR_err4 = np.sqrt(a_err4**2 + b_err4**2)\n",
    "lcurve4['normHR_err'] = normHR_err4\n",
    "\n",
    "normHR_err5 = np.sqrt(a_err5**2 + b_err5**2)\n",
    "lcurve5['normHR_err'] = normHR_err5"
   ]
  },
  {
   "cell_type": "code",
   "execution_count": 15,
   "metadata": {},
   "outputs": [
    {
     "name": "stdout",
     "output_type": "stream",
     "text": [
      "2287.59\n",
      "4.15015\n"
     ]
    }
   ],
   "source": [
    "#Selecting the zeroth-elemtent of the time matrix for each data set\n",
    "lcurve1[\"Time\"]\n",
    "matrix = lcurve1.to_numpy()\n",
    "t0 = matrix[0][0]\n",
    "print(t0)\n",
    "#t0 = 'Time'[1;1]\n",
    "\n",
    "matrix2 = lcurve2.to_numpy()\n",
    "t02 = matrix2[0][0]\n",
    "\n",
    "matrix3 = lcurve3.to_numpy()\n",
    "t03 = matrix3[0][0]\n",
    "\n",
    "matrix4 = lcurve4.to_numpy()\n",
    "t04 = matrix4[0][0]\n",
    "\n",
    "matrix5 = lcurve5.to_numpy()\n",
    "t05 = matrix5[0][0]\n",
    "print(t03)"
   ]
  },
  {
   "cell_type": "code",
   "execution_count": 16,
   "metadata": {},
   "outputs": [
    {
     "name": "stdout",
     "output_type": "stream",
     "text": [
      "<bound method DataFrame.to_numpy of        Time  time_err  0.3-1.5keV  0.3-1.5keV_err  1.5-10keV  1.5-10keV_err  \\\n",
      "0   2287.59  0.070694    0.094452        0.007342   0.015703       0.003011   \n",
      "1   2291.34  0.169178    0.157264        0.010393   0.024009       0.004254   \n",
      "2   2292.08  0.433403    0.104382        0.009079   0.009656       0.002804   \n",
      "3   2293.01  0.242859    0.195584        0.015051   0.020040       0.004910   \n",
      "4   2294.78  0.001875    0.060268        0.015398   0.003302       0.003987   \n",
      "..      ...       ...         ...             ...        ...            ...   \n",
      "0   1417.51  0.006631    0.179462        0.018268   0.014377       0.005447   \n",
      "1   1442.35  0.098968    0.147509        0.007253   0.023357       0.002910   \n",
      "2   1444.38  0.006457    0.033120        0.006311   0.003187       0.002032   \n",
      "0   4080.04  0.007008    0.044248        0.007025   0.001945       0.001557   \n",
      "1   4151.78  0.002235    0.146733        0.021915   0.021512       0.008516   \n",
      "\n",
      "          HR    HR_err        ID  \n",
      "0   0.166251  0.034401  34597001  \n",
      "1   0.152668  0.028869  34597002  \n",
      "2   0.092508  0.028046  34597003  \n",
      "3   0.102462  0.026314  34597004  \n",
      "4   0.054784  0.067624  34597006  \n",
      "..       ...       ...       ...  \n",
      "0   0.080113  0.031427  91635002  \n",
      "1   0.158342  0.021210  91635003  \n",
      "2   0.096231  0.064029  91635004  \n",
      "0   0.043951  0.035875  96052001  \n",
      "1   0.146607  0.062027  96052003  \n",
      "\n",
      "[100 rows x 9 columns]>\n"
     ]
    }
   ],
   "source": [
    "result_matrix = result.to_numpy\n",
    "print(result_matrix)"
   ]
  },
  {
   "cell_type": "code",
   "execution_count": 17,
   "metadata": {},
   "outputs": [
    {
     "data": {
      "text/plain": [
       "0     2283.43985\n",
       "1     2287.18985\n",
       "2     2287.92985\n",
       "3     2288.85985\n",
       "4     2290.62985\n",
       "5     2292.88985\n",
       "6     2293.51985\n",
       "7     2294.60985\n",
       "8     2296.21985\n",
       "9     2297.79985\n",
       "10    2299.06985\n",
       "11    2300.37985\n",
       "12    2300.81985\n",
       "13    2302.21985\n",
       "14    2304.80985\n",
       "15    2308.54985\n",
       "16    2313.01985\n",
       "17    2314.30985\n",
       "18    2314.76985\n",
       "19    2316.82985\n",
       "20    2318.09985\n",
       "21    2318.85985\n",
       "22    2320.05985\n",
       "23    2320.42985\n",
       "24    2324.40985\n",
       "Name: Time, dtype: float64"
      ]
     },
     "execution_count": 17,
     "metadata": {},
     "output_type": "execute_result"
    }
   ],
   "source": [
    "#subtracting time-0 of the earliest campaign to all data sets. \n",
    "lcurve1['Time'] = lcurve1['Time'] - t03\n",
    "lcurve2['Time'] = lcurve2['Time'] - t03\n",
    "lcurve3['Time'] = lcurve3['Time'] - t03\n",
    "lcurve4['Time'] = lcurve4['Time'] - t03\n",
    "lcurve5['Time'] = lcurve5['Time'] - t03\n",
    "\n",
    "#printing Time values in order to set boundaries for each campaign\n",
    "lcurve1[\"Time\"]"
   ]
  },
  {
   "cell_type": "code",
   "execution_count": 18,
   "metadata": {},
   "outputs": [
    {
     "data": {
      "text/plain": [
       "0    2284.40985\n",
       "1    2286.73985\n",
       "2    2307.82985\n",
       "3    2309.45985\n",
       "4    2314.16985\n",
       "Name: Time, dtype: float64"
      ]
     },
     "execution_count": 18,
     "metadata": {},
     "output_type": "execute_result"
    }
   ],
   "source": [
    "lcurve2[\"Time\"]\n",
    "\n"
   ]
  },
  {
   "cell_type": "code",
   "execution_count": 19,
   "metadata": {},
   "outputs": [
    {
     "data": {
      "text/plain": [
       "0       0.00000\n",
       "1       3.67508\n",
       "2       8.09605\n",
       "3      12.32075\n",
       "4      16.12755\n",
       "        ...    \n",
       "60    341.81285\n",
       "61    344.15285\n",
       "62    348.29985\n",
       "63    352.21985\n",
       "64    355.93585\n",
       "Name: Time, Length: 65, dtype: float64"
      ]
     },
     "execution_count": 19,
     "metadata": {},
     "output_type": "execute_result"
    }
   ],
   "source": [
    "lcurve3[\"Time\"]"
   ]
  },
  {
   "cell_type": "code",
   "execution_count": 20,
   "metadata": {},
   "outputs": [
    {
     "data": {
      "text/plain": [
       "0    1413.35985\n",
       "1    1438.19985\n",
       "2    1440.22985\n",
       "Name: Time, dtype: float64"
      ]
     },
     "execution_count": 20,
     "metadata": {},
     "output_type": "execute_result"
    }
   ],
   "source": [
    "lcurve4[\"Time\"]"
   ]
  },
  {
   "cell_type": "code",
   "execution_count": 21,
   "metadata": {},
   "outputs": [
    {
     "data": {
      "text/plain": [
       "0    4075.88985\n",
       "1    4147.62985\n",
       "Name: Time, dtype: float64"
      ]
     },
     "execution_count": 21,
     "metadata": {},
     "output_type": "execute_result"
    }
   ],
   "source": [
    "lcurve5[\"Time\"]"
   ]
  },
  {
   "cell_type": "code",
   "execution_count": 22,
   "metadata": {},
   "outputs": [
    {
     "data": {
      "image/png": "[encoded data removed]",
      "text/plain": [
       "<Figure size 640x480 with 1 Axes>"
      ]
     },
     "metadata": {},
     "output_type": "display_data"
    }
   ],
   "source": [
    "#Plotting HR for individual sets of observations\n",
    "x1 = lcurve1['Time']\n",
    "xerr1 = lcurve1['time_err']\n",
    "y1 = lcurve1['HR']\n",
    "yerr1 = lcurve1['HR_err']\n",
    "\n",
    "plt.errorbar(lcurve1['Time']-t0,y1,xerr=xerr1,yerr=yerr1, color='r', marker='.', label='obs1', linestyle='None')\n",
    "\n",
    "\n",
    "x2 = lcurve2['Time']\n",
    "xerr2 = lcurve2['time_err']\n",
    "y2 = lcurve2['HR']\n",
    "yerr2 = lcurve2['HR_err']\n",
    "\n",
    "plt.errorbar(lcurve2['Time']-t0, y2,xerr=xerr2,yerr=yerr2, color='b', marker='.', label='obs2',linestyle='None')\n",
    "\n",
    "\n",
    "x3 = lcurve3['Time']\n",
    "xerr3 = lcurve3['time_err']\n",
    "y3 = lcurve3['HR']\n",
    "yerr3 = lcurve3['HR_err']\n",
    "\n",
    "#plt.errorbar(x3, y3,xerr=xerr3,yerr=yerr3, color='g', marker='.', label='obs3',linestyle='None')\n",
    "\n",
    "\n",
    "plt.legend()\n",
    "plt.xlabel('Time [days]')\n",
    "plt.ylabel('HR')\n",
    "plt.show()"
   ]
  },
  {
   "cell_type": "code",
   "execution_count": 23,
   "metadata": {},
   "outputs": [
    {
     "data": {
      "image/png": "[encoded data removed]",
      "text/plain": [
       "<Figure size 640x480 with 1 Axes>"
      ]
     },
     "metadata": {},
     "output_type": "display_data"
    }
   ],
   "source": [
    "#Plotting normalized HR for individual sets of observations\n",
    "# ! to set the origin of the x-axis in zero change the time vector, by subtracting the relevant t0 for each data set. \n",
    "plt.errorbar(lcurve2['Time']-t0, lcurve2['H-S/H+S'],xerr=lcurve2['time_err'],yerr=lcurve2['normHR_err'], color='b', marker='.', label='obs2',linestyle='None')\n",
    "plt.errorbar(lcurve1['Time']-t0, lcurve1['H-S/H+S'],xerr=lcurve1['time_err'],yerr=lcurve1['normHR_err'], color='r', marker='.', label='obs2',linestyle='None')\n",
    "plt.xlabel('Time [days]')\n",
    "plt.ylabel(r'$\\frac{{H-S}}{{H+S}}$')\n",
    "plt.savefig(\"plot/HR_vs_time_variability.pdf\")\n",
    "plt.show()"
   ]
  },
  {
   "cell_type": "code",
   "execution_count": 24,
   "metadata": {},
   "outputs": [
    {
     "data": {
      "image/png": "[encoded data removed]",
      "text/plain": [
       "<Figure size 640x480 with 1 Axes>"
      ]
     },
     "metadata": {},
     "output_type": "display_data"
    }
   ],
   "source": [
    "#Plotting HR as a function of counts for all observations\n",
    "# c = H + S are counts and 'counts' is the error on counts\n",
    "lcurve1['cts']  = (lcurve1['1.5-10keV'] + lcurve1['0.3-1.5keV'])\n",
    "lcurve2['cts']  = (lcurve2['1.5-10keV'] + lcurve2['0.3-1.5keV'])\n",
    "lcurve3['cts']  = (lcurve3['1.5-10keV'] + lcurve3['0.3-1.5keV'])\n",
    "lcurve4['cts']  = (lcurve4['1.5-10keV'] + lcurve4['0.3-1.5keV'])\n",
    "lcurve5['cts']  = (lcurve5['1.5-10keV'] + lcurve5['0.3-1.5keV'])\n",
    "\n",
    "#computing the error on H+S\n",
    "lcurve1['err_counts'] = np.sqrt(lcurve1['1.5-10keV_err']**2 + lcurve1['0.3-1.5keV_err']**2)\n",
    "lcurve2['err_counts'] = np.sqrt(lcurve2['1.5-10keV_err']**2 + lcurve2['0.3-1.5keV_err']**2)\n",
    "lcurve3['err_counts'] = np.sqrt(lcurve3['1.5-10keV_err']**2 + lcurve3['0.3-1.5keV_err']**2)\n",
    "lcurve4['err_counts'] = np.sqrt(lcurve4['1.5-10keV_err']**2 + lcurve4['0.3-1.5keV_err']**2)\n",
    "lcurve5['err_counts'] = np.sqrt(lcurve5['1.5-10keV_err']**2 + lcurve5['0.3-1.5keV_err']**2)\n",
    "\n",
    "\n",
    "plt.errorbar(lcurve1['cts'],lcurve1['HR'],xerr=lcurve1['err_counts'],yerr=lcurve1['HR_err'], color='r', marker=',', linestyle='None')\n",
    "plt.errorbar(lcurve2['cts'],lcurve2['HR'],xerr=lcurve2['err_counts'],yerr=lcurve2['HR_err'], color='b', marker=',', linestyle='None')\n",
    "plt.errorbar(lcurve3['cts'],lcurve3['HR'],xerr=lcurve3['err_counts'],yerr=lcurve3['HR_err'], color='g', marker=',', linestyle='None')\n",
    "plt.errorbar(lcurve4['cts'],lcurve4['HR'],xerr=lcurve4['err_counts'],yerr=lcurve4['HR_err'], color='c', marker=',', linestyle='None')\n",
    "plt.errorbar(lcurve5['cts'],lcurve5['HR'],xerr=lcurve5['err_counts'],yerr=lcurve5['HR_err'], color='y', marker=',', linestyle='None')\n",
    "\n",
    "\n",
    "plt.xlabel('Counts')\n",
    "plt.ylabel('HR')\n",
    "plt.show()"
   ]
  },
  {
   "cell_type": "code",
   "execution_count": 25,
   "metadata": {},
   "outputs": [
    {
     "data": {
      "image/png": "[encoded data removed]",
      "text/plain": [
       "<Figure size 640x480 with 1 Axes>"
      ]
     },
     "metadata": {},
     "output_type": "display_data"
    }
   ],
   "source": [
    "#Plotting normalized HR as a function of hard counts for all observations\n",
    "    \n",
    "plt.errorbar(lcurve1['1.5-10keV'],lcurve1['H-S/H+S'],xerr=lcurve1['1.5-10keV_err'],yerr=lcurve1['normHR_err'], color='r', marker=',', linestyle='None')\n",
    "plt.errorbar(lcurve2['1.5-10keV'],lcurve2['H-S/H+S'],xerr=lcurve2['1.5-10keV_err'],yerr=lcurve2['normHR_err'], color='b', marker=',', linestyle='None')\n",
    "plt.errorbar(lcurve3['1.5-10keV'],lcurve3['H-S/H+S'],xerr=lcurve3['1.5-10keV_err'],yerr=lcurve3['normHR_err'], color='g', marker=',', linestyle='None')\n",
    "plt.errorbar(lcurve4['1.5-10keV'],lcurve4['H-S/H+S'],xerr=lcurve4['1.5-10keV_err'],yerr=lcurve4['normHR_err'], color='c', marker=',', linestyle='None')\n",
    "plt.errorbar(lcurve5['1.5-10keV'],lcurve5['H-S/H+S'],xerr=lcurve5['1.5-10keV_err'],yerr=lcurve5['normHR_err'], color='y', marker=',', linestyle='None')\n",
    "\n",
    "plt.xscale('log') \n",
    "#plt.xlabel('cts 1.5-10keV keV')\n",
    "plt.xlabel('Hard (1.5-10 keV) Counts [s$^{-1}$]')\n",
    "plt.ylabel(r'$\\frac{{H-S}}{{H+S}}$')\n",
    "plt.savefig(\"plot/HR_vs_hardcts.pdf\")\n",
    "plt.show()"
   ]
  },
  {
   "cell_type": "code",
   "execution_count": 26,
   "metadata": {},
   "outputs": [
    {
     "data": {
      "image/png": "[encoded data removed]",
      "text/plain": [
       "<Figure size 640x480 with 1 Axes>"
      ]
     },
     "metadata": {},
     "output_type": "display_data"
    }
   ],
   "source": [
    "#Plotting normalized HR as a function of soft counts for all observations\n",
    "    \n",
    "plt.errorbar(lcurve1['0.3-1.5keV'],lcurve1['H-S/H+S'],xerr=lcurve1['0.3-1.5keV_err'],yerr=lcurve1['normHR_err'], color='r', marker=',', linestyle='None')\n",
    "plt.errorbar(lcurve2['0.3-1.5keV'],lcurve2['H-S/H+S'],xerr=lcurve2['0.3-1.5keV_err'],yerr=lcurve2['normHR_err'], color='b', marker=',', linestyle='None')\n",
    "plt.errorbar(lcurve3['0.3-1.5keV'],lcurve3['H-S/H+S'],xerr=lcurve3['0.3-1.5keV_err'],yerr=lcurve3['normHR_err'], color='g', marker=',', linestyle='None')\n",
    "plt.errorbar(lcurve4['0.3-1.5keV'],lcurve4['H-S/H+S'],xerr=lcurve4['0.3-1.5keV_err'],yerr=lcurve4['normHR_err'], color='c', marker=',', linestyle='None')\n",
    "plt.errorbar(lcurve5['0.3-1.5keV'],lcurve5['H-S/H+S'],xerr=lcurve5['0.3-1.5keV_err'],yerr=lcurve5['normHR_err'], color='y', marker=',', linestyle='None')\n",
    "\n",
    "plt.xscale('log')\n",
    "plt.xlabel('Soft (0.3-1.5 keV) Counts [s$^{-1}$]')\n",
    "plt.ylabel(r'$\\frac{{H-S}}{{H+S}}$')\n",
    "plt.savefig(\"plot/HR_vs_softcts.pdf\")\n",
    "plt.show()"
   ]
  },
  {
   "cell_type": "code",
   "execution_count": 29,
   "metadata": {},
   "outputs": [
    {
     "data": {
      "image/png": "[encoded data removed]",
      "text/plain": [
       "<Figure size 640x480 with 1 Axes>"
      ]
     },
     "metadata": {},
     "output_type": "display_data"
    }
   ],
   "source": [
    "#hard cts v soft cts\n",
    "plt.errorbar(lcurve1['0.3-1.5keV'],lcurve1['1.5-10keV'],xerr=lcurve1['0.3-1.5keV_err'],yerr=lcurve1['1.5-10keV_err'], color='r', marker=',', linestyle='None')\n",
    "plt.errorbar(lcurve2['0.3-1.5keV'],lcurve2['1.5-10keV'],xerr=lcurve2['0.3-1.5keV_err'],yerr=lcurve2['1.5-10keV_err'], color='b', marker=',', linestyle='None')\n",
    "plt.errorbar(lcurve3['0.3-1.5keV'],lcurve3['1.5-10keV'],xerr=lcurve3['0.3-1.5keV_err'],yerr=lcurve3['1.5-10keV_err'], color='g', marker=',', linestyle='None')\n",
    "plt.errorbar(lcurve4['0.3-1.5keV'],lcurve4['1.5-10keV'],xerr=lcurve4['0.3-1.5keV_err'],yerr=lcurve4['1.5-10keV_err'], color='c', marker=',', linestyle='None')\n",
    "plt.errorbar(lcurve5['0.3-1.5keV'],lcurve5['1.5-10keV'],xerr=lcurve5['0.3-1.5keV_err'],yerr=lcurve5['1.5-10keV_err'], color='y', marker=',', linestyle='None')\n",
    "\n",
    "\n",
    "plt.xlabel('Soft (0.3-1.5) Counts [s$^{-1}$]')\n",
    "plt.ylabel('Hard (1.5-10 keV) Counts [s$^{-1}$]')\n",
    "plt.savefig(\"plot/hardcts_vs_soft.pdf\")\n",
    "plt.show()"
   ]
  },
  {
   "cell_type": "code",
   "execution_count": 30,
   "metadata": {},
   "outputs": [
    {
     "data": {
      "image/png": "[encoded data removed]",
      "text/plain": [
       "<Figure size 640x480 with 1 Axes>"
      ]
     },
     "metadata": {},
     "output_type": "display_data"
    }
   ],
   "source": [
    "#hard cts v soft cts\n",
    "plt.errorbar(lcurve1['cts'],lcurve1['1.5-10keV'],xerr=lcurve1['0.3-1.5keV_err'],yerr=lcurve1['1.5-10keV_err'], color='r', marker=',', linestyle='None')\n",
    "plt.errorbar(lcurve2['cts'],lcurve2['1.5-10keV'],xerr=lcurve2['0.3-1.5keV_err'],yerr=lcurve2['1.5-10keV_err'], color='b', marker=',', linestyle='None')\n",
    "plt.errorbar(lcurve3['cts'],lcurve3['1.5-10keV'],xerr=lcurve3['0.3-1.5keV_err'],yerr=lcurve3['1.5-10keV_err'], color='g', marker=',', linestyle='None')\n",
    "plt.errorbar(lcurve4['cts'],lcurve4['1.5-10keV'],xerr=lcurve4['0.3-1.5keV_err'],yerr=lcurve4['1.5-10keV_err'], color='c', marker=',', linestyle='None')\n",
    "plt.errorbar(lcurve5['cts'],lcurve5['1.5-10keV'],xerr=lcurve5['0.3-1.5keV_err'],yerr=lcurve5['1.5-10keV_err'], color='y', marker=',', linestyle='None')\n",
    "\n",
    "\n",
    "plt.xlabel('Total (0.3-10 keV) Counts [s$^{-1}$]')\n",
    "plt.ylabel('Hard (1.5-10 keV) Counts [s$^{-1}$]')\n",
    "plt.savefig(\"plot/hardcts_vs_soft.pdf\")\n",
    "plt.show()"
   ]
  },
  {
   "cell_type": "code",
   "execution_count": null,
   "metadata": {},
   "outputs": [],
   "source": [
    "#HR vs hard cts\n",
    "plt.errorbar(lcurve1['1.5-10keV'],lcurve1['H-S/H+S'],xerr=lcurve1['1.5-10keV_err'],yerr=lcurve1['normHR_err'], color='r', marker=',', linestyle='None')\n",
    "plt.errorbar(lcurve2['1.5-10keV'],lcurve2['H-S/H+S'],xerr=lcurve2['1.5-10keV_err'],yerr=lcurve2['normHR_err'], color='b', marker=',', linestyle='None')\n",
    "plt.errorbar(lcurve3['1.5-10keV'],lcurve3['H-S/H+S'],xerr=lcurve3['1.5-10keV_err'],yerr=lcurve3['normHR_err'], color='g', marker=',', linestyle='None')\n",
    "plt.errorbar(lcurve4['1.5-10keV'],lcurve4['H-S/H+S'],xerr=lcurve4['1.5-10keV_err'],yerr=lcurve4['normHR_err'], color='c', marker=',', linestyle='None')\n",
    "plt.errorbar(lcurve5['1.5-10keV'],lcurve5['H-S/H+S'],xerr=lcurve5['1.5-10keV_err'],yerr=lcurve5['normHR_err'], color='y', marker=',', linestyle='None')\n",
    "\n",
    "\n",
    "plt.xlabel('1.5-10 keV cts')\n",
    "plt.ylabel(r'$\\frac{{H-S}}{{H+S}}$')\n",
    "plt.show()"
   ]
  },
  {
   "cell_type": "code",
   "execution_count": null,
   "metadata": {},
   "outputs": [],
   "source": [
    "#Plotting normalized HR as a function of counts for all observations\n",
    "    \n",
    "plt.errorbar(lcurve1['cts'],lcurve1['H-S/H+S'],xerr=lcurve1['err_counts'],yerr=lcurve1['normHR_err'], color='r', marker=',', linestyle='None')\n",
    "plt.errorbar(lcurve2['cts'],lcurve2['H-S/H+S'],xerr=lcurve2['err_counts'],yerr=lcurve2['normHR_err'], color='b', marker=',', linestyle='None')\n",
    "plt.errorbar(lcurve3['cts'],lcurve3['H-S/H+S'],xerr=lcurve3['err_counts'],yerr=lcurve3['normHR_err'], color='g', marker=',', linestyle='None')\n",
    "plt.errorbar(lcurve4['cts'],lcurve4['H-S/H+S'],xerr=lcurve4['err_counts'],yerr=lcurve4['normHR_err'], color='c', marker=',', linestyle='None')\n",
    "plt.errorbar(lcurve5['cts'],lcurve5['H-S/H+S'],xerr=lcurve5['err_counts'],yerr=lcurve5['normHR_err'], color='y', marker=',', linestyle='None')\n",
    "\n",
    "\n",
    "plt.xlabel('Total (0.3-10 keV) Counts [s$^{-1}$]')\n",
    "plt.ylabel(r'$\\frac{{H-S}}{{H+S}}$')\n",
    "plt.savefig(\"plot/HR_vs_cts.pdf\")\n",
    "plt.show()"
   ]
  },
  {
   "cell_type": "code",
   "execution_count": null,
   "metadata": {},
   "outputs": [],
   "source": [
    "# Plotting normalized HR for all data sets together\n",
    "x1 = lcurve1['Time']\n",
    "xerr1 = lcurve1['time_err']\n",
    "y1 = lcurve1['H-S/H+S']\n",
    "yerr1 = lcurve1['normHR_err']\n",
    "\n",
    "plt.errorbar(x1,y1,xerr=xerr1,yerr=yerr1, color='r', marker='.',markersize=3,linewidth=0.5, label='obs1', linestyle='None')\n",
    "#plt.xscale('log')\n",
    "\n",
    "x2 = lcurve2['Time']\n",
    "xerr2 = lcurve2['time_err']\n",
    "y2 = lcurve2['H-S/H+S']\n",
    "yerr2 = lcurve2['normHR_err']\n",
    "\n",
    "plt.errorbar(x2, y2,xerr=xerr2,yerr=yerr2, color='b', marker='.',markersize=3,linewidth=0.5, label='obs2',linestyle='None')\n",
    "\n",
    "x3 = lcurve3['Time']\n",
    "xerr3 = lcurve3['time_err']\n",
    "y3 = lcurve3['H-S/H+S']\n",
    "yerr3 = lcurve3['normHR_err']\n",
    "\n",
    "plt.errorbar(x3, y3,xerr=xerr3,yerr=yerr3, color='g', marker='.',markersize=3,linewidth=0.5, label='obs3',linestyle='None')\n",
    "\n",
    "\n",
    "x4 = lcurve4['Time']\n",
    "xerr4 = lcurve4['time_err']\n",
    "y4 = lcurve4['H-S/H+S']\n",
    "yerr4 = lcurve4['normHR_err']\n",
    "\n",
    "plt.errorbar(x4, y4,xerr=xerr4,yerr=yerr4, color='c', marker='.',markersize=3,linewidth=0.5, label='obs4',linestyle='None')\n",
    "\n",
    "x5 = lcurve5['Time']\n",
    "xerr5 = lcurve5['time_err']\n",
    "y5 = lcurve5['H-S/H+S']\n",
    "yerr5 = lcurve5['normHR_err']\n",
    "\n",
    "plt.errorbar(x5, y5,xerr=xerr5,yerr=yerr5, color='y', marker='.',markersize=3,linewidth=0.5, label='obs5',linestyle='None')\n",
    "\n",
    "\n",
    "plt.legend()\n",
    "plt.xlabel('Time [days]')\n",
    "plt.ylabel(r'$\\frac{{H-S}}{{H+S}}$')\n",
    "#plt.savefig(\"plot/LC_HR_tot.pdf\")\n",
    "plt.show()"
   ]
  },
  {
   "cell_type": "code",
   "execution_count": null,
   "metadata": {},
   "outputs": [],
   "source": [
    "#crating a big matrix with all data\n",
    "finaldf = pd.concat([lcurve1,lcurve2,lcurve3,lcurve4,lcurve5])\n"
   ]
  },
  {
   "cell_type": "markdown",
   "metadata": {},
   "source": [
    "Here the aim is to divide different observations according to their main features so that it is then possible to group them when constructing their spectra.\\\n",
    "We are interested in first place in dividing observations in these different classes: \n",
    "- hard counts\n",
    "- soft counts\n",
    "- bright (in total)\n",
    "- faint (in total)\n",
    "- soft faint\n",
    "- hard faint\n"
   ]
  },
  {
   "cell_type": "code",
   "execution_count": null,
   "metadata": {},
   "outputs": [],
   "source": [
    "#only selecting observations with specific characteristics: soft, hard and bright \n",
    "finaldf_hard=finaldf.query('HR >= 0.255')\n",
    "finaldf_soft=finaldf.query('HR <= 0.07')\n",
    "finaldf_bright=finaldf.query('cts >= 0.22')\n",
    "finaldf_faint=finaldf.query('cts <= 0.075')\n",
    "finaldf_faint_soft=finaldf.query('`0.3-1.5keV` <= 0.06 and `H-S/H+S` <= -0.85')\n",
    "finaldf_faint_hard=finaldf.query('`1.5-10keV` <= 0.02 and `H-S/H+S` >= -0.65')\n",
    "finaldf_hard2=finaldf.query('`H-S/H+S` >= -0.65')\n",
    "#printing the data relative to the selected observations, we are interested in recovering the ID to extract the spectra. \n",
    "print(finaldf_faint)\n",
    "print(finaldf_faint['ID'])"
   ]
  },
  {
   "cell_type": "code",
   "execution_count": null,
   "metadata": {},
   "outputs": [],
   "source": [
    "#Plotting soft cts vs Time non spined\n",
    "x1 = lcurve1['Time']\n",
    "xerr1 = lcurve1['time_err']\n",
    "y1 = lcurve1['0.3-1.5keV']\n",
    "yerr1 = lcurve1['0.3-1.5keV_err']\n",
    "\n",
    "plt.errorbar(x1,y1,xerr=xerr1,yerr=yerr1, color='r', marker='.',markersize=3,linewidth=0.5, label='obs1', linestyle='None')\n",
    "#plt.xscale('log')\n",
    "\n",
    "x2 = lcurve2['Time']\n",
    "xerr2 = lcurve2['time_err']\n",
    "y2 = lcurve2['0.3-1.5keV']\n",
    "yerr2 = lcurve2['0.3-1.5keV_err']\n",
    "\n",
    "plt.errorbar(x2, y2,xerr=xerr2,yerr=yerr2, color='b', marker='.',markersize=3,linewidth=0.5, label='obs2',linestyle='None')\n",
    "\n",
    "x3 = lcurve3['Time']\n",
    "xerr3 = lcurve3['time_err']\n",
    "y3 = lcurve3['0.3-1.5keV']\n",
    "yerr3 = lcurve3['0.3-1.5keV_err']\n",
    "\n",
    "plt.errorbar(x3, y3,xerr=xerr3,yerr=yerr3, color='g', marker='.',markersize=3,linewidth=0.5, label='obs3',linestyle='None')\n",
    "\n",
    "\n",
    "x4 = lcurve4['Time']\n",
    "xerr4 = lcurve4['time_err']\n",
    "y4 = lcurve4['0.3-1.5keV']\n",
    "yerr4 = lcurve4['0.3-1.5keV_err']\n",
    "\n",
    "plt.errorbar(x4, y4,xerr=xerr4,yerr=yerr4, color='c', marker='.',markersize=3,linewidth=0.5, label='obs4',linestyle='None')\n",
    "\n",
    "x5 = lcurve5['Time']\n",
    "xerr5 = lcurve5['time_err']\n",
    "y5 = lcurve5['0.3-1.5keV']\n",
    "yerr5 = lcurve5['0.3-1.5keV_err']\n",
    "\n",
    "plt.errorbar(x5, y5,xerr=xerr5,yerr=yerr5, color='y', marker='.',markersize=3,linewidth=0.5, label='obs5',linestyle='None')\n",
    "\n",
    "\n",
    "plt.legend()\n",
    "plt.xlabel('Time [days]')\n",
    "plt.ylabel('soft cts')\n",
    "plt.show()"
   ]
  },
  {
   "cell_type": "code",
   "execution_count": null,
   "metadata": {},
   "outputs": [],
   "source": []
  },
  {
   "cell_type": "code",
   "execution_count": null,
   "metadata": {},
   "outputs": [],
   "source": [
    "#reseparating the observations by time ranges\n",
    "finaldf_filteredobs1=finaldf.query('Time < 400')\n",
    "finaldf_filteredobs2=finaldf.query('1400 <= Time <1450')\n",
    "#separating single observations for campaign 819580\n",
    "finaldf_filteredobs3=finaldf.query('Time == 2284.40985')\n",
    "finaldf_filteredobs6=finaldf.query('Time == 2286.73985')\n",
    "finaldf_filteredobs7=finaldf.query('Time == 2307.82985')\n",
    "finaldf_filteredobs8=finaldf.query('Time == 2309.45985')\n",
    "finaldf_filteredobs9=finaldf.query('Time == 2314.16985')\n",
    "\n",
    "finaldf_filteredobs4=finaldf.query('2250 <= Time <2350')\n",
    "finaldf_filteredobs5=finaldf.query('4050 <= Time <4200')\n",
    "\n"
   ]
  },
  {
   "cell_type": "code",
   "execution_count": null,
   "metadata": {},
   "outputs": [],
   "source": [
    "from matplotlib import cm\n",
    "import matplotlib.gridspec as gridspec\n",
    "\n",
    "fig,(ax1,ax2,ax3,ax4) = plt.subplots(1, 4, figsize=(15,5), sharey=True)\n",
    "\n",
    "ax1.yaxis.tick_left()\n",
    "ax3.yaxis.set_ticks_position('none')\n",
    "ax2.spines['left'].set_visible(False)\n",
    "ax2.yaxis.set_ticks_position('none')\n",
    "\n",
    "ax2.xaxis.set_ticks(np.arange(1425,1430,40))\n",
    "ax3.xaxis.set_ticks(np.arange(2280,2325,40))\n",
    "ax4.xaxis.set_ticks(np.arange(4070,4200,40))\n",
    "\n",
    "# removes the division line between subplots\n",
    "ax2.spines['right'].set_visible(False)\n",
    "ax3.spines['right'].set_visible(False)\n",
    "ax3.spines['left'].set_visible(False)\n",
    "ax4.spines['left'].set_visible(False)\n",
    "\n",
    "## removes x and y ticks \n",
    "##ax1.set_xticks(ax.get_xticks()[::1])\n",
    "##ax2.set_xticks(ax.get_xticks()[::2])\n",
    "##\n",
    "##ax3.set_xticks(ax.get_xticks()[::2])\n",
    "##\n",
    "##ax4.set_xticks(ax.get_xticks()[::2])\n",
    "##\n",
    "#\n",
    "##ax2.yaxis.set_ticks([])\n",
    "##ax3.yaxis.set_ticks([])\n",
    "#\n",
    "#\n",
    "##ax1.set_xlabel(labelcolor='none')\n",
    "##ax2.yaxis.tick_right()\n",
    "##ax3.yaxis.tick_right()\n",
    "\n",
    "\n",
    "##setting x ranges (limits)\n",
    "ax4.yaxis.tick_right()\n",
    "ax1.set_xlim(-10,400) # most of the data\n",
    "ax2.set_xlim(1410,1450) # outliers only\n",
    "ax3.set_xlim(2280,2325) # outliers only\n",
    "ax4.set_xlim(4070,4155) # outliers only\n",
    "ax1.spines['right'].set_visible(False) \n",
    "\n",
    "#plotting data\n",
    "ax = finaldf_filteredobs1.plot(x ='Time',xerr='time_err', y='H-S/H+S', yerr='normHR_err', marker=\",\",s=20, color=\"g\" , fontsize=18,kind = 'scatter', ax=ax1, figsize=(15,5))\n",
    "#removing the single labels under each suplot\n",
    "ax.set_xlabel('')\n",
    "#setting y label\n",
    "ax.set_ylabel(r'$\\frac{{H-S}}{{H+S}}$', fontsize=18)\n",
    "ax =finaldf_filteredobs2.plot(x ='Time',xerr='time_err', y='H-S/H+S', yerr='normHR_err', marker=\",\",s=20, color=\"c\" ,fontsize=18, kind = 'scatter', ax=ax2, figsize=(15,5))\n",
    "ax.set_xlabel('')\n",
    "ax =finaldf_filteredobs4.plot(x ='Time',xerr='time_err', y='H-S/H+S', yerr='normHR_err', marker=\",\",s=20, color=\"r\" ,fontsize=18, kind = 'scatter', ax=ax3, figsize=(15,5))\n",
    "ax =finaldf_filteredobs3.plot(x ='Time',xerr='time_err', y='H-S/H+S', yerr='normHR_err', marker=\",\",s=20, color=\"b\" ,fontsize=18, kind = 'scatter', ax=ax3, figsize=(15,5))\n",
    "ax =finaldf_filteredobs9.plot(x ='Time',xerr='time_err', y='H-S/H+S', yerr='normHR_err', marker=\",\",s=20, color=\"b\" ,fontsize=18, kind = 'scatter', ax=ax3, figsize=(15,5))\n",
    "ax =finaldf_filteredobs6.plot(x ='Time',xerr='time_err', y='H-S/H+S', yerr='normHR_err', marker=\",\",s=20, color=\"b\" ,fontsize=18, kind = 'scatter', ax=ax3, figsize=(15,5))\n",
    "ax =finaldf_filteredobs7.plot(x ='Time',xerr='time_err', y='H-S/H+S', yerr='normHR_err', marker=\",\",s=20, color=\"b\" ,fontsize=18, kind = 'scatter', ax=ax3, figsize=(15,5))\n",
    "ax =finaldf_filteredobs8.plot(x ='Time',xerr='time_err', y='H-S/H+S', yerr='normHR_err', marker=\",\",s=20, color=\"b\" ,fontsize=18, kind = 'scatter', ax=ax3, figsize=(15,5))\n",
    "ax.set_xlabel('')\n",
    "ax =finaldf_filteredobs5.plot(x ='Time',xerr='time_err', y='H-S/H+S', yerr='normHR_err', marker=\",\",s=20, color=\"y\" ,fontsize=18, kind = 'scatter', ax=ax4, figsize=(15,5))\n",
    "ax.set_xlabel('')\n",
    "\n",
    "#setting a common xlabel and saving figure\n",
    "fig.text(0.5, 0.01, 'Time [days]', ha='center', fontsize=16)\n",
    "plt.savefig(\"plot/HR_vs_time_spines.pdf\")\n"
   ]
  },
  {
   "cell_type": "code",
   "execution_count": null,
   "metadata": {},
   "outputs": [],
   "source": [
    "#add cts"
   ]
  },
  {
   "cell_type": "code",
   "execution_count": null,
   "metadata": {},
   "outputs": [],
   "source": [
    "#softcts vs time\n",
    "from matplotlib import cm\n",
    "import matplotlib.gridspec as gridspec\n",
    "\n",
    "fig,(ax1,ax2,ax3,ax4) = plt.subplots(1, 4, figsize=(15,5), sharey=True)\n",
    "\n",
    "ax1.yaxis.tick_left()\n",
    "ax3.yaxis.set_ticks_position('none')\n",
    "ax2.spines['left'].set_visible(False)\n",
    "ax2.yaxis.set_ticks_position('none')\n",
    "\n",
    "ax2.xaxis.set_ticks(np.arange(1425,1430,40))\n",
    "ax3.xaxis.set_ticks(np.arange(2280,2325,40))\n",
    "ax4.xaxis.set_ticks(np.arange(4070,4200,40))\n",
    "\n",
    "# removes the division line between subplots\n",
    "ax2.spines['right'].set_visible(False)\n",
    "ax3.spines['right'].set_visible(False)\n",
    "ax3.spines['left'].set_visible(False)\n",
    "ax4.spines['left'].set_visible(False)\n",
    "\n",
    "## removes x and y ticks \n",
    "##ax1.set_xticks(ax.get_xticks()[::1])\n",
    "##ax2.set_xticks(ax.get_xticks()[::2])\n",
    "##\n",
    "##ax3.set_xticks(ax.get_xticks()[::2])\n",
    "##\n",
    "##ax4.set_xticks(ax.get_xticks()[::2])\n",
    "##\n",
    "#\n",
    "##ax2.yaxis.set_ticks([])\n",
    "##ax3.yaxis.set_ticks([])\n",
    "#\n",
    "#\n",
    "##ax1.set_xlabel(labelcolor='none')\n",
    "##ax2.yaxis.tick_right()\n",
    "##ax3.yaxis.tick_right()\n",
    "\n",
    "\n",
    "##setting x ranges (limits)\n",
    "ax4.yaxis.tick_right()\n",
    "ax1.set_xlim(-10,400) # most of the data\n",
    "ax2.set_xlim(1410,1450) # outliers only\n",
    "ax3.set_xlim(2280,2325) # outliers only\n",
    "ax4.set_xlim(4070,4155) # outliers only\n",
    "ax1.spines['right'].set_visible(False) \n",
    "\n",
    "#plotting data\n",
    "ax = finaldf_filteredobs1.plot(x ='Time',xerr='time_err', y='0.3-1.5keV', yerr='0.3-1.5keV_err', marker=\"s\",s=20, color=\"g\" , fontsize=18,kind = 'scatter', ax=ax1, figsize=(15,5))\n",
    "#removing the single labels under each suplot\n",
    "ax.set_xlabel('')\n",
    "#setting y label\n",
    "ax.set_ylabel('Soft (0.3-1.5 keV) Counts [s$^{-1}$]', fontsize=18)\n",
    "ax =finaldf_filteredobs2.plot(x ='Time',xerr='time_err', y='0.3-1.5keV', yerr='0.3-1.5keV_err', marker=\"s\",s=20, color=\"c\" ,fontsize=18, kind = 'scatter', ax=ax2, figsize=(15,5))\n",
    "ax.set_xlabel('')\n",
    "ax =finaldf_filteredobs4.plot(x ='Time',xerr='time_err', y='0.3-1.5keV', yerr='0.3-1.5keV_err', marker=\"s\",s=20, color=\"r\" ,fontsize=18, kind = 'scatter', ax=ax3, figsize=(15,5))\n",
    "ax =finaldf_filteredobs3.plot(x ='Time',xerr='time_err', y='0.3-1.5keV', yerr='0.3-1.5keV_err', marker=\"s\",s=20, color=\"b\" ,fontsize=18, kind = 'scatter', ax=ax3, figsize=(15,5))\n",
    "ax =finaldf_filteredobs9.plot(x ='Time',xerr='time_err', y='0.3-1.5keV', yerr='0.3-1.5keV_err', marker=\"s\",s=20, color=\"b\" ,fontsize=18, kind = 'scatter', ax=ax3, figsize=(15,5))\n",
    "ax =finaldf_filteredobs6.plot(x ='Time',xerr='time_err', y='0.3-1.5keV', yerr='0.3-1.5keV_err', marker=\"s\",s=20, color=\"b\" ,fontsize=18, kind = 'scatter', ax=ax3, figsize=(15,5))\n",
    "ax =finaldf_filteredobs7.plot(x ='Time',xerr='time_err', y='0.3-1.5keV', yerr='0.3-1.5keV_err', marker=\"s\",s=20, color=\"b\" ,fontsize=18, kind = 'scatter', ax=ax3, figsize=(15,5))\n",
    "ax =finaldf_filteredobs8.plot(x ='Time',xerr='time_err', y='0.3-1.5keV', yerr='0.3-1.5keV_err', marker=\"s\",s=20, color=\"b\" ,fontsize=18, kind = 'scatter', ax=ax3, figsize=(15,5))\n",
    "ax.set_xlabel('')\n",
    "ax =finaldf_filteredobs5.plot(x ='Time',xerr='time_err', y='0.3-1.5keV', yerr='0.3-1.5keV_err', marker=\"s\",s=20, color=\"y\" ,fontsize=18, kind = 'scatter', ax=ax4, figsize=(15,5))\n",
    "ax.set_xlabel('')\n",
    "\n",
    "#setting a common xlabel and saving figure\n",
    "fig.text(0.5, 0.01, 'Time [days]', ha='center', fontsize=16)\n",
    "plt.savefig(\"plot/softcts_spines.pdf\")\n",
    "\n"
   ]
  },
  {
   "cell_type": "code",
   "execution_count": null,
   "metadata": {},
   "outputs": [],
   "source": [
    "#cts vs time\n",
    "from matplotlib import cm\n",
    "import matplotlib.gridspec as gridspec\n",
    "\n",
    "fig,(ax1,ax2,ax3,ax4) = plt.subplots(1, 4, figsize=(15,5), sharey=True)\n",
    "\n",
    "ax1.yaxis.tick_left()\n",
    "ax3.yaxis.set_ticks_position('none')\n",
    "ax2.spines['left'].set_visible(False)\n",
    "ax2.yaxis.set_ticks_position('none')\n",
    "\n",
    "ax2.xaxis.set_ticks(np.arange(1425,1430,40))\n",
    "ax3.xaxis.set_ticks(np.arange(2280,2325,40))\n",
    "ax4.xaxis.set_ticks(np.arange(4070,4200,40))\n",
    "\n",
    "# removes the division line between subplots\n",
    "ax2.spines['right'].set_visible(False)\n",
    "ax3.spines['right'].set_visible(False)\n",
    "ax3.spines['left'].set_visible(False)\n",
    "ax4.spines['left'].set_visible(False)\n",
    "\n",
    "## removes x and y ticks \n",
    "##ax1.set_xticks(ax.get_xticks()[::1])\n",
    "##ax2.set_xticks(ax.get_xticks()[::2])\n",
    "##\n",
    "##ax3.set_xticks(ax.get_xticks()[::2])\n",
    "##\n",
    "##ax4.set_xticks(ax.get_xticks()[::2])\n",
    "##\n",
    "#\n",
    "##ax2.yaxis.set_ticks([])\n",
    "##ax3.yaxis.set_ticks([])\n",
    "#\n",
    "#\n",
    "##ax1.set_xlabel(labelcolor='none')\n",
    "##ax2.yaxis.tick_right()\n",
    "##ax3.yaxis.tick_right()\n",
    "\n",
    "\n",
    "##setting x ranges (limits)\n",
    "ax4.yaxis.tick_right()\n",
    "ax1.set_xlim(-10,400) # most of the data\n",
    "ax2.set_xlim(1410,1450) # outliers only\n",
    "ax3.set_xlim(2280,2325) # outliers only\n",
    "ax4.set_xlim(4070,4155) # outliers only\n",
    "ax1.spines['right'].set_visible(False) \n",
    "\n",
    "#plotting data\n",
    "ax = finaldf_filteredobs1.plot(x ='Time',xerr='time_err', y='cts', yerr='err_counts', marker=\"s\",s=20, color=\"g\" , fontsize=18,kind = 'scatter', ax=ax1, figsize=(15,5))\n",
    "#removing the single labels under each suplot\n",
    "ax.set_xlabel('')\n",
    "#setting y label\n",
    "ax.set_ylabel('Total (0.3-10 keV) Counts [s$^{-1}$]', fontsize=18)\n",
    "ax =finaldf_filteredobs2.plot(x ='Time',xerr='time_err', y='cts', yerr='err_counts', marker=\"s\",s=20, color=\"c\" ,fontsize=18, kind = 'scatter', ax=ax2, figsize=(15,5))\n",
    "ax.set_xlabel('')\n",
    "ax =finaldf_filteredobs4.plot(x ='Time',xerr='time_err', y='cts', yerr='err_counts', marker=\"s\",s=20, color=\"r\" ,fontsize=18, kind = 'scatter', ax=ax3, figsize=(15,5))\n",
    "ax =finaldf_filteredobs3.plot(x ='Time',xerr='time_err', y='cts', yerr='err_counts', marker=\"o\",s=20, color=\"b\" ,fontsize=18, kind = 'scatter', ax=ax3, figsize=(15,5))\n",
    "ax =finaldf_filteredobs9.plot(x ='Time',xerr='time_err', y='cts', yerr='err_counts', marker=\"s\",s=20, color=\"b\" ,fontsize=18, kind = 'scatter', ax=ax3, figsize=(15,5))\n",
    "ax =finaldf_filteredobs6.plot(x ='Time',xerr='time_err', y='cts', yerr='err_counts', marker=\"s\",s=20, color=\"b\" ,fontsize=18, kind = 'scatter', ax=ax3, figsize=(15,5))\n",
    "ax =finaldf_filteredobs7.plot(x ='Time',xerr='time_err', y='cts', yerr='err_counts', marker=\"s\",s=20, color=\"b\" ,fontsize=18, kind = 'scatter', ax=ax3, figsize=(15,5))\n",
    "ax =finaldf_filteredobs8.plot(x ='Time',xerr='time_err', y='cts', yerr='err_counts', marker=\"s\",s=20, color=\"b\" ,fontsize=18, kind = 'scatter', ax=ax3, figsize=(15,5))\n",
    "ax.set_xlabel('')\n",
    "ax =finaldf_filteredobs5.plot(x ='Time',xerr='time_err', y='cts', yerr='err_counts', marker=\"s\",s=20, color=\"y\" ,fontsize=18, kind = 'scatter', ax=ax4, figsize=(15,5))\n",
    "ax.set_xlabel('')\n",
    "\n",
    "\n",
    "#setting a common xlabel and saving figure\n",
    "fig.text(0.5, 0.01, 'Time (days)', ha='center', fontsize=16)\n",
    "plt.savefig(\"plot/cts_vs_time_spines.pdf\")\n",
    "\n"
   ]
  },
  {
   "cell_type": "code",
   "execution_count": null,
   "metadata": {},
   "outputs": [],
   "source": [
    "#hard cts vs counts\n",
    "from matplotlib import cm\n",
    "import matplotlib.gridspec as gridspec\n",
    "\n",
    "fig,(ax1,ax2,ax3,ax4) = plt.subplots(1, 4, figsize=(15,5), sharey=True)\n",
    "\n",
    "ax1.yaxis.tick_left()\n",
    "ax3.yaxis.set_ticks_position('none')\n",
    "ax2.spines['left'].set_visible(False)\n",
    "ax2.yaxis.set_ticks_position('none')\n",
    "\n",
    "ax2.xaxis.set_ticks(np.arange(1425,1430,40))\n",
    "ax3.xaxis.set_ticks(np.arange(2280,2325,40))\n",
    "ax4.xaxis.set_ticks(np.arange(4070,4200,40))\n",
    "\n",
    "# removes the division line between subplots\n",
    "ax2.spines['right'].set_visible(False)\n",
    "ax3.spines['right'].set_visible(False)\n",
    "ax3.spines['left'].set_visible(False)\n",
    "ax4.spines['left'].set_visible(False)\n",
    "\n",
    "## removes x and y ticks \n",
    "##ax1.set_xticks(ax.get_xticks()[::1])\n",
    "##ax2.set_xticks(ax.get_xticks()[::2])\n",
    "##\n",
    "##ax3.set_xticks(ax.get_xticks()[::2])\n",
    "##\n",
    "##ax4.set_xticks(ax.get_xticks()[::2])\n",
    "##\n",
    "#\n",
    "##ax2.yaxis.set_ticks([])\n",
    "##ax3.yaxis.set_ticks([])\n",
    "#\n",
    "#\n",
    "##ax1.set_xlabel(labelcolor='none')\n",
    "##ax2.yaxis.tick_right()\n",
    "##ax3.yaxis.tick_right()\n",
    "\n",
    "\n",
    "##setting x ranges (limits)\n",
    "ax4.yaxis.tick_right()\n",
    "ax1.set_xlim(-10,400) # most of the data\n",
    "ax2.set_xlim(1410,1450) # outliers only\n",
    "ax3.set_xlim(2280,2325) # outliers only\n",
    "ax4.set_xlim(4070,4155) # outliers only\n",
    "ax1.spines['right'].set_visible(False) \n",
    "\n",
    "#plotting data\n",
    "ax = finaldf_filteredobs1.plot(x ='Time',xerr='time_err', y='1.5-10keV', yerr='1.5-10keV_err', marker=\"s\",s=20, color=\"g\" , fontsize=18,kind = 'scatter', ax=ax1, figsize=(15,5))\n",
    "#removing the single labels under each suplot\n",
    "ax.set_xlabel('')\n",
    "#setting y label\n",
    "ax.set_ylabel('Hard (1.5-10 keV) Counts [s$^{-1}$]', fontsize=18)\n",
    "ax =finaldf_filteredobs2.plot(x ='Time',xerr='time_err', y='1.5-10keV', yerr='1.5-10keV_err', marker=\"s\",s=20, color=\"c\" ,fontsize=18, kind = 'scatter', ax=ax2, figsize=(15,5))\n",
    "ax.set_xlabel('')\n",
    "ax =finaldf_filteredobs4.plot(x ='Time',xerr='time_err', y='1.5-10keV', yerr='1.5-10keV_err', marker=\"s\",s=20, color=\"r\" ,fontsize=18, kind = 'scatter', ax=ax3, figsize=(15,5))\n",
    "ax =finaldf_filteredobs3.plot(x ='Time',xerr='time_err', y='1.5-10keV', yerr='1.5-10keV_err', marker=\"s\",s=20, color=\"b\" ,fontsize=18, kind = 'scatter', ax=ax3, figsize=(15,5))\n",
    "ax =finaldf_filteredobs9.plot(x ='Time',xerr='time_err', y='1.5-10keV', yerr='1.5-10keV_err', marker=\"s\",s=20, color=\"b\" ,fontsize=18, kind = 'scatter', ax=ax3, figsize=(15,5))\n",
    "ax =finaldf_filteredobs6.plot(x ='Time',xerr='time_err', y='1.5-10keV', yerr='1.5-10keV_err', marker=\"s\",s=20, color=\"b\" ,fontsize=18, kind = 'scatter', ax=ax3, figsize=(15,5))\n",
    "ax =finaldf_filteredobs7.plot(x ='Time',xerr='time_err', y='1.5-10keV', yerr='1.5-10keV_err', marker=\"s\",s=20, color=\"b\" ,fontsize=18, kind = 'scatter', ax=ax3, figsize=(15,5))\n",
    "ax =finaldf_filteredobs8.plot(x ='Time',xerr='time_err', y='1.5-10keV', yerr='1.5-10keV_err', marker=\"s\",s=20, color=\"b\" ,fontsize=18, kind = 'scatter', ax=ax3, figsize=(15,5))\n",
    "ax.set_xlabel('')\n",
    "ax =finaldf_filteredobs5.plot(x ='Time',xerr='time_err', y='1.5-10keV', yerr='1.5-10keV_err', marker=\"s\",s=20, color=\"y\" ,fontsize=18, kind = 'scatter', ax=ax4, figsize=(15,5))\n",
    "ax.set_xlabel('')\n",
    "\n",
    "#setting a common xlabel and saving figure\n",
    "fig.text(0.5, 0.01, 'Time [days]', ha='center', fontsize=16)\n",
    "plt.savefig(\"plot/hardcts_spines.pdf\")\n",
    "\n"
   ]
  },
  {
   "cell_type": "code",
   "execution_count": null,
   "metadata": {},
   "outputs": [],
   "source": []
  },
  {
   "cell_type": "code",
   "execution_count": null,
   "metadata": {},
   "outputs": [],
   "source": []
  }
 ],
 "metadata": {
  "kernelspec": {
   "display_name": "Python 3 (ipykernel)",
   "language": "python",
   "name": "python3"
  },
  "language_info": {
   "codemirror_mode": {
    "name": "ipython",
    "version": 3
   },
   "file_extension": ".py",
   "mimetype": "text/x-python",
   "name": "python",
   "nbconvert_exporter": "python",
   "pygments_lexer": "ipython3",
   "version": "3.10.9"
  }
 },
 "nbformat": 4,
 "nbformat_minor": 4
}
