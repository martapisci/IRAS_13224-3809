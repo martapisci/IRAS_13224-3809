{
 "cells": [
  {
   "cell_type": "code",
   "execution_count": 1,
   "metadata": {},
   "outputs": [],
   "source": [
    "import os"
   ]
  },
  {
   "cell_type": "code",
   "execution_count": 2,
   "metadata": {},
   "outputs": [
    {
     "name": "stdout",
     "output_type": "stream",
     "text": [
      "/Users/martapiscitelli/Analisi_tesi/IRAS_13224-3809\n"
     ]
    }
   ],
   "source": [
    "!pwd\n"
   ]
  },
  {
   "cell_type": "code",
   "execution_count": 3,
   "metadata": {},
   "outputs": [],
   "source": [
    "import pandas as pd\n",
    "import numpy as np"
   ]
  },
  {
   "cell_type": "code",
   "execution_count": 4,
   "metadata": {},
   "outputs": [],
   "source": [
    "import matplotlib.pyplot as plt"
   ]
  },
  {
   "cell_type": "code",
   "execution_count": 5,
   "metadata": {},
   "outputs": [
    {
     "name": "stdout",
     "output_type": "stream",
     "text": [
      "       Time  time_err  0.3-1.5keV  0.3-1.5keV_err  1.5-10keV  1.5-10keV_err  \\\n",
      "0   2287.59  0.070694    0.094452        0.007342   0.015703       0.003011   \n",
      "1   2291.34  0.169178    0.157264        0.010393   0.024009       0.004254   \n",
      "2   2292.08  0.433403    0.104382        0.009079   0.009656       0.002804   \n",
      "3   2293.01  0.242859    0.195584        0.015051   0.020040       0.004910   \n",
      "4   2294.78  0.001875    0.060268        0.015398   0.003302       0.003987   \n",
      "5   2297.04  0.068912    0.033035        0.004587   0.001462       0.001098   \n",
      "6   2297.67  0.036701    0.057294        0.007129   0.008348       0.002742   \n",
      "7   2298.76  0.070046    0.114828        0.011220   0.010100       0.003421   \n",
      "8   2300.37  0.002558    0.061520        0.015751   0.003134       0.003736   \n",
      "9   2301.95  0.345845    0.120237        0.008695   0.008074       0.002325   \n",
      "10  2303.22  0.073762    0.310580        0.018355   0.043757       0.006964   \n",
      "11  2304.53  0.072824    0.127225        0.009927   0.015129       0.003366   \n",
      "12  2304.97  0.113067    0.093144        0.007710   0.013781       0.003021   \n",
      "13  2306.37  0.026921    0.152090        0.013299   0.019424       0.004716   \n",
      "14  2308.96  0.168993    0.121529        0.015748   0.007534       0.004086   \n",
      "15  2312.70  0.012731    0.195891        0.032914   0.021354       0.010942   \n",
      "16  2317.17  0.343681    0.192988        0.010986   0.035224       0.004739   \n",
      "17  2318.46  0.039850    0.076109        0.008186   0.005644       0.002280   \n",
      "18  2318.92  0.035498    0.126494        0.008829   0.017446       0.003328   \n",
      "19  2320.98  0.039236    0.342696        0.018039   0.050212       0.007013   \n",
      "20  2322.25  0.229664    0.262900        0.015382   0.066016       0.008024   \n",
      "21  2323.01  0.004387    0.141099        0.015142   0.025310       0.006455   \n",
      "22  2324.21  0.009340    0.316542        0.020702   0.049463       0.008307   \n",
      "23  2324.58  0.038484    0.396710        0.020667   0.053763       0.007709   \n",
      "24  2328.56  0.038507    0.042624        0.005208   0.005472       0.001858   \n",
      "\n",
      "          HR    HR_err        ID  \n",
      "0   0.166251  0.034401  34597001  \n",
      "1   0.152668  0.028869  34597002  \n",
      "2   0.092508  0.028046  34597003  \n",
      "3   0.102462  0.026314  34597004  \n",
      "4   0.054784  0.067624  34597006  \n",
      "5   0.044242  0.033808  34597008  \n",
      "6   0.145707  0.051178  34597009  \n",
      "7   0.087958  0.031004  34597010  \n",
      "8   0.050936  0.062114  34597011  \n",
      "9   0.067152  0.019934  34597012  \n",
      "10  0.140888  0.023920  34597013  \n",
      "11  0.118915  0.028035  34597014  \n",
      "12  0.147954  0.034666  34597015  \n",
      "13  0.127714  0.032961  34597016  \n",
      "14  0.061992  0.034568  34597019  \n",
      "15  0.109009  0.058783  34597020  \n",
      "16  0.182520  0.026663  34597021  \n",
      "17  0.074163  0.031000  34597022  \n",
      "18  0.137918  0.028017  34597023  \n",
      "19  0.146520  0.021870  34597024  \n",
      "20  0.251108  0.033873  34597025  \n",
      "21  0.179376  0.049630  34597026  \n",
      "22  0.156261  0.028163  34597027  \n",
      "23  0.135522  0.020676  34597028  \n",
      "24  0.128371  0.046320  34597030  \n",
      "\n",
      "\n"
     ]
    },
    {
     "ename": "FileNotFoundError",
     "evalue": "[Errno 2] No such file or directory: './../build/plot_819580-1.cvs'",
     "output_type": "error",
     "traceback": [
      "\u001b[0;31m---------------------------------------------------------------------------\u001b[0m",
      "\u001b[0;31mFileNotFoundError\u001b[0m                         Traceback (most recent call last)",
      "Cell \u001b[0;32mIn[5], line 8\u001b[0m\n\u001b[1;32m      6\u001b[0m \u001b[38;5;28mprint\u001b[39m(lcurve1)\n\u001b[1;32m      7\u001b[0m \u001b[38;5;28mprint\u001b[39m(\u001b[38;5;124m\"\u001b[39m\u001b[38;5;130;01m\\n\u001b[39;00m\u001b[38;5;124m\"\u001b[39m)\n\u001b[0;32m----> 8\u001b[0m lcurve2\u001b[38;5;241m=\u001b[39m\u001b[43mpd\u001b[49m\u001b[38;5;241;43m.\u001b[39;49m\u001b[43mread_csv\u001b[49m\u001b[43m(\u001b[49m\u001b[38;5;124;43m'\u001b[39;49m\u001b[38;5;124;43m./../build/plot_819580-1.cvs\u001b[39;49m\u001b[38;5;124;43m'\u001b[39;49m\u001b[43m,\u001b[49m\n\u001b[1;32m      9\u001b[0m \u001b[43mencoding\u001b[49m\u001b[38;5;241;43m=\u001b[39;49m\u001b[38;5;124;43m'\u001b[39;49m\u001b[38;5;124;43mlatin-1\u001b[39;49m\u001b[38;5;124;43m'\u001b[39;49m\u001b[43m,\u001b[49m\n\u001b[1;32m     10\u001b[0m \u001b[43m    \u001b[49m\u001b[43msep\u001b[49m\u001b[38;5;241;43m=\u001b[39;49m\u001b[38;5;124;43m\"\u001b[39;49m\u001b[38;5;124;43m;\u001b[39;49m\u001b[38;5;124;43m\"\u001b[39;49m\n\u001b[1;32m     11\u001b[0m \u001b[43m)\u001b[49m\n\u001b[1;32m     12\u001b[0m \u001b[38;5;28mprint\u001b[39m(lcurve2)\n\u001b[1;32m     14\u001b[0m \u001b[38;5;28mprint\u001b[39m(\u001b[38;5;124m\"\u001b[39m\u001b[38;5;130;01m\\n\u001b[39;00m\u001b[38;5;124m\"\u001b[39m)\n",
      "File \u001b[0;32m~/anaconda3/lib/python3.10/site-packages/pandas/util/_decorators.py:211\u001b[0m, in \u001b[0;36mdeprecate_kwarg.<locals>._deprecate_kwarg.<locals>.wrapper\u001b[0;34m(*args, **kwargs)\u001b[0m\n\u001b[1;32m    209\u001b[0m     \u001b[38;5;28;01melse\u001b[39;00m:\n\u001b[1;32m    210\u001b[0m         kwargs[new_arg_name] \u001b[38;5;241m=\u001b[39m new_arg_value\n\u001b[0;32m--> 211\u001b[0m \u001b[38;5;28;01mreturn\u001b[39;00m \u001b[43mfunc\u001b[49m\u001b[43m(\u001b[49m\u001b[38;5;241;43m*\u001b[39;49m\u001b[43margs\u001b[49m\u001b[43m,\u001b[49m\u001b[43m \u001b[49m\u001b[38;5;241;43m*\u001b[39;49m\u001b[38;5;241;43m*\u001b[39;49m\u001b[43mkwargs\u001b[49m\u001b[43m)\u001b[49m\n",
      "File \u001b[0;32m~/anaconda3/lib/python3.10/site-packages/pandas/util/_decorators.py:331\u001b[0m, in \u001b[0;36mdeprecate_nonkeyword_arguments.<locals>.decorate.<locals>.wrapper\u001b[0;34m(*args, **kwargs)\u001b[0m\n\u001b[1;32m    325\u001b[0m \u001b[38;5;28;01mif\u001b[39;00m \u001b[38;5;28mlen\u001b[39m(args) \u001b[38;5;241m>\u001b[39m num_allow_args:\n\u001b[1;32m    326\u001b[0m     warnings\u001b[38;5;241m.\u001b[39mwarn(\n\u001b[1;32m    327\u001b[0m         msg\u001b[38;5;241m.\u001b[39mformat(arguments\u001b[38;5;241m=\u001b[39m_format_argument_list(allow_args)),\n\u001b[1;32m    328\u001b[0m         \u001b[38;5;167;01mFutureWarning\u001b[39;00m,\n\u001b[1;32m    329\u001b[0m         stacklevel\u001b[38;5;241m=\u001b[39mfind_stack_level(),\n\u001b[1;32m    330\u001b[0m     )\n\u001b[0;32m--> 331\u001b[0m \u001b[38;5;28;01mreturn\u001b[39;00m \u001b[43mfunc\u001b[49m\u001b[43m(\u001b[49m\u001b[38;5;241;43m*\u001b[39;49m\u001b[43margs\u001b[49m\u001b[43m,\u001b[49m\u001b[43m \u001b[49m\u001b[38;5;241;43m*\u001b[39;49m\u001b[38;5;241;43m*\u001b[39;49m\u001b[43mkwargs\u001b[49m\u001b[43m)\u001b[49m\n",
      "File \u001b[0;32m~/anaconda3/lib/python3.10/site-packages/pandas/io/parsers/readers.py:950\u001b[0m, in \u001b[0;36mread_csv\u001b[0;34m(filepath_or_buffer, sep, delimiter, header, names, index_col, usecols, squeeze, prefix, mangle_dupe_cols, dtype, engine, converters, true_values, false_values, skipinitialspace, skiprows, skipfooter, nrows, na_values, keep_default_na, na_filter, verbose, skip_blank_lines, parse_dates, infer_datetime_format, keep_date_col, date_parser, dayfirst, cache_dates, iterator, chunksize, compression, thousands, decimal, lineterminator, quotechar, quoting, doublequote, escapechar, comment, encoding, encoding_errors, dialect, error_bad_lines, warn_bad_lines, on_bad_lines, delim_whitespace, low_memory, memory_map, float_precision, storage_options)\u001b[0m\n\u001b[1;32m    935\u001b[0m kwds_defaults \u001b[38;5;241m=\u001b[39m _refine_defaults_read(\n\u001b[1;32m    936\u001b[0m     dialect,\n\u001b[1;32m    937\u001b[0m     delimiter,\n\u001b[0;32m   (...)\u001b[0m\n\u001b[1;32m    946\u001b[0m     defaults\u001b[38;5;241m=\u001b[39m{\u001b[38;5;124m\"\u001b[39m\u001b[38;5;124mdelimiter\u001b[39m\u001b[38;5;124m\"\u001b[39m: \u001b[38;5;124m\"\u001b[39m\u001b[38;5;124m,\u001b[39m\u001b[38;5;124m\"\u001b[39m},\n\u001b[1;32m    947\u001b[0m )\n\u001b[1;32m    948\u001b[0m kwds\u001b[38;5;241m.\u001b[39mupdate(kwds_defaults)\n\u001b[0;32m--> 950\u001b[0m \u001b[38;5;28;01mreturn\u001b[39;00m \u001b[43m_read\u001b[49m\u001b[43m(\u001b[49m\u001b[43mfilepath_or_buffer\u001b[49m\u001b[43m,\u001b[49m\u001b[43m \u001b[49m\u001b[43mkwds\u001b[49m\u001b[43m)\u001b[49m\n",
      "File \u001b[0;32m~/anaconda3/lib/python3.10/site-packages/pandas/io/parsers/readers.py:605\u001b[0m, in \u001b[0;36m_read\u001b[0;34m(filepath_or_buffer, kwds)\u001b[0m\n\u001b[1;32m    602\u001b[0m _validate_names(kwds\u001b[38;5;241m.\u001b[39mget(\u001b[38;5;124m\"\u001b[39m\u001b[38;5;124mnames\u001b[39m\u001b[38;5;124m\"\u001b[39m, \u001b[38;5;28;01mNone\u001b[39;00m))\n\u001b[1;32m    604\u001b[0m \u001b[38;5;66;03m# Create the parser.\u001b[39;00m\n\u001b[0;32m--> 605\u001b[0m parser \u001b[38;5;241m=\u001b[39m \u001b[43mTextFileReader\u001b[49m\u001b[43m(\u001b[49m\u001b[43mfilepath_or_buffer\u001b[49m\u001b[43m,\u001b[49m\u001b[43m \u001b[49m\u001b[38;5;241;43m*\u001b[39;49m\u001b[38;5;241;43m*\u001b[39;49m\u001b[43mkwds\u001b[49m\u001b[43m)\u001b[49m\n\u001b[1;32m    607\u001b[0m \u001b[38;5;28;01mif\u001b[39;00m chunksize \u001b[38;5;129;01mor\u001b[39;00m iterator:\n\u001b[1;32m    608\u001b[0m     \u001b[38;5;28;01mreturn\u001b[39;00m parser\n",
      "File \u001b[0;32m~/anaconda3/lib/python3.10/site-packages/pandas/io/parsers/readers.py:1442\u001b[0m, in \u001b[0;36mTextFileReader.__init__\u001b[0;34m(self, f, engine, **kwds)\u001b[0m\n\u001b[1;32m   1439\u001b[0m     \u001b[38;5;28mself\u001b[39m\u001b[38;5;241m.\u001b[39moptions[\u001b[38;5;124m\"\u001b[39m\u001b[38;5;124mhas_index_names\u001b[39m\u001b[38;5;124m\"\u001b[39m] \u001b[38;5;241m=\u001b[39m kwds[\u001b[38;5;124m\"\u001b[39m\u001b[38;5;124mhas_index_names\u001b[39m\u001b[38;5;124m\"\u001b[39m]\n\u001b[1;32m   1441\u001b[0m \u001b[38;5;28mself\u001b[39m\u001b[38;5;241m.\u001b[39mhandles: IOHandles \u001b[38;5;241m|\u001b[39m \u001b[38;5;28;01mNone\u001b[39;00m \u001b[38;5;241m=\u001b[39m \u001b[38;5;28;01mNone\u001b[39;00m\n\u001b[0;32m-> 1442\u001b[0m \u001b[38;5;28mself\u001b[39m\u001b[38;5;241m.\u001b[39m_engine \u001b[38;5;241m=\u001b[39m \u001b[38;5;28;43mself\u001b[39;49m\u001b[38;5;241;43m.\u001b[39;49m\u001b[43m_make_engine\u001b[49m\u001b[43m(\u001b[49m\u001b[43mf\u001b[49m\u001b[43m,\u001b[49m\u001b[43m \u001b[49m\u001b[38;5;28;43mself\u001b[39;49m\u001b[38;5;241;43m.\u001b[39;49m\u001b[43mengine\u001b[49m\u001b[43m)\u001b[49m\n",
      "File \u001b[0;32m~/anaconda3/lib/python3.10/site-packages/pandas/io/parsers/readers.py:1735\u001b[0m, in \u001b[0;36mTextFileReader._make_engine\u001b[0;34m(self, f, engine)\u001b[0m\n\u001b[1;32m   1733\u001b[0m     \u001b[38;5;28;01mif\u001b[39;00m \u001b[38;5;124m\"\u001b[39m\u001b[38;5;124mb\u001b[39m\u001b[38;5;124m\"\u001b[39m \u001b[38;5;129;01mnot\u001b[39;00m \u001b[38;5;129;01min\u001b[39;00m mode:\n\u001b[1;32m   1734\u001b[0m         mode \u001b[38;5;241m+\u001b[39m\u001b[38;5;241m=\u001b[39m \u001b[38;5;124m\"\u001b[39m\u001b[38;5;124mb\u001b[39m\u001b[38;5;124m\"\u001b[39m\n\u001b[0;32m-> 1735\u001b[0m \u001b[38;5;28mself\u001b[39m\u001b[38;5;241m.\u001b[39mhandles \u001b[38;5;241m=\u001b[39m \u001b[43mget_handle\u001b[49m\u001b[43m(\u001b[49m\n\u001b[1;32m   1736\u001b[0m \u001b[43m    \u001b[49m\u001b[43mf\u001b[49m\u001b[43m,\u001b[49m\n\u001b[1;32m   1737\u001b[0m \u001b[43m    \u001b[49m\u001b[43mmode\u001b[49m\u001b[43m,\u001b[49m\n\u001b[1;32m   1738\u001b[0m \u001b[43m    \u001b[49m\u001b[43mencoding\u001b[49m\u001b[38;5;241;43m=\u001b[39;49m\u001b[38;5;28;43mself\u001b[39;49m\u001b[38;5;241;43m.\u001b[39;49m\u001b[43moptions\u001b[49m\u001b[38;5;241;43m.\u001b[39;49m\u001b[43mget\u001b[49m\u001b[43m(\u001b[49m\u001b[38;5;124;43m\"\u001b[39;49m\u001b[38;5;124;43mencoding\u001b[39;49m\u001b[38;5;124;43m\"\u001b[39;49m\u001b[43m,\u001b[49m\u001b[43m \u001b[49m\u001b[38;5;28;43;01mNone\u001b[39;49;00m\u001b[43m)\u001b[49m\u001b[43m,\u001b[49m\n\u001b[1;32m   1739\u001b[0m \u001b[43m    \u001b[49m\u001b[43mcompression\u001b[49m\u001b[38;5;241;43m=\u001b[39;49m\u001b[38;5;28;43mself\u001b[39;49m\u001b[38;5;241;43m.\u001b[39;49m\u001b[43moptions\u001b[49m\u001b[38;5;241;43m.\u001b[39;49m\u001b[43mget\u001b[49m\u001b[43m(\u001b[49m\u001b[38;5;124;43m\"\u001b[39;49m\u001b[38;5;124;43mcompression\u001b[39;49m\u001b[38;5;124;43m\"\u001b[39;49m\u001b[43m,\u001b[49m\u001b[43m \u001b[49m\u001b[38;5;28;43;01mNone\u001b[39;49;00m\u001b[43m)\u001b[49m\u001b[43m,\u001b[49m\n\u001b[1;32m   1740\u001b[0m \u001b[43m    \u001b[49m\u001b[43mmemory_map\u001b[49m\u001b[38;5;241;43m=\u001b[39;49m\u001b[38;5;28;43mself\u001b[39;49m\u001b[38;5;241;43m.\u001b[39;49m\u001b[43moptions\u001b[49m\u001b[38;5;241;43m.\u001b[39;49m\u001b[43mget\u001b[49m\u001b[43m(\u001b[49m\u001b[38;5;124;43m\"\u001b[39;49m\u001b[38;5;124;43mmemory_map\u001b[39;49m\u001b[38;5;124;43m\"\u001b[39;49m\u001b[43m,\u001b[49m\u001b[43m \u001b[49m\u001b[38;5;28;43;01mFalse\u001b[39;49;00m\u001b[43m)\u001b[49m\u001b[43m,\u001b[49m\n\u001b[1;32m   1741\u001b[0m \u001b[43m    \u001b[49m\u001b[43mis_text\u001b[49m\u001b[38;5;241;43m=\u001b[39;49m\u001b[43mis_text\u001b[49m\u001b[43m,\u001b[49m\n\u001b[1;32m   1742\u001b[0m \u001b[43m    \u001b[49m\u001b[43merrors\u001b[49m\u001b[38;5;241;43m=\u001b[39;49m\u001b[38;5;28;43mself\u001b[39;49m\u001b[38;5;241;43m.\u001b[39;49m\u001b[43moptions\u001b[49m\u001b[38;5;241;43m.\u001b[39;49m\u001b[43mget\u001b[49m\u001b[43m(\u001b[49m\u001b[38;5;124;43m\"\u001b[39;49m\u001b[38;5;124;43mencoding_errors\u001b[39;49m\u001b[38;5;124;43m\"\u001b[39;49m\u001b[43m,\u001b[49m\u001b[43m \u001b[49m\u001b[38;5;124;43m\"\u001b[39;49m\u001b[38;5;124;43mstrict\u001b[39;49m\u001b[38;5;124;43m\"\u001b[39;49m\u001b[43m)\u001b[49m\u001b[43m,\u001b[49m\n\u001b[1;32m   1743\u001b[0m \u001b[43m    \u001b[49m\u001b[43mstorage_options\u001b[49m\u001b[38;5;241;43m=\u001b[39;49m\u001b[38;5;28;43mself\u001b[39;49m\u001b[38;5;241;43m.\u001b[39;49m\u001b[43moptions\u001b[49m\u001b[38;5;241;43m.\u001b[39;49m\u001b[43mget\u001b[49m\u001b[43m(\u001b[49m\u001b[38;5;124;43m\"\u001b[39;49m\u001b[38;5;124;43mstorage_options\u001b[39;49m\u001b[38;5;124;43m\"\u001b[39;49m\u001b[43m,\u001b[49m\u001b[43m \u001b[49m\u001b[38;5;28;43;01mNone\u001b[39;49;00m\u001b[43m)\u001b[49m\u001b[43m,\u001b[49m\n\u001b[1;32m   1744\u001b[0m \u001b[43m\u001b[49m\u001b[43m)\u001b[49m\n\u001b[1;32m   1745\u001b[0m \u001b[38;5;28;01massert\u001b[39;00m \u001b[38;5;28mself\u001b[39m\u001b[38;5;241m.\u001b[39mhandles \u001b[38;5;129;01mis\u001b[39;00m \u001b[38;5;129;01mnot\u001b[39;00m \u001b[38;5;28;01mNone\u001b[39;00m\n\u001b[1;32m   1746\u001b[0m f \u001b[38;5;241m=\u001b[39m \u001b[38;5;28mself\u001b[39m\u001b[38;5;241m.\u001b[39mhandles\u001b[38;5;241m.\u001b[39mhandle\n",
      "File \u001b[0;32m~/anaconda3/lib/python3.10/site-packages/pandas/io/common.py:856\u001b[0m, in \u001b[0;36mget_handle\u001b[0;34m(path_or_buf, mode, encoding, compression, memory_map, is_text, errors, storage_options)\u001b[0m\n\u001b[1;32m    851\u001b[0m \u001b[38;5;28;01melif\u001b[39;00m \u001b[38;5;28misinstance\u001b[39m(handle, \u001b[38;5;28mstr\u001b[39m):\n\u001b[1;32m    852\u001b[0m     \u001b[38;5;66;03m# Check whether the filename is to be opened in binary mode.\u001b[39;00m\n\u001b[1;32m    853\u001b[0m     \u001b[38;5;66;03m# Binary mode does not support 'encoding' and 'newline'.\u001b[39;00m\n\u001b[1;32m    854\u001b[0m     \u001b[38;5;28;01mif\u001b[39;00m ioargs\u001b[38;5;241m.\u001b[39mencoding \u001b[38;5;129;01mand\u001b[39;00m \u001b[38;5;124m\"\u001b[39m\u001b[38;5;124mb\u001b[39m\u001b[38;5;124m\"\u001b[39m \u001b[38;5;129;01mnot\u001b[39;00m \u001b[38;5;129;01min\u001b[39;00m ioargs\u001b[38;5;241m.\u001b[39mmode:\n\u001b[1;32m    855\u001b[0m         \u001b[38;5;66;03m# Encoding\u001b[39;00m\n\u001b[0;32m--> 856\u001b[0m         handle \u001b[38;5;241m=\u001b[39m \u001b[38;5;28;43mopen\u001b[39;49m\u001b[43m(\u001b[49m\n\u001b[1;32m    857\u001b[0m \u001b[43m            \u001b[49m\u001b[43mhandle\u001b[49m\u001b[43m,\u001b[49m\n\u001b[1;32m    858\u001b[0m \u001b[43m            \u001b[49m\u001b[43mioargs\u001b[49m\u001b[38;5;241;43m.\u001b[39;49m\u001b[43mmode\u001b[49m\u001b[43m,\u001b[49m\n\u001b[1;32m    859\u001b[0m \u001b[43m            \u001b[49m\u001b[43mencoding\u001b[49m\u001b[38;5;241;43m=\u001b[39;49m\u001b[43mioargs\u001b[49m\u001b[38;5;241;43m.\u001b[39;49m\u001b[43mencoding\u001b[49m\u001b[43m,\u001b[49m\n\u001b[1;32m    860\u001b[0m \u001b[43m            \u001b[49m\u001b[43merrors\u001b[49m\u001b[38;5;241;43m=\u001b[39;49m\u001b[43merrors\u001b[49m\u001b[43m,\u001b[49m\n\u001b[1;32m    861\u001b[0m \u001b[43m            \u001b[49m\u001b[43mnewline\u001b[49m\u001b[38;5;241;43m=\u001b[39;49m\u001b[38;5;124;43m\"\u001b[39;49m\u001b[38;5;124;43m\"\u001b[39;49m\u001b[43m,\u001b[49m\n\u001b[1;32m    862\u001b[0m \u001b[43m        \u001b[49m\u001b[43m)\u001b[49m\n\u001b[1;32m    863\u001b[0m     \u001b[38;5;28;01melse\u001b[39;00m:\n\u001b[1;32m    864\u001b[0m         \u001b[38;5;66;03m# Binary mode\u001b[39;00m\n\u001b[1;32m    865\u001b[0m         handle \u001b[38;5;241m=\u001b[39m \u001b[38;5;28mopen\u001b[39m(handle, ioargs\u001b[38;5;241m.\u001b[39mmode)\n",
      "\u001b[0;31mFileNotFoundError\u001b[0m: [Errno 2] No such file or directory: './../build/plot_819580-1.cvs'"
     ]
    }
   ],
   "source": [
    "#importing data \n",
    "lcurve1=pd.read_csv('build/plot_345970-1.cvs',\n",
    "encoding='latin-1',\n",
    "    sep=\";\"\n",
    ")\n",
    "print(lcurve1)\n",
    "print(\"\\n\")\n",
    "lcurve2=pd.read_csv('build/plot_819580-1.cvs',\n",
    "encoding='latin-1',\n",
    "    sep=\";\"\n",
    ")\n",
    "print(lcurve2)\n",
    "\n",
    "print(\"\\n\")\n",
    "lcurve3=pd.read_csv('build/plot_903940-1.cvs',\n",
    "encoding='latin-1',\n",
    "    sep=\";\"\n",
    ")\n",
    "print(lcurve3)\n",
    "\n",
    "print(\"\\n\")\n",
    "lcurve4=pd.read_csv('build/plot_916350-1.cvs',\n",
    "encoding='latin-1',\n",
    "    sep=\";\"\n",
    ")\n",
    "print(lcurve4)\n",
    "\n",
    "print(\"\\n\")\n",
    "lcurve5=pd.read_csv('build/plot_960520-1.cvs',\n",
    "encoding='latin-1',\n",
    "    sep=\";\"\n",
    ")\n",
    "print(lcurve5)\n"
   ]
  },
  {
   "cell_type": "code",
   "execution_count": null,
   "metadata": {},
   "outputs": [],
   "source": [
    "#\n",
    "frames = [lcurve1, lcurve2, lcurve3,lcurve4,lcurve5]\n",
    "result = pd.concat(frames)"
   ]
  },
  {
   "cell_type": "code",
   "execution_count": null,
   "metadata": {},
   "outputs": [],
   "source": [
    "lcurve1.columns\n"
   ]
  },
  {
   "cell_type": "code",
   "execution_count": null,
   "metadata": {},
   "outputs": [],
   "source": [
    "lcurve2.columns"
   ]
  },
  {
   "cell_type": "code",
   "execution_count": null,
   "metadata": {},
   "outputs": [],
   "source": [
    "lcurve3.columns"
   ]
  },
  {
   "cell_type": "code",
   "execution_count": null,
   "metadata": {},
   "outputs": [],
   "source": [
    "lcurve4.columns"
   ]
  },
  {
   "cell_type": "code",
   "execution_count": null,
   "metadata": {},
   "outputs": [],
   "source": [
    "lcurve5.columns"
   ]
  },
  {
   "cell_type": "code",
   "execution_count": null,
   "metadata": {},
   "outputs": [],
   "source": [
    "#column for normalized hardness ratio on total counts.\n",
    "lcurve1['H-S/H+S']  = (lcurve1['1.5-10keV'] - lcurve1['0.3-1.5keV']) / (lcurve1['1.5-10keV'] + lcurve1['0.3-1.5keV'])\n",
    "lcurve2['H-S/H+S']  = (lcurve2['1.5-10keV'] - lcurve2['0.3-1.5keV']) / (lcurve2['1.5-10keV'] + lcurve2['0.3-1.5keV'])\n",
    "lcurve3['H-S/H+S']  = (lcurve3['1.5-10keV'] - lcurve3['0.3-1.5keV']) / (lcurve3['1.5-10keV'] + lcurve3['0.3-1.5keV'])\n",
    "lcurve4['H-S/H+S']  = (lcurve4['1.5-10keV'] - lcurve4['0.3-1.5keV']) / (lcurve4['1.5-10keV'] + lcurve4['0.3-1.5keV'])\n",
    "lcurve5['H-S/H+S']  = (lcurve5['1.5-10keV'] - lcurve5['0.3-1.5keV']) / (lcurve5['1.5-10keV'] + lcurve5['0.3-1.5keV'])"
   ]
  },
  {
   "cell_type": "code",
   "execution_count": null,
   "metadata": {},
   "outputs": [],
   "source": [
    "#single terms for error propagation\n",
    "a_err = ((2*lcurve1['0.3-1.5keV'])/((lcurve1['0.3-1.5keV'] + lcurve1['1.5-10keV'])**2)*(lcurve1['1.5-10keV_err']))\n",
    "b_err = ((2*lcurve1['1.5-10keV'])/((lcurve1['0.3-1.5keV'] + lcurve1['1.5-10keV'])**2)*(lcurve1['0.3-1.5keV_err']))\n",
    "\n",
    "a_err2 = ((2*lcurve2['0.3-1.5keV'])/((lcurve2['0.3-1.5keV'] + lcurve2['1.5-10keV'])**2)*(lcurve2['1.5-10keV_err']))\n",
    "b_err2 = ((2*lcurve2['1.5-10keV'])/((lcurve2['0.3-1.5keV'] + lcurve2['1.5-10keV'])**2)*(lcurve2['0.3-1.5keV_err']))\n",
    "\n",
    "a_err3 = ((2*lcurve3['0.3-1.5keV'])/((lcurve3['0.3-1.5keV'] + lcurve3['1.5-10keV'])**2)*(lcurve3['1.5-10keV_err']))\n",
    "b_err3 = ((2*lcurve3['1.5-10keV'])/((lcurve3['0.3-1.5keV'] + lcurve3['1.5-10keV'])**2)*(lcurve3['0.3-1.5keV_err']))\n",
    "\n",
    "a_err4 = ((2*lcurve4['0.3-1.5keV'])/((lcurve4['0.3-1.5keV'] + lcurve4['1.5-10keV'])**2)*(lcurve4['1.5-10keV_err']))\n",
    "b_err4 = ((2*lcurve4['1.5-10keV'])/((lcurve4['0.3-1.5keV'] + lcurve4['1.5-10keV'])**2)*(lcurve4['0.3-1.5keV_err']))\n",
    "\n",
    "a_err5 = ((2*lcurve5['0.3-1.5keV'])/((lcurve5['0.3-1.5keV'] + lcurve5['1.5-10keV'])**2)*(lcurve5['1.5-10keV_err']))\n",
    "b_err5 = ((2*lcurve5['1.5-10keV'])/((lcurve5['0.3-1.5keV'] + lcurve5['1.5-10keV'])**2)*(lcurve5['0.3-1.5keV_err']))"
   ]
  },
  {
   "cell_type": "code",
   "execution_count": null,
   "metadata": {},
   "outputs": [],
   "source": [
    "#taking the sum of squares, and defining the error columns\n",
    "normHR_err = np.sqrt(a_err**2 + b_err**2)\n",
    "lcurve1['normHR_err'] = normHR_err\n",
    "\n",
    "normHR_err2 = np.sqrt(a_err2**2 + b_err2**2)\n",
    "lcurve2['normHR_err'] = normHR_err2\n",
    "\n",
    "normHR_err3 = np.sqrt(a_err3**2 + b_err3**2)\n",
    "lcurve3['normHR_err'] = normHR_err3\n",
    "\n",
    "normHR_err4 = np.sqrt(a_err4**2 + b_err4**2)\n",
    "lcurve4['normHR_err'] = normHR_err4\n",
    "\n",
    "normHR_err5 = np.sqrt(a_err5**2 + b_err5**2)\n",
    "lcurve5['normHR_err'] = normHR_err5"
   ]
  },
  {
   "cell_type": "code",
   "execution_count": null,
   "metadata": {},
   "outputs": [],
   "source": [
    "#Selecting the zeroth-elemtent of the time matrix for each data set\n",
    "lcurve1[\"Time\"]\n",
    "matrix = lcurve1.to_numpy()\n",
    "t0 = matrix[0][0]\n",
    "print(t0)\n",
    "#t0 = 'Time'[1;1]\n",
    "\n",
    "matrix2 = lcurve2.to_numpy()\n",
    "t02 = matrix2[0][0]\n",
    "\n",
    "matrix3 = lcurve3.to_numpy()\n",
    "t03 = matrix3[0][0]\n",
    "\n",
    "matrix4 = lcurve4.to_numpy()\n",
    "t04 = matrix4[0][0]\n",
    "\n",
    "matrix5 = lcurve5.to_numpy()\n",
    "t05 = matrix5[0][0]\n",
    "print(t03)"
   ]
  },
  {
   "cell_type": "code",
   "execution_count": null,
   "metadata": {},
   "outputs": [],
   "source": [
    "result_matrix = result.to_numpy\n",
    "print(result_matrix)"
   ]
  },
  {
   "cell_type": "code",
   "execution_count": null,
   "metadata": {},
   "outputs": [],
   "source": [
    "#subtracting time-0 of the earliest campaign to all data sets. \n",
    "lcurve1['Time'] = lcurve1['Time'] - t03\n",
    "lcurve2['Time'] = lcurve2['Time'] - t03\n",
    "lcurve3['Time'] = lcurve3['Time'] - t03\n",
    "lcurve4['Time'] = lcurve4['Time'] - t03\n",
    "lcurve5['Time'] = lcurve5['Time'] - t03\n",
    "\n",
    "#printing Time values in order to set boundaries for each campaign\n",
    "lcurve1[\"Time\"]"
   ]
  },
  {
   "cell_type": "code",
   "execution_count": null,
   "metadata": {},
   "outputs": [],
   "source": [
    "lcurve2[\"Time\"]\n",
    "\n"
   ]
  },
  {
   "cell_type": "code",
   "execution_count": null,
   "metadata": {},
   "outputs": [],
   "source": [
    "lcurve3[\"Time\"]"
   ]
  },
  {
   "cell_type": "code",
   "execution_count": null,
   "metadata": {},
   "outputs": [],
   "source": [
    "lcurve4[\"Time\"]"
   ]
  },
  {
   "cell_type": "code",
   "execution_count": null,
   "metadata": {},
   "outputs": [],
   "source": [
    "lcurve5[\"Time\"]"
   ]
  },
  {
   "cell_type": "code",
   "execution_count": null,
   "metadata": {},
   "outputs": [],
   "source": [
    "#Plotting HR for individual sets of observations\n",
    "x1 = lcurve1['Time']\n",
    "xerr1 = lcurve1['time_err']\n",
    "y1 = lcurve1['HR']\n",
    "yerr1 = lcurve1['HR_err']\n",
    "\n",
    "plt.errorbar(lcurve1['Time']-t0,y1,xerr=xerr1,yerr=yerr1, color='r', marker='.', label='obs1', linestyle='None')\n",
    "\n",
    "\n",
    "x2 = lcurve2['Time']\n",
    "xerr2 = lcurve2['time_err']\n",
    "y2 = lcurve2['HR']\n",
    "yerr2 = lcurve2['HR_err']\n",
    "\n",
    "plt.errorbar(lcurve2['Time']-t0, y2,xerr=xerr2,yerr=yerr2, color='b', marker='.', label='obs2',linestyle='None')\n",
    "\n",
    "\n",
    "x3 = lcurve3['Time']\n",
    "xerr3 = lcurve3['time_err']\n",
    "y3 = lcurve3['HR']\n",
    "yerr3 = lcurve3['HR_err']\n",
    "\n",
    "#plt.errorbar(x3, y3,xerr=xerr3,yerr=yerr3, color='g', marker='.', label='obs3',linestyle='None')\n",
    "\n",
    "\n",
    "plt.legend()\n",
    "plt.xlabel('Time [days]')\n",
    "plt.ylabel('HR')\n",
    "plt.show()"
   ]
  },
  {
   "cell_type": "code",
   "execution_count": null,
   "metadata": {},
   "outputs": [],
   "source": [
    "#Plotting HR as a function of counts for all observations\n",
    "# c = H + S are counts and 'counts' is the error on counts\n",
    "lcurve1['c']  = (lcurve1['1.5-10keV'] + lcurve1['0.3-1.5keV'])\n",
    "lcurve2['c']  = (lcurve2['1.5-10keV'] + lcurve2['0.3-1.5keV'])\n",
    "lcurve3['c']  = (lcurve3['1.5-10keV'] + lcurve3['0.3-1.5keV'])\n",
    "lcurve4['c']  = (lcurve4['1.5-10keV'] + lcurve4['0.3-1.5keV'])\n",
    "lcurve5['c']  = (lcurve5['1.5-10keV'] + lcurve5['0.3-1.5keV'])\n",
    "\n",
    "#computing the error on H+S\n",
    "lcurve1['counts'] = np.sqrt(lcurve1['1.5-10keV_err']**2 + lcurve1['0.3-1.5keV_err']**2)\n",
    "lcurve2['counts'] = np.sqrt(lcurve2['1.5-10keV_err']**2 + lcurve2['0.3-1.5keV_err']**2)\n",
    "lcurve3['counts'] = np.sqrt(lcurve3['1.5-10keV_err']**2 + lcurve3['0.3-1.5keV_err']**2)\n",
    "lcurve4['counts'] = np.sqrt(lcurve4['1.5-10keV_err']**2 + lcurve4['0.3-1.5keV_err']**2)\n",
    "lcurve5['counts'] = np.sqrt(lcurve5['1.5-10keV_err']**2 + lcurve5['0.3-1.5keV_err']**2)\n",
    "\n",
    "\n",
    "plt.errorbar(lcurve1['c'],lcurve1['HR'],xerr=lcurve1['counts'],yerr=lcurve1['HR_err'], color='r', marker='.', linestyle='None')\n",
    "plt.errorbar(lcurve2['c'], lcurve2['HR'],xerr=lcurve2['counts'],yerr=lcurve2['HR_err'], color='b', marker='.', linestyle='None')\n",
    "plt.errorbar(lcurve3['c'],lcurve3['HR'],xerr=lcurve3['counts'],yerr=lcurve3['HR_err'], color='g', marker='.', linestyle='None')\n",
    "plt.errorbar(lcurve4['c'],lcurve4['HR'],xerr=lcurve4['counts'],yerr=lcurve4['HR_err'], color='c', marker='.', linestyle='None')\n",
    "plt.errorbar(lcurve5['c'],lcurve5['HR'],xerr=lcurve5['counts'],yerr=lcurve5['HR_err'], color='y', marker='.', linestyle='None')\n",
    "\n",
    "\n",
    "plt.xlabel('Counts')\n",
    "plt.ylabel('HR')\n",
    "plt.show()"
   ]
  },
  {
   "cell_type": "code",
   "execution_count": null,
   "metadata": {},
   "outputs": [],
   "source": [
    "#Plotting normalized HR as a function of counts for all observations\n",
    "    \n",
    "plt.errorbar(lcurve1['1.5-10keV'],lcurve1['H-S/H+S'],xerr=lcurve1['1.5-10keV_err'],yerr=lcurve1['normHR_err'], color='r', marker='.', linestyle='None')\n",
    "plt.errorbar(lcurve2['1.5-10keV'], lcurve2['H-S/H+S'],xerr=lcurve2['1.5-10keV_err'],yerr=lcurve2['normHR_err'], color='b', marker='.', linestyle='None')\n",
    "plt.errorbar(lcurve3['1.5-10keV'],lcurve3['H-S/H+S'],xerr=lcurve3['1.5-10keV_err'],yerr=lcurve3['normHR_err'], color='g', marker='.', linestyle='None')\n",
    "plt.errorbar(lcurve4['1.5-10keV'],lcurve4['H-S/H+S'],xerr=lcurve4['1.5-10keV_err'],yerr=lcurve4['normHR_err'], color='c', marker='.', linestyle='None')\n",
    "plt.errorbar(lcurve5['1.5-10keV'],lcurve5['H-S/H+S'],xerr=lcurve5['1.5-10keV_err'],yerr=lcurve5['normHR_err'], color='y', marker='.', linestyle='None')\n",
    "\n",
    "plt.xscale('log')\n",
    "plt.xlabel('cts 0.3-1.5 keV')\n",
    "plt.ylabel(r'$\\frac{{H-S}}{{H+S}}$')\n",
    "plt.show()"
   ]
  },
  {
   "cell_type": "code",
   "execution_count": null,
   "metadata": {},
   "outputs": [],
   "source": [
    "#Plotting normalized HR as a function of counts for all observations\n",
    "    \n",
    "plt.errorbar(lcurve1['0.3-1.5keV'],lcurve1['H-S/H+S'],xerr=lcurve1['0.3-1.5keV_err'],yerr=lcurve1['normHR_err'], color='r', marker='.', linestyle='None')\n",
    "plt.errorbar(lcurve2['0.3-1.5keV'], lcurve2['H-S/H+S'],xerr=lcurve2['0.3-1.5keV_err'],yerr=lcurve2['normHR_err'], color='b', marker='.', linestyle='None')\n",
    "plt.errorbar(lcurve3['0.3-1.5keV'],lcurve3['H-S/H+S'],xerr=lcurve3['0.3-1.5keV_err'],yerr=lcurve3['normHR_err'], color='g', marker='.', linestyle='None')\n",
    "plt.errorbar(lcurve4['0.3-1.5keV'],lcurve4['H-S/H+S'],xerr=lcurve4['0.3-1.5keV_err'],yerr=lcurve4['normHR_err'], color='c', marker='.', linestyle='None')\n",
    "plt.errorbar(lcurve5['0.3-1.5keV'],lcurve5['H-S/H+S'],xerr=lcurve5['0.3-1.5keV_err'],yerr=lcurve5['normHR_err'], color='y', marker='.', linestyle='None')\n",
    "\n",
    "plt.xscale('log')\n",
    "plt.xlabel('cts 1.5-10 keV')\n",
    "plt.ylabel(r'$\\frac{{H-S}}{{H+S}}$')\n",
    "plt.show()"
   ]
  },
  {
   "cell_type": "code",
   "execution_count": null,
   "metadata": {},
   "outputs": [],
   "source": [
    "plt.errorbar(lcurve1['Time'],lcurve1['c'],xerr=lcurve1['time_err'],yerr=lcurve1['counts'], color='r', marker='.', linestyle='None')\n",
    "plt.errorbar(lcurve2['Time'],lcurve2['c'],xerr=lcurve2['time_err'],yerr=lcurve2['counts'], color='b', marker='.', linestyle='None')\n",
    "plt.errorbar(lcurve3['Time'],lcurve3['c'],xerr=lcurve3['time_err'],yerr=lcurve3['counts'], color='g', marker='.', linestyle='None')\n",
    "plt.errorbar(lcurve4['Time'],lcurve4['c'],xerr=lcurve4['time_err'],yerr=lcurve4['counts'], color='c', marker='.', linestyle='None')\n",
    "plt.errorbar(lcurve5['Time'],lcurve5['c'],xerr=lcurve5['time_err'],yerr=lcurve5['counts'], color='y', marker='.', linestyle='None')\n",
    "\n",
    "\n",
    "plt.xlabel('time')\n",
    "plt.ylabel('cts')\n",
    "plt.show()"
   ]
  },
  {
   "cell_type": "code",
   "execution_count": null,
   "metadata": {},
   "outputs": [],
   "source": [
    "#Plotting normalized HR as a function of counts for all observations\n",
    "    \n",
    "plt.errorbar(lcurve1['c'],lcurve1['H-S/H+S'],xerr=lcurve1['counts'],yerr=lcurve1['normHR_err'], color='r', marker='.', linestyle='None')\n",
    "plt.errorbar(lcurve2['c'], lcurve2['H-S/H+S'],xerr=lcurve2['counts'],yerr=lcurve2['normHR_err'], color='b', marker='.', linestyle='None')\n",
    "plt.errorbar(lcurve3['c'],lcurve3['H-S/H+S'],xerr=lcurve3['counts'],yerr=lcurve3['normHR_err'], color='g', marker='.', linestyle='None')\n",
    "plt.errorbar(lcurve4['c'],lcurve4['H-S/H+S'],xerr=lcurve4['counts'],yerr=lcurve4['normHR_err'], color='c', marker='.', linestyle='None')\n",
    "plt.errorbar(lcurve5['c'],lcurve5['H-S/H+S'],xerr=lcurve5['counts'],yerr=lcurve5['normHR_err'], color='y', marker='.', linestyle='None')\n",
    "\n",
    "\n",
    "plt.xlabel('Counts')\n",
    "plt.ylabel(r'$\\frac{{H-S}}{{H+S}}$')\n",
    "plt.show()"
   ]
  },
  {
   "cell_type": "code",
   "execution_count": null,
   "metadata": {},
   "outputs": [],
   "source": [
    "#Plotting normalized HR for individual sets of observations\n",
    "# ! to set the origin of the x-axis in zero change the time vector, by subtracting the relevant t0 for each data set. \n",
    "lcurve1.plot(x ='Time',xerr='time_err', y='H-S/H+S', yerr='normHR_err', linewidth=2, kind = 'scatter',figsize=(15,5))\n",
    "#plt.savefig(\"LC_norm_HR1.pdf\") \n",
    "plt.show()"
   ]
  },
  {
   "cell_type": "code",
   "execution_count": null,
   "metadata": {},
   "outputs": [],
   "source": [
    "# Plotting normalized HR for all data sets together\n",
    "x1 = lcurve1['Time']\n",
    "xerr1 = lcurve1['time_err']\n",
    "y1 = lcurve1['H-S/H+S']\n",
    "yerr1 = lcurve1['normHR_err']\n",
    "\n",
    "plt.errorbar(x1,y1,xerr=xerr1,yerr=yerr1, color='r', marker='.',markersize=3,linewidth=0.5, label='obs1', linestyle='None')\n",
    "#plt.xscale('log')\n",
    "\n",
    "x2 = lcurve2['Time']\n",
    "xerr2 = lcurve2['time_err']\n",
    "y2 = lcurve2['H-S/H+S']\n",
    "yerr2 = lcurve2['normHR_err']\n",
    "\n",
    "plt.errorbar(x2, y2,xerr=xerr2,yerr=yerr2, color='b', marker='.',markersize=3,linewidth=0.5, label='obs2',linestyle='None')\n",
    "\n",
    "x3 = lcurve3['Time']\n",
    "xerr3 = lcurve3['time_err']\n",
    "y3 = lcurve3['H-S/H+S']\n",
    "yerr3 = lcurve3['normHR_err']\n",
    "\n",
    "plt.errorbar(x3, y3,xerr=xerr3,yerr=yerr3, color='g', marker='.',markersize=3,linewidth=0.5, label='obs3',linestyle='None')\n",
    "\n",
    "\n",
    "x4 = lcurve4['Time']\n",
    "xerr4 = lcurve4['time_err']\n",
    "y4 = lcurve4['H-S/H+S']\n",
    "yerr4 = lcurve4['normHR_err']\n",
    "\n",
    "plt.errorbar(x4, y4,xerr=xerr4,yerr=yerr4, color='c', marker='.',markersize=3,linewidth=0.5, label='obs4',linestyle='None')\n",
    "\n",
    "x5 = lcurve5['Time']\n",
    "xerr5 = lcurve5['time_err']\n",
    "y5 = lcurve5['H-S/H+S']\n",
    "yerr5 = lcurve5['normHR_err']\n",
    "\n",
    "plt.errorbar(x5, y5,xerr=xerr5,yerr=yerr5, color='y', marker='.',markersize=3,linewidth=0.5, label='obs5',linestyle='None')\n",
    "\n",
    "\n",
    "plt.legend()\n",
    "plt.xlabel('Time [days]')\n",
    "plt.ylabel(r'$\\frac{{H-S}}{{H+S}}$')\n",
    "plt.savefig(\"LC_HR_tot.pdf\")\n",
    "plt.show()"
   ]
  },
  {
   "cell_type": "code",
   "execution_count": null,
   "metadata": {},
   "outputs": [],
   "source": [
    "#crating a big matrix with all data\n",
    "finaldf = pd.concat([lcurve1,lcurve2,lcurve3,lcurve4,lcurve5])\n"
   ]
  },
  {
   "cell_type": "code",
   "execution_count": null,
   "metadata": {},
   "outputs": [],
   "source": [
    "#only selecting observations with specific characteristics: soft, hard and bright \n",
    "finaldf_hard=finaldf.query('HR >= 0.255')\n",
    "finaldf_soft=finaldf.query('HR <= 0.07')\n",
    "finaldf_bright=finaldf.query('c >= 0.22')\n",
    "finaldf_faint=finaldf.query('c <= 0.075')\n",
    "finaldf_faint_soft=finaldf.query('`0.3-1.5keV` <= 0.06 and `H-S/H+S` <= -0.85')\n",
    "finaldf_faint_hard=finaldf.query('`1.5-10keV` <= 0.02 and `H-S/H+S` >= -0.65')\n",
    "finaldf_hard2=finaldf.query('`H-S/H+S` >= -0.65')\n",
    "#printing the data relative to the selected observations, we are interested in recovering the ID to extract the spectra. \n",
    "print(finaldf_faint)\n",
    "print(finaldf_faint['ID'])"
   ]
  },
  {
   "cell_type": "code",
   "execution_count": null,
   "metadata": {},
   "outputs": [],
   "source": [
    "#reseparating the observations by time ranges\n",
    "finaldf_filteredobs1=finaldf.query('Time < 400')\n",
    "finaldf_filteredobs2=finaldf.query('1400<=Time <1450')\n",
    "#qui separo una per una le osservazioni della campagna 819580 perché con i connettori logici mi sono incartata\n",
    "finaldf_filteredobs3=finaldf.query('Time == 2284.40985')\n",
    "finaldf_filteredobs6=finaldf.query('Time == 2286.73985')\n",
    "finaldf_filteredobs7=finaldf.query('Time == 2307.82985')\n",
    "finaldf_filteredobs8=finaldf.query('Time == 2309.45985')\n",
    "finaldf_filteredobs9=finaldf.query('Time == 2314.16985')\n",
    "\n",
    "finaldf_filteredobs4=finaldf.query('2250<=Time <2350')\n",
    "finaldf_filteredobs5=finaldf.query('4050<=Time <4200')\n",
    "\n"
   ]
  },
  {
   "cell_type": "code",
   "execution_count": null,
   "metadata": {},
   "outputs": [],
   "source": [
    "from matplotlib import cm\n",
    "import matplotlib.gridspec as gridspec\n",
    "\n",
    "fig,(ax1,ax2,ax3,ax4) = plt.subplots(1, 4, figsize=(15,5), sharey=True)\n",
    "\n",
    "ax1.yaxis.tick_left()\n",
    "ax3.yaxis.set_ticks_position('none')\n",
    "ax2.spines['left'].set_visible(False)\n",
    "ax2.yaxis.set_ticks_position('none')\n",
    "\n",
    "ax2.xaxis.set_ticks(np.arange(1425,1430,40))\n",
    "ax3.xaxis.set_ticks(np.arange(2280,2325,40))\n",
    "ax4.xaxis.set_ticks(np.arange(4070,4200,40))\n",
    "\n",
    "# removes the division line between subplots\n",
    "ax2.spines['right'].set_visible(False)\n",
    "ax3.spines['right'].set_visible(False)\n",
    "ax3.spines['left'].set_visible(False)\n",
    "ax4.spines['left'].set_visible(False)\n",
    "\n",
    "## removes x and y ticks \n",
    "##ax1.set_xticks(ax.get_xticks()[::1])\n",
    "##ax2.set_xticks(ax.get_xticks()[::2])\n",
    "##\n",
    "##ax3.set_xticks(ax.get_xticks()[::2])\n",
    "##\n",
    "##ax4.set_xticks(ax.get_xticks()[::2])\n",
    "##\n",
    "#\n",
    "##ax2.yaxis.set_ticks([])\n",
    "##ax3.yaxis.set_ticks([])\n",
    "#\n",
    "#\n",
    "##ax1.set_xlabel(labelcolor='none')\n",
    "##ax2.yaxis.tick_right()\n",
    "##ax3.yaxis.tick_right()\n",
    "\n",
    "\n",
    "##setting x ranges (limits)\n",
    "ax4.yaxis.tick_right()\n",
    "ax1.set_xlim(-10,400) # most of the data\n",
    "ax2.set_xlim(1410,1450) # outliers only\n",
    "ax3.set_xlim(2280,2325) # outliers only\n",
    "ax4.set_xlim(4070,4155) # outliers only\n",
    "ax1.spines['right'].set_visible(False) \n",
    "\n",
    "#plotting data\n",
    "ax = finaldf_filteredobs1.plot(x ='Time',xerr='time_err', y='H-S/H+S', yerr='normHR_err', marker=\"s\",s=20, color=\"g\" , fontsize=18,kind = 'scatter', ax=ax1, figsize=(15,5))\n",
    "#removing the single labels under each suplot\n",
    "ax.set_xlabel('')\n",
    "#setting y label\n",
    "ax.set_ylabel(r'$\\frac{{H-S}}{{H+S}}$', fontsize=18)\n",
    "ax =finaldf_filteredobs2.plot(x ='Time',xerr='time_err', y='H-S/H+S', yerr='normHR_err', marker=\"s\",s=20, color=\"c\" ,fontsize=18, kind = 'scatter', ax=ax2, figsize=(15,5))\n",
    "ax.set_xlabel('')\n",
    "ax =finaldf_filteredobs4.plot(x ='Time',xerr='time_err', y='H-S/H+S', yerr='normHR_err', marker=\"s\",s=20, color=\"r\" ,fontsize=18, kind = 'scatter', ax=ax3, figsize=(15,5))\n",
    "ax =finaldf_filteredobs3.plot(x ='Time',xerr='time_err', y='H-S/H+S', yerr='normHR_err', marker=\"s\",s=20, color=\"b\" ,fontsize=18, kind = 'scatter', ax=ax3, figsize=(15,5))\n",
    "ax =finaldf_filteredobs9.plot(x ='Time',xerr='time_err', y='H-S/H+S', yerr='normHR_err', marker=\"s\",s=20, color=\"b\" ,fontsize=18, kind = 'scatter', ax=ax3, figsize=(15,5))\n",
    "ax =finaldf_filteredobs6.plot(x ='Time',xerr='time_err', y='H-S/H+S', yerr='normHR_err', marker=\"s\",s=20, color=\"b\" ,fontsize=18, kind = 'scatter', ax=ax3, figsize=(15,5))\n",
    "ax =finaldf_filteredobs7.plot(x ='Time',xerr='time_err', y='H-S/H+S', yerr='normHR_err', marker=\"s\",s=20, color=\"b\" ,fontsize=18, kind = 'scatter', ax=ax3, figsize=(15,5))\n",
    "ax =finaldf_filteredobs8.plot(x ='Time',xerr='time_err', y='H-S/H+S', yerr='normHR_err', marker=\"s\",s=20, color=\"b\" ,fontsize=18, kind = 'scatter', ax=ax3, figsize=(15,5))\n",
    "ax.set_xlabel('')\n",
    "ax =finaldf_filteredobs5.plot(x ='Time',xerr='time_err', y='H-S/H+S', yerr='normHR_err', marker=\"s\",s=20, color=\"y\" ,fontsize=16, kind = 'scatter', ax=ax4, figsize=(15,5))\n",
    "ax.set_xlabel('')\n",
    "\n",
    "#setting a common xlabel and saving figure\n",
    "fig.text(0.5, 0.01, 'Time [days]', ha='center', fontsize=16)\n",
    "plt.savefig(\"LC_spines.pdf\")\n"
   ]
  },
  {
   "cell_type": "code",
   "execution_count": null,
   "metadata": {},
   "outputs": [],
   "source": [
    "#add cts"
   ]
  },
  {
   "cell_type": "code",
   "execution_count": null,
   "metadata": {},
   "outputs": [],
   "source": [
    "from matplotlib import cm\n",
    "import matplotlib.gridspec as gridspec\n",
    "\n",
    "fig,(ax1,ax2,ax3,ax4) = plt.subplots(1, 4, figsize=(15,5), sharey=True)\n",
    "\n",
    "ax1.yaxis.tick_left()\n",
    "ax3.yaxis.set_ticks_position('none')\n",
    "ax2.spines['left'].set_visible(False)\n",
    "ax2.yaxis.set_ticks_position('none')\n",
    "\n",
    "ax2.xaxis.set_ticks(np.arange(1425,1430,40))\n",
    "ax3.xaxis.set_ticks(np.arange(2280,2325,40))\n",
    "ax4.xaxis.set_ticks(np.arange(4070,4200,40))\n",
    "\n",
    "# removes the division line between subplots\n",
    "ax2.spines['right'].set_visible(False)\n",
    "ax3.spines['right'].set_visible(False)\n",
    "ax3.spines['left'].set_visible(False)\n",
    "ax4.spines['left'].set_visible(False)\n",
    "\n",
    "## removes x and y ticks \n",
    "##ax1.set_xticks(ax.get_xticks()[::1])\n",
    "##ax2.set_xticks(ax.get_xticks()[::2])\n",
    "##\n",
    "##ax3.set_xticks(ax.get_xticks()[::2])\n",
    "##\n",
    "##ax4.set_xticks(ax.get_xticks()[::2])\n",
    "##\n",
    "#\n",
    "##ax2.yaxis.set_ticks([])\n",
    "##ax3.yaxis.set_ticks([])\n",
    "#\n",
    "#\n",
    "##ax1.set_xlabel(labelcolor='none')\n",
    "##ax2.yaxis.tick_right()\n",
    "##ax3.yaxis.tick_right()\n",
    "\n",
    "\n",
    "##setting x ranges (limits)\n",
    "ax4.yaxis.tick_right()\n",
    "ax1.set_xlim(-10,400) # most of the data\n",
    "ax2.set_xlim(1410,1450) # outliers only\n",
    "ax3.set_xlim(2280,2325) # outliers only\n",
    "ax4.set_xlim(4070,4155) # outliers only\n",
    "ax1.spines['right'].set_visible(False) \n",
    "\n",
    "#plotting data\n",
    "ax = finaldf_filteredobs1.plot(x ='Time',xerr='time_err', y='c', yerr='counts', marker=\"s\",s=20, color=\"g\" , fontsize=18,kind = 'scatter', ax=ax1, figsize=(15,5))\n",
    "#removing the single labels under each suplot\n",
    "ax.set_xlabel('')\n",
    "#setting y label\n",
    "ax.set_ylabel('cts', fontsize=18)\n",
    "ax =finaldf_filteredobs2.plot(x ='Time',xerr='time_err', y='c', yerr='counts', marker=\"s\",s=20, color=\"c\" ,fontsize=18, kind = 'scatter', ax=ax2, figsize=(15,5))\n",
    "ax.set_xlabel('')\n",
    "ax =finaldf_filteredobs4.plot(x ='Time',xerr='time_err', y='c', yerr='counts', marker=\"s\",s=20, color=\"r\" ,fontsize=18, kind = 'scatter', ax=ax3, figsize=(15,5))\n",
    "ax =finaldf_filteredobs3.plot(x ='Time',xerr='time_err', y='c', yerr='counts', marker=\"s\",s=20, color=\"b\" ,fontsize=18, kind = 'scatter', ax=ax3, figsize=(15,5))\n",
    "ax =finaldf_filteredobs9.plot(x ='Time',xerr='time_err', y='c', yerr='counts', marker=\"s\",s=20, color=\"b\" ,fontsize=18, kind = 'scatter', ax=ax3, figsize=(15,5))\n",
    "ax =finaldf_filteredobs6.plot(x ='Time',xerr='time_err', y='c', yerr='counts', marker=\"s\",s=20, color=\"b\" ,fontsize=18, kind = 'scatter', ax=ax3, figsize=(15,5))\n",
    "ax =finaldf_filteredobs7.plot(x ='Time',xerr='time_err', y='c', yerr='counts', marker=\"s\",s=20, color=\"b\" ,fontsize=18, kind = 'scatter', ax=ax3, figsize=(15,5))\n",
    "ax =finaldf_filteredobs8.plot(x ='Time',xerr='time_err', y='c', yerr='counts', marker=\"s\",s=20, color=\"b\" ,fontsize=18, kind = 'scatter', ax=ax3, figsize=(15,5))\n",
    "ax.set_xlabel('')\n",
    "ax =finaldf_filteredobs5.plot(x ='Time',xerr='time_err', y='c', yerr='counts', marker=\"s\",s=20, color=\"y\" ,fontsize=16, kind = 'scatter', ax=ax4, figsize=(15,5))\n",
    "ax.set_xlabel('')\n",
    "\n",
    "#setting a common xlabel and saving figure\n",
    "fig.text(0.5, 0.01, 'Time [days]', ha='center', fontsize=16)\n",
    "plt.savefig(\"cts_spines.pdf\")\n",
    "\n"
   ]
  },
  {
   "cell_type": "code",
   "execution_count": null,
   "metadata": {},
   "outputs": [],
   "source": [
    "#"
   ]
  },
  {
   "cell_type": "code",
   "execution_count": null,
   "metadata": {},
   "outputs": [],
   "source": [
    "#FINO A QUI"
   ]
  }
 ],
 "metadata": {
  "kernelspec": {
   "display_name": "Python 3 (ipykernel)",
   "language": "python",
   "name": "python3"
  },
  "language_info": {
   "codemirror_mode": {
    "name": "ipython",
    "version": 3
   },
   "file_extension": ".py",
   "mimetype": "text/x-python",
   "name": "python",
   "nbconvert_exporter": "python",
   "pygments_lexer": "ipython3",
   "version": "3.10.9"
  }
 },
 "nbformat": 4,
 "nbformat_minor": 4
}
